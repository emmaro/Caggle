{
 "cells": [
  {
   "cell_type": "code",
   "execution_count": 1,
   "metadata": {},
   "outputs": [],
   "source": [
    "import pandas as pd\n",
    "import numpy as np\n",
    "import seaborn as sns\n",
    "import matplotlib.pyplot as plt\n",
    "import matplotlib\n",
    "from datetime import datetime\n",
    "from sklearn.model_selection import train_test_split\n",
    "from sklearn.metrics import accuracy_score, roc_auc_score, confusion_matrix\n",
    "from catboost import Pool, CatBoostClassifier, cv"
   ]
  },
  {
   "cell_type": "markdown",
   "metadata": {},
   "source": [
    "# Data Prep"
   ]
  },
  {
   "cell_type": "code",
   "execution_count": 418,
   "metadata": {
    "pycharm": {
     "is_executing": true
    }
   },
   "outputs": [],
   "source": [
    "X_train = pd.read_csv('https://raw.githubusercontent.com/mkleinbort/Kaggle-COMPAS/main/train/X_train.csv', index_col='id')\n",
    "y_train = pd.read_csv('https://raw.githubusercontent.com/mkleinbort/Kaggle-COMPAS/main/train/y_train.csv', squeeze=True)\n",
    "X_test = pd.read_csv ('https://raw.githubusercontent.com/mkleinbort/Kaggle-COMPAS/main/test/X_test.csv')"
   ]
  },
  {
   "cell_type": "code",
   "execution_count": 419,
   "metadata": {
    "pycharm": {
     "is_executing": true
    }
   },
   "outputs": [],
   "source": [
    "df = X_train\n",
    "\n",
    "df = df.drop(['v_screening_date'], axis=1) # duplicate of 'screening_date'\n",
    "df = df.drop(['v_type_of_assessment'], axis=1) # duplicate of 'type_of_assessment'\n",
    "df = df.drop(['type_of_assessment'], axis=1) # 0 variance\n",
    "\n",
    "df['target'] = y_train.to_list() # set target row-wise (ignoring indices)"
   ]
  },
  {
   "cell_type": "code",
   "execution_count": 420,
   "metadata": {
    "pycharm": {
     "is_executing": true
    }
   },
   "outputs": [],
   "source": [
    "# Engineer a new targets \n",
    "df['target_int'] = df['target'].replace({'No-Recidivism': 0, 'Non-Violent': 1, 'Violent': 2}) # so we can do regression\n",
    "df['target_bool'] = df['target'].replace({'No-Recidivism': 0, 'Non-Violent': 1, 'Violent': 1}) # 0 - no-rec, 1 - rec\n",
    "target_cols = ['target', 'target_int', 'target_bool']"
   ]
  },
  {
   "cell_type": "code",
   "execution_count": 421,
   "metadata": {
    "pycharm": {
     "is_executing": true
    },
    "scrolled": true
   },
   "outputs": [
    {
     "data": {
      "text/plain": [
       "Index(['name', 'first', 'last', 'sex', 'date_of_birth', 'age', 'age_group',\n",
       "       'race', 'juv_fel_count', 'juv_misd_count', 'juv_other_count',\n",
       "       'priors_count', 'days_b_screening_arrest', 'c_jail_in', 'c_jail_out',\n",
       "       'c_offense_date', 'c_arrest_date', 'c_charge_degree', 'c_charge_desc',\n",
       "       'r_jail_in', 'r_jail_out', 'screening_date', 'in_custody',\n",
       "       'out_custody', 'start', 'target', 'target_int', 'target_bool'],\n",
       "      dtype='object')"
      ]
     },
     "execution_count": 421,
     "metadata": {},
     "output_type": "execute_result"
    }
   ],
   "source": [
    "df.columns"
   ]
  },
  {
   "cell_type": "code",
   "execution_count": 425,
   "metadata": {
    "pycharm": {
     "is_executing": true
    },
    "scrolled": false
   },
   "outputs": [],
   "source": [
    "# Engineer new date based features\n",
    "\n",
    "\"\"\"\n",
    "Custody: when someone is kept in prison until they go to court\n",
    "Screening:  involves  using  a  brief  instrument  to  quickly  capture basic information \n",
    "    about a person’s risk to reoffend and is  used  to  determine  if  a  more  comprehensive  assessment\n",
    "    is  warranted.  In  a  jail  setting,  everyone,  regardless  of  legal  status, should be screened \n",
    "    at booking.  Risk  screening  divides  the  jail  population  into  high-,  medium-,  and  low-risk \n",
    "    categories,  making  it  possible  to  direct  intervention  resources  first  to  the highest-risk individuals.\n",
    "\n",
    "\n",
    "\n",
    "- c_arrest_date and c_offense_date are mutually exclusive and one of them is 99.8% likely to be filled\n",
    "- c_arrest_date and c_are mutually exclusive\n",
    "- start is number of days between c_jail_in and c_jail_out, maybe worth engineering total hours/minutes between\n",
    "- screening_date is always filled\n",
    "\"\"\"\n",
    "\n",
    "\n",
    "\n",
    "days_cols = []\n",
    "\n",
    "def days_between(d1, d2):\n",
    "    try:\n",
    "        try:\n",
    "            d1 = datetime.strptime(d1, \"%Y-%m-%d\")\n",
    "        except ValueError:\n",
    "            d1 = datetime.strptime(d1, \"%Y-%m-%d %H:%M:%S\")\n",
    "            \n",
    "        try:\n",
    "            d2 = datetime.strptime(d2, \"%Y-%m-%d\")\n",
    "        except ValueError:\n",
    "            d2 = datetime.strptime(d2, \"%Y-%m-%d %H:%M:%S\")\n",
    "        return abs((d2 - d1).days)\n",
    "    except TypeError as e:\n",
    "        return None\n",
    "\n",
    "# mutually exclusive and one of them is always filled\n",
    "df['c_bad_date'] = df['c_arrest_date'].fillna(df['c_offense_date']).fillna(df['in_custody']).fillna(df['screening_date'])\n",
    "\n",
    "# how many days in custody\n",
    "df['custody_days'] = df.apply(lambda x: days_between(x.out_custody, x.in_custody), axis=1)\n",
    "\n",
    "# how quickly after going into custody did the person get screened (might indicate something?)\n",
    "df['in_custody_to_screening_days'] = df.apply(lambda x: days_between(x.in_custody, x.screening_date), axis=1)\n",
    "\n",
    "# questionable col because it is age related... Also corr=1 with age\n",
    "df['birth_to_bad_days'] = df.apply(lambda x: days_between(x.date_of_birth, x.c_bad_date), axis=1)\n",
    "\n",
    "# How many days passed until recitivism occcured. Golden feature!\n",
    "df['days_until_recitivism'] = df.apply(lambda x: days_between(x.c_jail_out, x.r_jail_in), axis=1)\n",
    "\n",
    "date_cols = [ \n",
    "    'c_arrest_date', \n",
    "    'c_offense_date',\n",
    "    'screening_date', \n",
    "    'in_custody', \n",
    "    'out_custody', \n",
    "    'date_of_birth',\n",
    "    'c_jail_in',\n",
    "    'c_jail_out',\n",
    "    'r_jail_in',\n",
    "    'r_jail_out',\n",
    "\n",
    "    # engineered\n",
    "    'c_bad_date'\n",
    "]\n",
    "\n",
    "duration_cols = [\n",
    "    'days_b_screening_arrest',\n",
    "    'custody_days',\n",
    "    'in_custody_to_screening_days',\n",
    "    'birth_to_bad_days',\n",
    "    'days_until_recitivism',\n",
    "]"
   ]
  },
  {
   "cell_type": "code",
   "execution_count": 426,
   "metadata": {
    "pycharm": {
     "is_executing": true
    }
   },
   "outputs": [],
   "source": [
    "# Has recidivism occured?\n",
    "df['has_r_jail_in'] = df['r_jail_in'].notna()\n",
    "df['has_r_jail_out'] = df['r_jail_out'].notna()"
   ]
  },
  {
   "cell_type": "code",
   "execution_count": 427,
   "metadata": {
    "pycharm": {
     "is_executing": true
    }
   },
   "outputs": [],
   "source": [
    "# fill missing values\n",
    "df['c_charge_desc'] = df['c_charge_desc'].fillna('missing') "
   ]
  },
  {
   "cell_type": "code",
   "execution_count": 436,
   "metadata": {
    "pycharm": {
     "is_executing": true,
     "name": "#%%\n"
    }
   },
   "outputs": [],
   "source": [
    "cols = [\n",
    "#     'name', useless\n",
    "#     'first', useless\n",
    "#     'last', useless\n",
    "#     'sex', # 0 importance + potential bias\n",
    "#     'date_of_birth', date\n",
    "#     'age', # innapropriate bias\n",
    "#     'age_group', # innapropriate bias\n",
    "#     'race', # innapropriate bias\n",
    "    'juv_fel_count',\n",
    "    'juv_misd_count', \n",
    "    'juv_other_count',\n",
    "    'priors_count', \n",
    "    'days_b_screening_arrest',\n",
    "#     'c_jail_in', date\n",
    "#     'c_jail_out',date\n",
    "#     'c_offense_date', date\n",
    "#     'c_arrest_date', date\n",
    "#     'c_charge_degree',  # 0 importance\n",
    "    'c_charge_desc',\n",
    "#     'r_jail_in', date\n",
    "#     'r_jail_out', date\n",
    "#     'screening_date', date\n",
    "#     'in_custody', date\n",
    "#     'out_custody', date\n",
    "    'start', \n",
    "#     'target', target\n",
    "#     'target_int', target\n",
    "#     'target_bool', target\n",
    "#     'c_bad_date', date\n",
    "    'custody_days',\n",
    "    'in_custody_to_screening_days',\n",
    "#     'birth_to_bad_days', # corr=1 with age\n",
    "    'has_r_jail_in', \n",
    "#     'has_r_jail_out', # corr=1 with r_jail_in\n",
    "    'days_until_recitivism', # golden feature!\n",
    "]\n",
    "\n",
    "cat_cols = [\n",
    "#     'sex',  # innapropriate bias\n",
    "#     'age_group', # innapropriate bias\n",
    "#     'race', # innapropriate bias\n",
    "#     'c_charge_degree', # 0 importance\n",
    "    'c_charge_desc',\n",
    "]"
   ]
  },
  {
   "cell_type": "code",
   "execution_count": 443,
   "metadata": {},
   "outputs": [
    {
     "data": {
      "text/plain": [
       "<AxesSubplot:>"
      ]
     },
     "execution_count": 443,
     "metadata": {},
     "output_type": "execute_result"
    },
    {
     "data": {
      "image/png": "[encoded data removed]",
      "text/plain": [
       "<Figure size 1152x864 with 2 Axes>"
      ]
     },
     "metadata": {
      "needs_background": "light"
     },
     "output_type": "display_data"
    }
   ],
   "source": [
    "# Numeric correlations across numeric features\n",
    "f, ax = plt.subplots(figsize=(16, 12))\n",
    "corr = df[cols].corr()\n",
    "mask = np.triu(corr)\n",
    "sns.heatmap(corr.select_dtypes('number'), annot=True, center=0, mask=mask)"
   ]
  },
  {
   "cell_type": "code",
   "execution_count": 437,
   "metadata": {},
   "outputs": [
    {
     "data": {
      "text/html": [
       "<div>\n",
       "<style scoped>\n",
       "    .dataframe tbody tr th:only-of-type {\n",
       "        vertical-align: middle;\n",
       "    }\n",
       "\n",
       "    .dataframe tbody tr th {\n",
       "        vertical-align: top;\n",
       "    }\n",
       "\n",
       "    .dataframe thead th {\n",
       "        text-align: right;\n",
       "    }\n",
       "</style>\n",
       "<table border=\"1\" class=\"dataframe\">\n",
       "  <thead>\n",
       "    <tr style=\"text-align: right;\">\n",
       "      <th></th>\n",
       "      <th>juv_fel_count</th>\n",
       "      <th>juv_misd_count</th>\n",
       "      <th>juv_other_count</th>\n",
       "      <th>priors_count</th>\n",
       "      <th>days_b_screening_arrest</th>\n",
       "      <th>c_charge_desc</th>\n",
       "      <th>start</th>\n",
       "      <th>custody_days</th>\n",
       "      <th>in_custody_to_screening_days</th>\n",
       "      <th>has_r_jail_in</th>\n",
       "      <th>days_until_recitivism</th>\n",
       "    </tr>\n",
       "    <tr>\n",
       "      <th>id</th>\n",
       "      <th></th>\n",
       "      <th></th>\n",
       "      <th></th>\n",
       "      <th></th>\n",
       "      <th></th>\n",
       "      <th></th>\n",
       "      <th></th>\n",
       "      <th></th>\n",
       "      <th></th>\n",
       "      <th></th>\n",
       "      <th></th>\n",
       "    </tr>\n",
       "  </thead>\n",
       "  <tbody>\n",
       "    <tr>\n",
       "      <th>2677</th>\n",
       "      <td>0</td>\n",
       "      <td>0</td>\n",
       "      <td>0</td>\n",
       "      <td>2</td>\n",
       "      <td>-1.0</td>\n",
       "      <td>arrest case no charge</td>\n",
       "      <td>3</td>\n",
       "      <td>4.0</td>\n",
       "      <td>1.0</td>\n",
       "      <td>False</td>\n",
       "      <td>NaN</td>\n",
       "    </tr>\n",
       "    <tr>\n",
       "      <th>548</th>\n",
       "      <td>0</td>\n",
       "      <td>1</td>\n",
       "      <td>0</td>\n",
       "      <td>1</td>\n",
       "      <td>-1.0</td>\n",
       "      <td>Grand Theft in the 3rd Degree</td>\n",
       "      <td>0</td>\n",
       "      <td>0.0</td>\n",
       "      <td>1.0</td>\n",
       "      <td>False</td>\n",
       "      <td>NaN</td>\n",
       "    </tr>\n",
       "    <tr>\n",
       "      <th>4483</th>\n",
       "      <td>0</td>\n",
       "      <td>0</td>\n",
       "      <td>0</td>\n",
       "      <td>6</td>\n",
       "      <td>-1.0</td>\n",
       "      <td>Grand Theft in the 3rd Degree</td>\n",
       "      <td>3</td>\n",
       "      <td>4.0</td>\n",
       "      <td>1.0</td>\n",
       "      <td>True</td>\n",
       "      <td>66.0</td>\n",
       "    </tr>\n",
       "    <tr>\n",
       "      <th>9476</th>\n",
       "      <td>0</td>\n",
       "      <td>0</td>\n",
       "      <td>0</td>\n",
       "      <td>3</td>\n",
       "      <td>-1.0</td>\n",
       "      <td>Felony Driving While Lic Suspd</td>\n",
       "      <td>0</td>\n",
       "      <td>1.0</td>\n",
       "      <td>1.0</td>\n",
       "      <td>False</td>\n",
       "      <td>NaN</td>\n",
       "    </tr>\n",
       "    <tr>\n",
       "      <th>199</th>\n",
       "      <td>0</td>\n",
       "      <td>0</td>\n",
       "      <td>0</td>\n",
       "      <td>2</td>\n",
       "      <td>NaN</td>\n",
       "      <td>arrest case no charge</td>\n",
       "      <td>0</td>\n",
       "      <td>NaN</td>\n",
       "      <td>NaN</td>\n",
       "      <td>False</td>\n",
       "      <td>NaN</td>\n",
       "    </tr>\n",
       "  </tbody>\n",
       "</table>\n",
       "</div>"
      ],
      "text/plain": [
       "      juv_fel_count  juv_misd_count  juv_other_count  priors_count  \\\n",
       "id                                                                   \n",
       "2677              0               0                0             2   \n",
       "548               0               1                0             1   \n",
       "4483              0               0                0             6   \n",
       "9476              0               0                0             3   \n",
       "199               0               0                0             2   \n",
       "\n",
       "      days_b_screening_arrest                   c_charge_desc  start  \\\n",
       "id                                                                     \n",
       "2677                     -1.0           arrest case no charge      3   \n",
       "548                      -1.0   Grand Theft in the 3rd Degree      0   \n",
       "4483                     -1.0   Grand Theft in the 3rd Degree      3   \n",
       "9476                     -1.0  Felony Driving While Lic Suspd      0   \n",
       "199                       NaN           arrest case no charge      0   \n",
       "\n",
       "      custody_days  in_custody_to_screening_days  has_r_jail_in  \\\n",
       "id                                                                \n",
       "2677           4.0                           1.0          False   \n",
       "548            0.0                           1.0          False   \n",
       "4483           4.0                           1.0           True   \n",
       "9476           1.0                           1.0          False   \n",
       "199            NaN                           NaN          False   \n",
       "\n",
       "      days_until_recitivism  \n",
       "id                           \n",
       "2677                    NaN  \n",
       "548                     NaN  \n",
       "4483                   66.0  \n",
       "9476                    NaN  \n",
       "199                     NaN  "
      ]
     },
     "execution_count": 437,
     "metadata": {},
     "output_type": "execute_result"
    }
   ],
   "source": [
    "df[cols].head()"
   ]
  },
  {
   "cell_type": "code",
   "execution_count": 438,
   "metadata": {},
   "outputs": [],
   "source": [
    "races = df.race.unique()\n",
    "sexes = df.sex.unique()\n",
    "age_groups = df.age_group.unique()"
   ]
  },
  {
   "cell_type": "markdown",
   "metadata": {},
   "source": [
    "# Cross Validation"
   ]
  },
  {
   "cell_type": "code",
   "execution_count": 439,
   "metadata": {
    "pycharm": {
     "is_executing": true
    },
    "scrolled": true
   },
   "outputs": [
    {
     "name": "stdout",
     "output_type": "stream",
     "text": [
      "Split 1: ROC-AUC: 87.09%\n",
      "Split 2: ROC-AUC: 86.67%\n",
      "Split 3: ROC-AUC: 90.36%\n",
      "Split 4: ROC-AUC: 84.42%\n",
      "Split 5: ROC-AUC: 87.65%\n",
      "Split 6: ROC-AUC: 87.02%\n",
      "Split 7: ROC-AUC: 85.39%\n",
      "Split 8: ROC-AUC: 85.36%\n",
      "Split 9: ROC-AUC: 91.10%\n",
      "Split 10: ROC-AUC: 86.83%\n",
      "Split 11: ROC-AUC: 89.48%\n",
      "Split 12: ROC-AUC: 91.83%\n",
      "Split 13: ROC-AUC: 86.55%\n",
      "Split 14: ROC-AUC: 85.53%\n",
      "Split 15: ROC-AUC: 83.70%\n",
      "Split 16: ROC-AUC: 84.07%\n",
      "Split 17: ROC-AUC: 88.29%\n",
      "Split 18: ROC-AUC: 87.30%\n",
      "Split 19: ROC-AUC: 86.87%\n",
      "Split 20: ROC-AUC: 89.97%\n",
      "Split 21: ROC-AUC: 89.62%\n",
      "Split 22: ROC-AUC: 87.84%\n",
      "Split 23: ROC-AUC: 87.65%\n",
      "Split 24: ROC-AUC: 87.50%\n",
      "Split 25: ROC-AUC: 87.16%\n",
      "Split 26: ROC-AUC: 89.69%\n",
      "Split 27: ROC-AUC: 89.25%\n",
      "Split 28: ROC-AUC: 87.91%\n",
      "Split 29: ROC-AUC: 87.41%\n",
      "Split 30: ROC-AUC: 88.02%\n",
      "Split 31: ROC-AUC: 90.85%\n",
      "Split 32: ROC-AUC: 89.87%\n",
      "Split 33: ROC-AUC: 83.63%\n",
      "Split 34: ROC-AUC: 89.66%\n",
      "Split 35: ROC-AUC: 82.38%\n",
      "Split 36: ROC-AUC: 89.35%\n",
      "Split 37: ROC-AUC: 84.78%\n",
      "Split 38: ROC-AUC: 89.60%\n",
      "Split 39: ROC-AUC: 86.16%\n",
      "Split 40: ROC-AUC: 91.42%\n",
      "Split 41: ROC-AUC: 88.33%\n",
      "Split 42: ROC-AUC: 88.36%\n",
      "Split 43: ROC-AUC: 85.62%\n",
      "Split 44: ROC-AUC: 88.60%\n",
      "Split 45: ROC-AUC: 86.69%\n",
      "Split 46: ROC-AUC: 89.59%\n",
      "Split 47: ROC-AUC: 88.53%\n",
      "Split 48: ROC-AUC: 87.72%\n",
      "Split 49: ROC-AUC: 86.11%\n",
      "Split 50: ROC-AUC: 87.73%\n"
     ]
    }
   ],
   "source": [
    "from catboost import Pool, CatBoostClassifier\n",
    "from sklearn.model_selection import RepeatedStratifiedKFold\n",
    "from sklearn.metrics import roc_auc_score, average_precision_score, accuracy_score\n",
    "import collections\n",
    "\n",
    "kf = RepeatedStratifiedKFold(n_splits=5, n_repeats=10, random_state=42)\n",
    "\n",
    "# X_train, X_test, y_train, y_test = train_test_split(df[cols], df['target'], test_size=0.2)\n",
    "\n",
    "roc_aucs = []\n",
    "roc_aucs_race = collections.defaultdict(list)\n",
    "roc_aucs_age = collections.defaultdict(list)\n",
    "roc_aucs_sex = collections.defaultdict(list)\n",
    "\n",
    "feature_importances = []\n",
    "for split_idx, (train, test) in enumerate(kf.split(df[cols], df['race'])): # Stratified on race\n",
    "    train_df = df.iloc[train].reset_index(drop=True)\n",
    "    eval_df = df.iloc[test].reset_index(drop=True)\n",
    "    \n",
    "    train_dataset = Pool(data=train_df[cols],\n",
    "                         label=train_df.target,\n",
    "                         cat_features=cat_cols)\n",
    "\n",
    "    eval_dataset = Pool(data=eval_df[cols],\n",
    "                        label=eval_df.target,\n",
    "                        cat_features=cat_cols)\n",
    "    \n",
    "    y_eval = pd.get_dummies(eval_df.target).to_numpy()\n",
    "    \n",
    "    # Initialize CatBoostClassifier\n",
    "    model = CatBoostClassifier(iterations=10,\n",
    "                               learning_rate=1,\n",
    "                               depth=2,\n",
    "                               loss_function='MultiClass')\n",
    "    # Fit model\n",
    "    model.fit(train_dataset, verbose=False)\n",
    "    # Get predicted classes\n",
    "    preds_class = model.predict(eval_dataset)\n",
    "    # Get predicted probabilities for each class\n",
    "    preds_proba = model.predict_proba(eval_dataset)\n",
    "    # Get predicted RawFormulaVal\n",
    "    preds_raw = model.predict(eval_dataset, \n",
    "                              prediction_type='RawFormulaVal')\n",
    "    \n",
    "    \n",
    "    roc_auc = roc_auc_score(y_eval, preds_proba, multi_class=\"ovo\")\n",
    "    roc_aucs.append(roc_auc)\n",
    "    for race in races:\n",
    "        eval_race_df = eval_df[eval_df['race'] == race]\n",
    "        try:\n",
    "            roc_aucs_race[race].append(roc_auc_score(y_eval[eval_race_df.index], preds_proba[eval_race_df.index], multi_class=\"ovo\"))\n",
    "        except Exception as e:\n",
    "            pass\n",
    "    \n",
    "    for sex in sexes:\n",
    "        eval_sex_df = eval_df[eval_df['sex'] == sex]\n",
    "        try:\n",
    "            roc_aucs_sex[sex].append(roc_auc_score(y_eval[eval_sex_df.index], preds_proba[eval_sex_df.index], multi_class=\"ovo\"))\n",
    "        except Exception as e:\n",
    "            pass\n",
    "        \n",
    "    for age in age_groups:\n",
    "        eval_age_df = eval_df[eval_df['age_group'] == age]\n",
    "        try:\n",
    "            roc_aucs_age[age].append(roc_auc_score(y_eval[eval_age_df.index], preds_proba[eval_age_df.index], multi_class=\"ovo\"))\n",
    "        except Exception as e:\n",
    "            pass\n",
    "        \n",
    "    roc_aucs.append(roc_auc)\n",
    "    feature_importances.append(model.get_feature_importance())\n",
    "    avg_precs.append(avg_prec)\n",
    "    print(f'Split {split_idx+1}: ROC-AUC: {roc_auc*100:.2f}%')"
   ]
  },
  {
   "cell_type": "code",
   "execution_count": 445,
   "metadata": {},
   "outputs": [
    {
     "name": "stdout",
     "output_type": "stream",
     "text": [
      "ROC-AUC 87.65%\n",
      "Race fairness: 77.06%\n",
      "Sex fairness: 91.04%\n",
      "Age fairness: 88.01%\n"
     ]
    }
   ],
   "source": [
    "# Evaluation\n",
    "print(f'ROC-AUC {np.mean(roc_aucs)*100:.2f}%')\n",
    "\n",
    "# Calculate ROC-AUC mean per subset\n",
    "mean_roc_aucs_race = dict()\n",
    "mean_roc_aucs_sex = dict()\n",
    "mean_roc_aucs_age = dict()\n",
    "\n",
    "for race, aucs in roc_aucs_race.items():\n",
    "    mean_roc_aucs_race[race] = np.mean(aucs)\n",
    "for sex, aucs in roc_aucs_sex.items():\n",
    "    mean_roc_aucs_sex[sex] = np.mean(aucs)\n",
    "for age, aucs in roc_aucs_age.items():\n",
    "    mean_roc_aucs_age[age] = np.mean(aucs)\n",
    "\n",
    "# Calculate ROC-AUC standard deviation per subset\n",
    "race_std = np.std([x for x in mean_roc_aucs_race.values() if np.isfinite(x)])\n",
    "sex_std = np.std([x for x in mean_roc_aucs_sex.values() if np.isfinite(x)])\n",
    "age_std = np.std([x for x in mean_roc_aucs_age.values() if np.isfinite(x)])\n",
    "\n",
    "# Calculate fairness per subset\n",
    "race_fairness = 1 - np.sqrt(race_std)\n",
    "sex_fairness = 1 - np.sqrt(sex_std)\n",
    "age_fairness = 1 - np.sqrt(age_std)\n",
    "\n",
    "print(f'Race fairness: {race_fairness*100:.2f}%')\n",
    "print(f'Sex fairness: {sex_fairness*100:.2f}%')\n",
    "print(f'Age fairness: {age_fairness*100:.2f}%')"
   ]
  },
  {
   "cell_type": "code",
   "execution_count": 441,
   "metadata": {},
   "outputs": [
    {
     "data": {
      "text/plain": [
       "<AxesSubplot:ylabel='race'>"
      ]
     },
     "metadata": {},
     "output_type": "display_data"
    },
    {
     "data": {
      "text/plain": [
       "<AxesSubplot:ylabel='sex'>"
      ]
     },
     "metadata": {},
     "output_type": "display_data"
    },
    {
     "data": {
      "text/plain": [
       "<AxesSubplot:ylabel='age'>"
      ]
     },
     "metadata": {},
     "output_type": "display_data"
    },
    {
     "data": {
      "image/png": "[encoded data removed]",
      "text/plain": [
       "<Figure size 432x288 with 1 Axes>"
      ]
     },
     "metadata": {
      "needs_background": "light"
     },
     "output_type": "display_data"
    },
    {
     "data": {
      "image/png": "[encoded data removed]",
      "text/plain": [
       "<Figure size 432x288 with 1 Axes>"
      ]
     },
     "metadata": {
      "needs_background": "light"
     },
     "output_type": "display_data"
    },
    {
     "data": {
      "image/png": "[encoded data removed]",
      "text/plain": [
       "<Figure size 432x288 with 1 Axes>"
      ]
     },
     "metadata": {
      "needs_background": "light"
     },
     "output_type": "display_data"
    }
   ],
   "source": [
    "race_auc_df = pd.DataFrame({'race': races, 'auc': [mean_roc_aucs_race[race] for race in races]})\n",
    "sex_auc_df = pd.DataFrame({'sex': sex, 'auc': [mean_roc_aucs_sex[sex] for sex in sexes]})\n",
    "age_auc_df = pd.DataFrame({'age': age_groups, 'auc': [mean_roc_aucs_age[age] for age in age_groups]})\n",
    "                     \n",
    "display(race_auc_df[race_auc_df['auc'].notna()].plot.barh(x='race'))\n",
    "display(sex_auc_df[sex_auc_df['auc'].notna()].plot.barh(x='sex'))\n",
    "display(age_auc_df[age_auc_df['auc'].notna()].plot.barh(x='age'))"
   ]
  },
  {
   "cell_type": "code",
   "execution_count": 442,
   "metadata": {
    "scrolled": false
   },
   "outputs": [
    {
     "data": {
      "text/html": [
       "<div>\n",
       "<style scoped>\n",
       "    .dataframe tbody tr th:only-of-type {\n",
       "        vertical-align: middle;\n",
       "    }\n",
       "\n",
       "    .dataframe tbody tr th {\n",
       "        vertical-align: top;\n",
       "    }\n",
       "\n",
       "    .dataframe thead th {\n",
       "        text-align: right;\n",
       "    }\n",
       "</style>\n",
       "<table border=\"1\" class=\"dataframe\">\n",
       "  <thead>\n",
       "    <tr style=\"text-align: right;\">\n",
       "      <th></th>\n",
       "      <th>feature</th>\n",
       "      <th>importance</th>\n",
       "      <th>std</th>\n",
       "      <th>min</th>\n",
       "      <th>max</th>\n",
       "    </tr>\n",
       "  </thead>\n",
       "  <tbody>\n",
       "    <tr>\n",
       "      <th>10</th>\n",
       "      <td>days_until_recitivism</td>\n",
       "      <td>39.193160</td>\n",
       "      <td>7.839663</td>\n",
       "      <td>29.928631</td>\n",
       "      <td>77.814538</td>\n",
       "    </tr>\n",
       "    <tr>\n",
       "      <th>9</th>\n",
       "      <td>has_r_jail_in</td>\n",
       "      <td>26.429345</td>\n",
       "      <td>5.580602</td>\n",
       "      <td>7.808612</td>\n",
       "      <td>35.872101</td>\n",
       "    </tr>\n",
       "    <tr>\n",
       "      <th>3</th>\n",
       "      <td>priors_count</td>\n",
       "      <td>17.373627</td>\n",
       "      <td>4.042829</td>\n",
       "      <td>6.913927</td>\n",
       "      <td>26.113349</td>\n",
       "    </tr>\n",
       "    <tr>\n",
       "      <th>1</th>\n",
       "      <td>juv_misd_count</td>\n",
       "      <td>3.627048</td>\n",
       "      <td>1.846879</td>\n",
       "      <td>0.000000</td>\n",
       "      <td>8.018153</td>\n",
       "    </tr>\n",
       "    <tr>\n",
       "      <th>7</th>\n",
       "      <td>custody_days</td>\n",
       "      <td>3.246475</td>\n",
       "      <td>2.483156</td>\n",
       "      <td>0.000000</td>\n",
       "      <td>10.038685</td>\n",
       "    </tr>\n",
       "    <tr>\n",
       "      <th>2</th>\n",
       "      <td>juv_other_count</td>\n",
       "      <td>3.077727</td>\n",
       "      <td>2.250397</td>\n",
       "      <td>0.000000</td>\n",
       "      <td>7.785984</td>\n",
       "    </tr>\n",
       "    <tr>\n",
       "      <th>8</th>\n",
       "      <td>in_custody_to_screening_days</td>\n",
       "      <td>2.538488</td>\n",
       "      <td>2.746809</td>\n",
       "      <td>0.000000</td>\n",
       "      <td>11.168094</td>\n",
       "    </tr>\n",
       "    <tr>\n",
       "      <th>4</th>\n",
       "      <td>days_b_screening_arrest</td>\n",
       "      <td>2.222524</td>\n",
       "      <td>1.531439</td>\n",
       "      <td>0.075452</td>\n",
       "      <td>7.326746</td>\n",
       "    </tr>\n",
       "    <tr>\n",
       "      <th>6</th>\n",
       "      <td>start</td>\n",
       "      <td>2.034769</td>\n",
       "      <td>2.313533</td>\n",
       "      <td>0.000000</td>\n",
       "      <td>8.068800</td>\n",
       "    </tr>\n",
       "    <tr>\n",
       "      <th>5</th>\n",
       "      <td>c_charge_desc</td>\n",
       "      <td>0.165083</td>\n",
       "      <td>0.502642</td>\n",
       "      <td>0.000000</td>\n",
       "      <td>2.107924</td>\n",
       "    </tr>\n",
       "    <tr>\n",
       "      <th>0</th>\n",
       "      <td>juv_fel_count</td>\n",
       "      <td>0.091754</td>\n",
       "      <td>0.258994</td>\n",
       "      <td>0.000000</td>\n",
       "      <td>1.607877</td>\n",
       "    </tr>\n",
       "  </tbody>\n",
       "</table>\n",
       "</div>"
      ],
      "text/plain": [
       "                         feature  importance       std        min        max\n",
       "10         days_until_recitivism   39.193160  7.839663  29.928631  77.814538\n",
       "9                  has_r_jail_in   26.429345  5.580602   7.808612  35.872101\n",
       "3                   priors_count   17.373627  4.042829   6.913927  26.113349\n",
       "1                 juv_misd_count    3.627048  1.846879   0.000000   8.018153\n",
       "7                   custody_days    3.246475  2.483156   0.000000  10.038685\n",
       "2                juv_other_count    3.077727  2.250397   0.000000   7.785984\n",
       "8   in_custody_to_screening_days    2.538488  2.746809   0.000000  11.168094\n",
       "4        days_b_screening_arrest    2.222524  1.531439   0.075452   7.326746\n",
       "6                          start    2.034769  2.313533   0.000000   8.068800\n",
       "5                  c_charge_desc    0.165083  0.502642   0.000000   2.107924\n",
       "0                  juv_fel_count    0.091754  0.258994   0.000000   1.607877"
      ]
     },
     "metadata": {},
     "output_type": "display_data"
    },
    {
     "data": {
      "text/plain": [
       "<AxesSubplot:ylabel='feature'>"
      ]
     },
     "metadata": {},
     "output_type": "display_data"
    },
    {
     "data": {
      "image/png": "[encoded data removed]",
      "text/plain": [
       "<Figure size 432x288 with 1 Axes>"
      ]
     },
     "metadata": {
      "needs_background": "light"
     },
     "output_type": "display_data"
    }
   ],
   "source": [
    "# Feature importances\n",
    "fi_df = pd.DataFrame({'feature': cols})\n",
    "fi_df['importance'] = np.mean(feature_importances, axis=0)\n",
    "fi_df['std'] = np.std(feature_importances, axis=0)\n",
    "fi_df['min'] = np.min(feature_importances, axis=0)\n",
    "fi_df['max'] = np.max(feature_importances, axis=0)\n",
    "fi_df = fi_df.sort_values('importance', ascending=False)\n",
    "display(fi_df)\n",
    "display(fi_df[['feature', 'importance']].sort_values('importance', ascending=True).plot.barh(x='feature'))"
   ]
  }
 ],
 "metadata": {
  "kernelspec": {
   "display_name": "PyCharm (Caggle6)",
   "language": "python",
   "name": "pycharm-a6146640"
  },
  "language_info": {
   "codemirror_mode": {
    "name": "ipython",
    "version": 3
   },
   "file_extension": ".py",
   "mimetype": "text/x-python",
   "name": "python",
   "nbconvert_exporter": "python",
   "pygments_lexer": "ipython3",
   "version": "3.8.8"
  }
 },
 "nbformat": 4,
 "nbformat_minor": 2
}
