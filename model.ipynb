{
 "cells": [
  {
   "cell_type": "code",
   "execution_count": 1,
   "metadata": {},
   "outputs": [],
   "source": [
    "import pandas as pd\n",
    "import numpy as np\n",
    "import seaborn as sns\n",
    "import matplotlib.pyplot as plt\n",
    "import matplotlib\n",
    "from datetime import datetime\n",
    "from sklearn.model_selection import train_test_split\n",
    "from sklearn.metrics import accuracy_score, roc_auc_score, confusion_matrix\n",
    "from catboost import Pool, CatBoostClassifier, cv\n",
    "pd.options.display.max_columns\n",
    "pd.set_option('display.max_columns', None)"
   ]
  },
  {
   "cell_type": "markdown",
   "metadata": {},
   "source": [
    "# Data Prep"
   ]
  },
  {
   "cell_type": "code",
   "execution_count": 2,
   "metadata": {
    "pycharm": {
     "is_executing": true
    }
   },
   "outputs": [],
   "source": [
    "X_train = pd.read_csv('https://raw.githubusercontent.com/mkleinbort/Kaggle-COMPAS/main/train/X_train.csv', index_col='id')\n",
    "y_train = pd.read_csv('https://raw.githubusercontent.com/mkleinbort/Kaggle-COMPAS/main/train/y_train.csv', squeeze=True)\n",
    "X_test = pd.read_csv ('https://raw.githubusercontent.com/mkleinbort/Kaggle-COMPAS/main/test/X_test.csv')\n",
    "y_test = np.full(len(X_test), np.nan)"
   ]
  },
  {
   "cell_type": "code",
   "execution_count": 3,
   "metadata": {
    "pycharm": {
     "is_executing": true
    }
   },
   "outputs": [],
   "source": [
    "df = pd.concat([X_train, X_test])\n",
    "\n",
    "df = df.drop(['v_screening_date'], axis=1) # duplicate of 'screening_date'\n",
    "df = df.drop(['v_type_of_assessment'], axis=1) # duplicate of 'type_of_assessment'\n",
    "df = df.drop(['type_of_assessment'], axis=1) # 0 variance\n",
    "\n",
    "df['target'] = y_train.to_list() + list(y_test) # set target row-wise (ignoring indices)\n",
    "# df['target'] = 0"
   ]
  },
  {
   "cell_type": "code",
   "execution_count": 4,
   "metadata": {
    "pycharm": {
     "is_executing": true
    }
   },
   "outputs": [],
   "source": [
    "# Engineer a new targets \n",
    "df['target_int'] = df['target'].replace({'No-Recidivism': 0, 'Non-Violent': 1, 'Violent': 2}) # so we can do regression\n",
    "df['target_bool'] = df['target'].replace({'No-Recidivism': 0, 'Non-Violent': 1, 'Violent': 1}) # 0 - no-rec, 1 - rec\n",
    "target_cols = ['target', 'target_int', 'target_bool']"
   ]
  },
  {
   "cell_type": "code",
   "execution_count": 5,
   "metadata": {
    "pycharm": {
     "is_executing": true
    },
    "scrolled": false
   },
   "outputs": [
    {
     "data": {
      "text/html": [
       "<div>\n",
       "<style scoped>\n",
       "    .dataframe tbody tr th:only-of-type {\n",
       "        vertical-align: middle;\n",
       "    }\n",
       "\n",
       "    .dataframe tbody tr th {\n",
       "        vertical-align: top;\n",
       "    }\n",
       "\n",
       "    .dataframe thead th {\n",
       "        text-align: right;\n",
       "    }\n",
       "</style>\n",
       "<table border=\"1\" class=\"dataframe\">\n",
       "  <thead>\n",
       "    <tr style=\"text-align: right;\">\n",
       "      <th></th>\n",
       "      <th>name</th>\n",
       "      <th>first</th>\n",
       "      <th>last</th>\n",
       "      <th>sex</th>\n",
       "      <th>date_of_birth</th>\n",
       "      <th>age</th>\n",
       "      <th>age_group</th>\n",
       "      <th>race</th>\n",
       "      <th>juv_fel_count</th>\n",
       "      <th>juv_misd_count</th>\n",
       "      <th>juv_other_count</th>\n",
       "      <th>priors_count</th>\n",
       "      <th>days_b_screening_arrest</th>\n",
       "      <th>c_jail_in</th>\n",
       "      <th>c_jail_out</th>\n",
       "      <th>c_offense_date</th>\n",
       "      <th>c_arrest_date</th>\n",
       "      <th>c_charge_degree</th>\n",
       "      <th>c_charge_desc</th>\n",
       "      <th>r_jail_in</th>\n",
       "      <th>r_jail_out</th>\n",
       "      <th>screening_date</th>\n",
       "      <th>in_custody</th>\n",
       "      <th>out_custody</th>\n",
       "      <th>start</th>\n",
       "      <th>id</th>\n",
       "      <th>target</th>\n",
       "      <th>target_int</th>\n",
       "      <th>target_bool</th>\n",
       "      <th>c_bad_date</th>\n",
       "      <th>custody_days</th>\n",
       "      <th>in_custody_to_screening_days</th>\n",
       "      <th>birth_to_bad_days</th>\n",
       "      <th>days_until_recitivism</th>\n",
       "    </tr>\n",
       "  </thead>\n",
       "  <tbody>\n",
       "    <tr>\n",
       "      <th>2677</th>\n",
       "      <td>nicholas staggewise</td>\n",
       "      <td>nicholas</td>\n",
       "      <td>staggewise</td>\n",
       "      <td>Male</td>\n",
       "      <td>1994-02-28</td>\n",
       "      <td>22</td>\n",
       "      <td>Less than 25</td>\n",
       "      <td>Caucasian</td>\n",
       "      <td>0</td>\n",
       "      <td>0</td>\n",
       "      <td>0</td>\n",
       "      <td>2</td>\n",
       "      <td>-1.0</td>\n",
       "      <td>2013-09-23 09:01:58</td>\n",
       "      <td>2013-09-27 03:54:42</td>\n",
       "      <td>NaN</td>\n",
       "      <td>2013-09-23</td>\n",
       "      <td>F</td>\n",
       "      <td>arrest case no charge</td>\n",
       "      <td>NaN</td>\n",
       "      <td>NaN</td>\n",
       "      <td>2013-09-24</td>\n",
       "      <td>2013-09-23</td>\n",
       "      <td>2013-09-27</td>\n",
       "      <td>3</td>\n",
       "      <td>NaN</td>\n",
       "      <td>No-Recidivism</td>\n",
       "      <td>0.0</td>\n",
       "      <td>0.0</td>\n",
       "      <td>2013-09-23</td>\n",
       "      <td>4.0</td>\n",
       "      <td>1.0</td>\n",
       "      <td>7147</td>\n",
       "      <td>NaN</td>\n",
       "    </tr>\n",
       "    <tr>\n",
       "      <th>548</th>\n",
       "      <td>newton smith</td>\n",
       "      <td>newton</td>\n",
       "      <td>smith</td>\n",
       "      <td>Male</td>\n",
       "      <td>1995-01-28</td>\n",
       "      <td>21</td>\n",
       "      <td>Less than 25</td>\n",
       "      <td>African-American</td>\n",
       "      <td>0</td>\n",
       "      <td>1</td>\n",
       "      <td>0</td>\n",
       "      <td>1</td>\n",
       "      <td>-1.0</td>\n",
       "      <td>2013-06-16 12:36:42</td>\n",
       "      <td>2013-06-16 07:01:42</td>\n",
       "      <td>2013-06-15</td>\n",
       "      <td>NaN</td>\n",
       "      <td>F</td>\n",
       "      <td>Grand Theft in the 3rd Degree</td>\n",
       "      <td>NaN</td>\n",
       "      <td>NaN</td>\n",
       "      <td>2013-06-17</td>\n",
       "      <td>2013-06-16</td>\n",
       "      <td>2013-06-16</td>\n",
       "      <td>0</td>\n",
       "      <td>NaN</td>\n",
       "      <td>Violent</td>\n",
       "      <td>2.0</td>\n",
       "      <td>1.0</td>\n",
       "      <td>2013-06-15</td>\n",
       "      <td>0.0</td>\n",
       "      <td>1.0</td>\n",
       "      <td>6713</td>\n",
       "      <td>NaN</td>\n",
       "    </tr>\n",
       "    <tr>\n",
       "      <th>4483</th>\n",
       "      <td>terrance irvin</td>\n",
       "      <td>terrance</td>\n",
       "      <td>irvin</td>\n",
       "      <td>Male</td>\n",
       "      <td>1984-04-10</td>\n",
       "      <td>32</td>\n",
       "      <td>25 - 45</td>\n",
       "      <td>African-American</td>\n",
       "      <td>0</td>\n",
       "      <td>0</td>\n",
       "      <td>0</td>\n",
       "      <td>6</td>\n",
       "      <td>-1.0</td>\n",
       "      <td>2013-10-11 05:38:14</td>\n",
       "      <td>2013-10-15 07:11:17</td>\n",
       "      <td>2013-10-11</td>\n",
       "      <td>NaN</td>\n",
       "      <td>F</td>\n",
       "      <td>Grand Theft in the 3rd Degree</td>\n",
       "      <td>2013-12-21</td>\n",
       "      <td>2014-02-21</td>\n",
       "      <td>2013-10-12</td>\n",
       "      <td>2013-10-11</td>\n",
       "      <td>2013-10-15</td>\n",
       "      <td>3</td>\n",
       "      <td>NaN</td>\n",
       "      <td>Non-Violent</td>\n",
       "      <td>1.0</td>\n",
       "      <td>1.0</td>\n",
       "      <td>2013-10-11</td>\n",
       "      <td>4.0</td>\n",
       "      <td>1.0</td>\n",
       "      <td>10776</td>\n",
       "      <td>66.0</td>\n",
       "    </tr>\n",
       "    <tr>\n",
       "      <th>9476</th>\n",
       "      <td>jaimie peterson</td>\n",
       "      <td>jaimie</td>\n",
       "      <td>peterson</td>\n",
       "      <td>Female</td>\n",
       "      <td>1986-01-02</td>\n",
       "      <td>30</td>\n",
       "      <td>25 - 45</td>\n",
       "      <td>African-American</td>\n",
       "      <td>0</td>\n",
       "      <td>0</td>\n",
       "      <td>0</td>\n",
       "      <td>3</td>\n",
       "      <td>-1.0</td>\n",
       "      <td>2014-01-11 06:56:43</td>\n",
       "      <td>2014-01-12 02:17:00</td>\n",
       "      <td>2014-01-11</td>\n",
       "      <td>NaN</td>\n",
       "      <td>F</td>\n",
       "      <td>Felony Driving While Lic Suspd</td>\n",
       "      <td>NaN</td>\n",
       "      <td>NaN</td>\n",
       "      <td>2014-01-12</td>\n",
       "      <td>2014-01-11</td>\n",
       "      <td>2014-01-12</td>\n",
       "      <td>0</td>\n",
       "      <td>NaN</td>\n",
       "      <td>No-Recidivism</td>\n",
       "      <td>0.0</td>\n",
       "      <td>0.0</td>\n",
       "      <td>2014-01-11</td>\n",
       "      <td>1.0</td>\n",
       "      <td>1.0</td>\n",
       "      <td>10236</td>\n",
       "      <td>NaN</td>\n",
       "    </tr>\n",
       "    <tr>\n",
       "      <th>199</th>\n",
       "      <td>ritesh sukhlall</td>\n",
       "      <td>ritesh</td>\n",
       "      <td>sukhlall</td>\n",
       "      <td>Male</td>\n",
       "      <td>1987-05-12</td>\n",
       "      <td>28</td>\n",
       "      <td>25 - 45</td>\n",
       "      <td>Caucasian</td>\n",
       "      <td>0</td>\n",
       "      <td>0</td>\n",
       "      <td>0</td>\n",
       "      <td>2</td>\n",
       "      <td>NaN</td>\n",
       "      <td>NaN</td>\n",
       "      <td>NaN</td>\n",
       "      <td>NaN</td>\n",
       "      <td>2013-03-21</td>\n",
       "      <td>F</td>\n",
       "      <td>arrest case no charge</td>\n",
       "      <td>NaN</td>\n",
       "      <td>NaN</td>\n",
       "      <td>2013-08-29</td>\n",
       "      <td>NaN</td>\n",
       "      <td>NaN</td>\n",
       "      <td>0</td>\n",
       "      <td>NaN</td>\n",
       "      <td>No-Recidivism</td>\n",
       "      <td>0.0</td>\n",
       "      <td>0.0</td>\n",
       "      <td>2013-03-21</td>\n",
       "      <td>NaN</td>\n",
       "      <td>NaN</td>\n",
       "      <td>9445</td>\n",
       "      <td>NaN</td>\n",
       "    </tr>\n",
       "  </tbody>\n",
       "</table>\n",
       "</div>"
      ],
      "text/plain": [
       "                     name     first        last     sex date_of_birth  age  \\\n",
       "2677  nicholas staggewise  nicholas  staggewise    Male    1994-02-28   22   \n",
       "548          newton smith    newton       smith    Male    1995-01-28   21   \n",
       "4483       terrance irvin  terrance       irvin    Male    1984-04-10   32   \n",
       "9476      jaimie peterson    jaimie    peterson  Female    1986-01-02   30   \n",
       "199       ritesh sukhlall    ritesh    sukhlall    Male    1987-05-12   28   \n",
       "\n",
       "         age_group              race  juv_fel_count  juv_misd_count  \\\n",
       "2677  Less than 25         Caucasian              0               0   \n",
       "548   Less than 25  African-American              0               1   \n",
       "4483       25 - 45  African-American              0               0   \n",
       "9476       25 - 45  African-American              0               0   \n",
       "199        25 - 45         Caucasian              0               0   \n",
       "\n",
       "      juv_other_count  priors_count  days_b_screening_arrest  \\\n",
       "2677                0             2                     -1.0   \n",
       "548                 0             1                     -1.0   \n",
       "4483                0             6                     -1.0   \n",
       "9476                0             3                     -1.0   \n",
       "199                 0             2                      NaN   \n",
       "\n",
       "                c_jail_in           c_jail_out c_offense_date c_arrest_date  \\\n",
       "2677  2013-09-23 09:01:58  2013-09-27 03:54:42            NaN    2013-09-23   \n",
       "548   2013-06-16 12:36:42  2013-06-16 07:01:42     2013-06-15           NaN   \n",
       "4483  2013-10-11 05:38:14  2013-10-15 07:11:17     2013-10-11           NaN   \n",
       "9476  2014-01-11 06:56:43  2014-01-12 02:17:00     2014-01-11           NaN   \n",
       "199                   NaN                  NaN            NaN    2013-03-21   \n",
       "\n",
       "     c_charge_degree                   c_charge_desc   r_jail_in  r_jail_out  \\\n",
       "2677               F           arrest case no charge         NaN         NaN   \n",
       "548                F   Grand Theft in the 3rd Degree         NaN         NaN   \n",
       "4483               F   Grand Theft in the 3rd Degree  2013-12-21  2014-02-21   \n",
       "9476               F  Felony Driving While Lic Suspd         NaN         NaN   \n",
       "199                F           arrest case no charge         NaN         NaN   \n",
       "\n",
       "     screening_date  in_custody out_custody  start  id         target  \\\n",
       "2677     2013-09-24  2013-09-23  2013-09-27      3 NaN  No-Recidivism   \n",
       "548      2013-06-17  2013-06-16  2013-06-16      0 NaN        Violent   \n",
       "4483     2013-10-12  2013-10-11  2013-10-15      3 NaN    Non-Violent   \n",
       "9476     2014-01-12  2014-01-11  2014-01-12      0 NaN  No-Recidivism   \n",
       "199      2013-08-29         NaN         NaN      0 NaN  No-Recidivism   \n",
       "\n",
       "      target_int  target_bool  c_bad_date  custody_days  \\\n",
       "2677         0.0          0.0  2013-09-23           4.0   \n",
       "548          2.0          1.0  2013-06-15           0.0   \n",
       "4483         1.0          1.0  2013-10-11           4.0   \n",
       "9476         0.0          0.0  2014-01-11           1.0   \n",
       "199          0.0          0.0  2013-03-21           NaN   \n",
       "\n",
       "      in_custody_to_screening_days  birth_to_bad_days  days_until_recitivism  \n",
       "2677                           1.0               7147                    NaN  \n",
       "548                            1.0               6713                    NaN  \n",
       "4483                           1.0              10776                   66.0  \n",
       "9476                           1.0              10236                    NaN  \n",
       "199                            NaN               9445                    NaN  "
      ]
     },
     "execution_count": 5,
     "metadata": {},
     "output_type": "execute_result"
    }
   ],
   "source": [
    "# Engineer new date based features\n",
    "\n",
    "\"\"\"\n",
    "Custody: when someone is kept in prison until they go to court\n",
    "Screening:  involves  using  a  brief  instrument  to  quickly  capture basic information \n",
    "    about a person’s risk to reoffend and is  used  to  determine  if  a  more  comprehensive  assessment\n",
    "    is  warranted.  In  a  jail  setting,  everyone,  regardless  of  legal  status, should be screened \n",
    "    at booking.  Risk  screening  divides  the  jail  population  into  high-,  medium-,  and  low-risk \n",
    "    categories,  making  it  possible  to  direct  intervention  resources  first  to  the highest-risk individuals.\n",
    "\n",
    "\n",
    "\n",
    "- c_arrest_date and c_offense_date are mutually exclusive and one of them is 99.8% likely to be filled\n",
    "- c_arrest_date and c_are mutually exclusive\n",
    "- start is number of days between c_jail_in and c_jail_out, maybe worth engineering total hours/minutes between\n",
    "- screening_date is always filled\n",
    "\"\"\"\n",
    "\n",
    "\n",
    "\n",
    "days_cols = []\n",
    "\n",
    "def days_between(d1, d2):\n",
    "    try:\n",
    "        try:\n",
    "            d1 = datetime.strptime(d1, \"%Y-%m-%d\")\n",
    "        except ValueError:\n",
    "            d1 = datetime.strptime(d1, \"%Y-%m-%d %H:%M:%S\")\n",
    "            \n",
    "        try:\n",
    "            d2 = datetime.strptime(d2, \"%Y-%m-%d\")\n",
    "        except ValueError:\n",
    "            d2 = datetime.strptime(d2, \"%Y-%m-%d %H:%M:%S\")\n",
    "        return abs((d2 - d1).days)\n",
    "    except TypeError as e:\n",
    "        return None\n",
    "\n",
    "# mutually exclusive and one of them is always filled\n",
    "df['c_bad_date'] = df['c_arrest_date'].fillna(df['c_offense_date']).fillna(df['in_custody']).fillna(df['screening_date'])\n",
    "\n",
    "# how many days in custody\n",
    "df['custody_days'] = df.apply(lambda x: days_between(x.out_custody, x.in_custody), axis=1)\n",
    "\n",
    "# how quickly after going into custody did the person get screened (might indicate something?)\n",
    "df['in_custody_to_screening_days'] = df.apply(lambda x: days_between(x.in_custody, x.screening_date), axis=1)\n",
    "\n",
    "# questionable col because it is age related... Also corr=1 with age\n",
    "df['birth_to_bad_days'] = df.apply(lambda x: days_between(x.date_of_birth, x.c_bad_date), axis=1)\n",
    "\n",
    "# How many days passed until recitivism occcured. Golden feature!\n",
    "df['days_until_recitivism'] = df.apply(lambda x: days_between(x.c_jail_out, x.r_jail_in), axis=1)\n",
    "\n",
    "date_cols = [ \n",
    "    'c_arrest_date', \n",
    "    'c_offense_date',\n",
    "    'screening_date', \n",
    "    'in_custody', \n",
    "    'out_custody', \n",
    "    'date_of_birth',\n",
    "    'c_jail_in',\n",
    "    'c_jail_out',\n",
    "    'r_jail_in',\n",
    "    'r_jail_out',\n",
    "\n",
    "    # engineered\n",
    "    'c_bad_date'\n",
    "]\n",
    "\n",
    "duration_cols = [\n",
    "    'days_b_screening_arrest',\n",
    "    'custody_days',\n",
    "    'in_custody_to_screening_days',\n",
    "    'birth_to_bad_days',\n",
    "    'days_until_recitivism',\n",
    "]\n",
    "\n",
    "df.head()"
   ]
  },
  {
   "cell_type": "code",
   "execution_count": 6,
   "metadata": {},
   "outputs": [],
   "source": [
    "# All prior counts\n",
    "df['all_priors'] = df[[\n",
    "    'juv_fel_count',\n",
    "    'juv_misd_count', \n",
    "    'juv_other_count',\n",
    "    'priors_count',\n",
    "]].sum(axis=1)"
   ]
  },
  {
   "cell_type": "code",
   "execution_count": 7,
   "metadata": {
    "pycharm": {
     "is_executing": true
    }
   },
   "outputs": [],
   "source": [
    "# Has recidivism occured?\n",
    "df['has_r_jail_in'] = df['r_jail_in'].notna()\n",
    "df['has_r_jail_out'] = df['r_jail_out'].notna()"
   ]
  },
  {
   "cell_type": "code",
   "execution_count": 8,
   "metadata": {},
   "outputs": [],
   "source": [
    "# fill missing values\n",
    "df['c_charge_desc'] = df['c_charge_desc'].fillna('missing') "
   ]
  },
  {
   "cell_type": "code",
   "execution_count": 9,
   "metadata": {
    "pycharm": {
     "is_executing": true
    }
   },
   "outputs": [
    {
     "data": {
      "text/html": [
       "<div>\n",
       "<style scoped>\n",
       "    .dataframe tbody tr th:only-of-type {\n",
       "        vertical-align: middle;\n",
       "    }\n",
       "\n",
       "    .dataframe tbody tr th {\n",
       "        vertical-align: top;\n",
       "    }\n",
       "\n",
       "    .dataframe thead th {\n",
       "        text-align: right;\n",
       "    }\n",
       "</style>\n",
       "<table border=\"1\" class=\"dataframe\">\n",
       "  <thead>\n",
       "    <tr style=\"text-align: right;\">\n",
       "      <th></th>\n",
       "      <th>name</th>\n",
       "      <th>first</th>\n",
       "      <th>last</th>\n",
       "      <th>sex</th>\n",
       "      <th>date_of_birth</th>\n",
       "      <th>age</th>\n",
       "      <th>age_group</th>\n",
       "      <th>race</th>\n",
       "      <th>juv_fel_count</th>\n",
       "      <th>juv_misd_count</th>\n",
       "      <th>juv_other_count</th>\n",
       "      <th>priors_count</th>\n",
       "      <th>days_b_screening_arrest</th>\n",
       "      <th>c_jail_in</th>\n",
       "      <th>c_jail_out</th>\n",
       "      <th>c_offense_date</th>\n",
       "      <th>c_arrest_date</th>\n",
       "      <th>c_charge_degree</th>\n",
       "      <th>c_charge_desc</th>\n",
       "      <th>r_jail_in</th>\n",
       "      <th>r_jail_out</th>\n",
       "      <th>screening_date</th>\n",
       "      <th>in_custody</th>\n",
       "      <th>out_custody</th>\n",
       "      <th>start</th>\n",
       "      <th>id</th>\n",
       "      <th>target</th>\n",
       "      <th>target_int</th>\n",
       "      <th>target_bool</th>\n",
       "      <th>c_bad_date</th>\n",
       "      <th>custody_days</th>\n",
       "      <th>in_custody_to_screening_days</th>\n",
       "      <th>birth_to_bad_days</th>\n",
       "      <th>days_until_recitivism</th>\n",
       "      <th>all_priors</th>\n",
       "      <th>has_r_jail_in</th>\n",
       "      <th>has_r_jail_out</th>\n",
       "    </tr>\n",
       "  </thead>\n",
       "  <tbody>\n",
       "    <tr>\n",
       "      <th>2677</th>\n",
       "      <td>nicholas staggewise</td>\n",
       "      <td>nicholas</td>\n",
       "      <td>staggewise</td>\n",
       "      <td>Male</td>\n",
       "      <td>1994-02-28</td>\n",
       "      <td>22</td>\n",
       "      <td>Less than 25</td>\n",
       "      <td>Caucasian</td>\n",
       "      <td>0</td>\n",
       "      <td>0</td>\n",
       "      <td>0</td>\n",
       "      <td>2</td>\n",
       "      <td>-1.0</td>\n",
       "      <td>2013-09-23 09:01:58</td>\n",
       "      <td>2013-09-27 03:54:42</td>\n",
       "      <td>NaN</td>\n",
       "      <td>2013-09-23</td>\n",
       "      <td>F</td>\n",
       "      <td>arrest case no charge</td>\n",
       "      <td>NaN</td>\n",
       "      <td>NaN</td>\n",
       "      <td>2013-09-24</td>\n",
       "      <td>2013-09-23</td>\n",
       "      <td>2013-09-27</td>\n",
       "      <td>3</td>\n",
       "      <td>NaN</td>\n",
       "      <td>No-Recidivism</td>\n",
       "      <td>0.0</td>\n",
       "      <td>0.0</td>\n",
       "      <td>2013-09-23</td>\n",
       "      <td>4.0</td>\n",
       "      <td>1.0</td>\n",
       "      <td>7147</td>\n",
       "      <td>NaN</td>\n",
       "      <td>2</td>\n",
       "      <td>False</td>\n",
       "      <td>False</td>\n",
       "    </tr>\n",
       "    <tr>\n",
       "      <th>548</th>\n",
       "      <td>newton smith</td>\n",
       "      <td>newton</td>\n",
       "      <td>smith</td>\n",
       "      <td>Male</td>\n",
       "      <td>1995-01-28</td>\n",
       "      <td>21</td>\n",
       "      <td>Less than 25</td>\n",
       "      <td>African-American</td>\n",
       "      <td>0</td>\n",
       "      <td>1</td>\n",
       "      <td>0</td>\n",
       "      <td>1</td>\n",
       "      <td>-1.0</td>\n",
       "      <td>2013-06-16 12:36:42</td>\n",
       "      <td>2013-06-16 07:01:42</td>\n",
       "      <td>2013-06-15</td>\n",
       "      <td>NaN</td>\n",
       "      <td>F</td>\n",
       "      <td>Grand Theft in the 3rd Degree</td>\n",
       "      <td>NaN</td>\n",
       "      <td>NaN</td>\n",
       "      <td>2013-06-17</td>\n",
       "      <td>2013-06-16</td>\n",
       "      <td>2013-06-16</td>\n",
       "      <td>0</td>\n",
       "      <td>NaN</td>\n",
       "      <td>Violent</td>\n",
       "      <td>2.0</td>\n",
       "      <td>1.0</td>\n",
       "      <td>2013-06-15</td>\n",
       "      <td>0.0</td>\n",
       "      <td>1.0</td>\n",
       "      <td>6713</td>\n",
       "      <td>NaN</td>\n",
       "      <td>2</td>\n",
       "      <td>False</td>\n",
       "      <td>False</td>\n",
       "    </tr>\n",
       "    <tr>\n",
       "      <th>4483</th>\n",
       "      <td>terrance irvin</td>\n",
       "      <td>terrance</td>\n",
       "      <td>irvin</td>\n",
       "      <td>Male</td>\n",
       "      <td>1984-04-10</td>\n",
       "      <td>32</td>\n",
       "      <td>25 - 45</td>\n",
       "      <td>African-American</td>\n",
       "      <td>0</td>\n",
       "      <td>0</td>\n",
       "      <td>0</td>\n",
       "      <td>6</td>\n",
       "      <td>-1.0</td>\n",
       "      <td>2013-10-11 05:38:14</td>\n",
       "      <td>2013-10-15 07:11:17</td>\n",
       "      <td>2013-10-11</td>\n",
       "      <td>NaN</td>\n",
       "      <td>F</td>\n",
       "      <td>Grand Theft in the 3rd Degree</td>\n",
       "      <td>2013-12-21</td>\n",
       "      <td>2014-02-21</td>\n",
       "      <td>2013-10-12</td>\n",
       "      <td>2013-10-11</td>\n",
       "      <td>2013-10-15</td>\n",
       "      <td>3</td>\n",
       "      <td>NaN</td>\n",
       "      <td>Non-Violent</td>\n",
       "      <td>1.0</td>\n",
       "      <td>1.0</td>\n",
       "      <td>2013-10-11</td>\n",
       "      <td>4.0</td>\n",
       "      <td>1.0</td>\n",
       "      <td>10776</td>\n",
       "      <td>66.0</td>\n",
       "      <td>6</td>\n",
       "      <td>True</td>\n",
       "      <td>True</td>\n",
       "    </tr>\n",
       "    <tr>\n",
       "      <th>9476</th>\n",
       "      <td>jaimie peterson</td>\n",
       "      <td>jaimie</td>\n",
       "      <td>peterson</td>\n",
       "      <td>Female</td>\n",
       "      <td>1986-01-02</td>\n",
       "      <td>30</td>\n",
       "      <td>25 - 45</td>\n",
       "      <td>African-American</td>\n",
       "      <td>0</td>\n",
       "      <td>0</td>\n",
       "      <td>0</td>\n",
       "      <td>3</td>\n",
       "      <td>-1.0</td>\n",
       "      <td>2014-01-11 06:56:43</td>\n",
       "      <td>2014-01-12 02:17:00</td>\n",
       "      <td>2014-01-11</td>\n",
       "      <td>NaN</td>\n",
       "      <td>F</td>\n",
       "      <td>Felony Driving While Lic Suspd</td>\n",
       "      <td>NaN</td>\n",
       "      <td>NaN</td>\n",
       "      <td>2014-01-12</td>\n",
       "      <td>2014-01-11</td>\n",
       "      <td>2014-01-12</td>\n",
       "      <td>0</td>\n",
       "      <td>NaN</td>\n",
       "      <td>No-Recidivism</td>\n",
       "      <td>0.0</td>\n",
       "      <td>0.0</td>\n",
       "      <td>2014-01-11</td>\n",
       "      <td>1.0</td>\n",
       "      <td>1.0</td>\n",
       "      <td>10236</td>\n",
       "      <td>NaN</td>\n",
       "      <td>3</td>\n",
       "      <td>False</td>\n",
       "      <td>False</td>\n",
       "    </tr>\n",
       "    <tr>\n",
       "      <th>199</th>\n",
       "      <td>ritesh sukhlall</td>\n",
       "      <td>ritesh</td>\n",
       "      <td>sukhlall</td>\n",
       "      <td>Male</td>\n",
       "      <td>1987-05-12</td>\n",
       "      <td>28</td>\n",
       "      <td>25 - 45</td>\n",
       "      <td>Caucasian</td>\n",
       "      <td>0</td>\n",
       "      <td>0</td>\n",
       "      <td>0</td>\n",
       "      <td>2</td>\n",
       "      <td>NaN</td>\n",
       "      <td>NaN</td>\n",
       "      <td>NaN</td>\n",
       "      <td>NaN</td>\n",
       "      <td>2013-03-21</td>\n",
       "      <td>F</td>\n",
       "      <td>arrest case no charge</td>\n",
       "      <td>NaN</td>\n",
       "      <td>NaN</td>\n",
       "      <td>2013-08-29</td>\n",
       "      <td>NaN</td>\n",
       "      <td>NaN</td>\n",
       "      <td>0</td>\n",
       "      <td>NaN</td>\n",
       "      <td>No-Recidivism</td>\n",
       "      <td>0.0</td>\n",
       "      <td>0.0</td>\n",
       "      <td>2013-03-21</td>\n",
       "      <td>NaN</td>\n",
       "      <td>NaN</td>\n",
       "      <td>9445</td>\n",
       "      <td>NaN</td>\n",
       "      <td>2</td>\n",
       "      <td>False</td>\n",
       "      <td>False</td>\n",
       "    </tr>\n",
       "  </tbody>\n",
       "</table>\n",
       "</div>"
      ],
      "text/plain": [
       "                     name     first        last     sex date_of_birth  age  \\\n",
       "2677  nicholas staggewise  nicholas  staggewise    Male    1994-02-28   22   \n",
       "548          newton smith    newton       smith    Male    1995-01-28   21   \n",
       "4483       terrance irvin  terrance       irvin    Male    1984-04-10   32   \n",
       "9476      jaimie peterson    jaimie    peterson  Female    1986-01-02   30   \n",
       "199       ritesh sukhlall    ritesh    sukhlall    Male    1987-05-12   28   \n",
       "\n",
       "         age_group              race  juv_fel_count  juv_misd_count  \\\n",
       "2677  Less than 25         Caucasian              0               0   \n",
       "548   Less than 25  African-American              0               1   \n",
       "4483       25 - 45  African-American              0               0   \n",
       "9476       25 - 45  African-American              0               0   \n",
       "199        25 - 45         Caucasian              0               0   \n",
       "\n",
       "      juv_other_count  priors_count  days_b_screening_arrest  \\\n",
       "2677                0             2                     -1.0   \n",
       "548                 0             1                     -1.0   \n",
       "4483                0             6                     -1.0   \n",
       "9476                0             3                     -1.0   \n",
       "199                 0             2                      NaN   \n",
       "\n",
       "                c_jail_in           c_jail_out c_offense_date c_arrest_date  \\\n",
       "2677  2013-09-23 09:01:58  2013-09-27 03:54:42            NaN    2013-09-23   \n",
       "548   2013-06-16 12:36:42  2013-06-16 07:01:42     2013-06-15           NaN   \n",
       "4483  2013-10-11 05:38:14  2013-10-15 07:11:17     2013-10-11           NaN   \n",
       "9476  2014-01-11 06:56:43  2014-01-12 02:17:00     2014-01-11           NaN   \n",
       "199                   NaN                  NaN            NaN    2013-03-21   \n",
       "\n",
       "     c_charge_degree                   c_charge_desc   r_jail_in  r_jail_out  \\\n",
       "2677               F           arrest case no charge         NaN         NaN   \n",
       "548                F   Grand Theft in the 3rd Degree         NaN         NaN   \n",
       "4483               F   Grand Theft in the 3rd Degree  2013-12-21  2014-02-21   \n",
       "9476               F  Felony Driving While Lic Suspd         NaN         NaN   \n",
       "199                F           arrest case no charge         NaN         NaN   \n",
       "\n",
       "     screening_date  in_custody out_custody  start  id         target  \\\n",
       "2677     2013-09-24  2013-09-23  2013-09-27      3 NaN  No-Recidivism   \n",
       "548      2013-06-17  2013-06-16  2013-06-16      0 NaN        Violent   \n",
       "4483     2013-10-12  2013-10-11  2013-10-15      3 NaN    Non-Violent   \n",
       "9476     2014-01-12  2014-01-11  2014-01-12      0 NaN  No-Recidivism   \n",
       "199      2013-08-29         NaN         NaN      0 NaN  No-Recidivism   \n",
       "\n",
       "      target_int  target_bool  c_bad_date  custody_days  \\\n",
       "2677         0.0          0.0  2013-09-23           4.0   \n",
       "548          2.0          1.0  2013-06-15           0.0   \n",
       "4483         1.0          1.0  2013-10-11           4.0   \n",
       "9476         0.0          0.0  2014-01-11           1.0   \n",
       "199          0.0          0.0  2013-03-21           NaN   \n",
       "\n",
       "      in_custody_to_screening_days  birth_to_bad_days  days_until_recitivism  \\\n",
       "2677                           1.0               7147                    NaN   \n",
       "548                            1.0               6713                    NaN   \n",
       "4483                           1.0              10776                   66.0   \n",
       "9476                           1.0              10236                    NaN   \n",
       "199                            NaN               9445                    NaN   \n",
       "\n",
       "      all_priors  has_r_jail_in  has_r_jail_out  \n",
       "2677           2          False           False  \n",
       "548            2          False           False  \n",
       "4483           6           True            True  \n",
       "9476           3          False           False  \n",
       "199            2          False           False  "
      ]
     },
     "execution_count": 9,
     "metadata": {},
     "output_type": "execute_result"
    }
   ],
   "source": [
    "df.head()"
   ]
  },
  {
   "cell_type": "code",
   "execution_count": 10,
   "metadata": {
    "pycharm": {
     "is_executing": true,
     "name": "#%%\n"
    }
   },
   "outputs": [],
   "source": [
    "##########################################\n",
    "### Select features to use in modeling ###\n",
    "##########################################\n",
    "\n",
    "cols = [\n",
    "#     'name', useless\n",
    "#     'first', useless\n",
    "#     'last', useless\n",
    "#     'sex', # 0 importance + potential bias\n",
    "#     'date_of_birth', date\n",
    "#     'age', # innapropriate bias\n",
    "#     'age_group', # innapropriate bias\n",
    "#     'race', # innapropriate bias\n",
    "#     'juv_fel_count',\n",
    "#     'juv_misd_count', \n",
    "#     'juv_other_count',\n",
    "#     'priors_count', \n",
    "    'days_b_screening_arrest', # + AUC, - fairness\n",
    "#     'c_jail_in', date\n",
    "#     'c_jail_out',date\n",
    "#     'c_offense_date', date\n",
    "#     'c_arrest_date', date\n",
    "#     'c_charge_degree',  # 0 importance\n",
    "#     'c_charge_desc',\n",
    "#     'r_jail_in', date\n",
    "#     'r_jail_out', date\n",
    "#     'screening_date', date\n",
    "#     'in_custody', date\n",
    "#     'out_custody', date\n",
    "    'start', # + AUC, + fairness\n",
    "#     'target', target\n",
    "#     'target_int', target\n",
    "#     'target_bool', target\n",
    "#     'c_bad_date', date\n",
    "    'custody_days', # + AOC, + fairness\n",
    "    'in_custody_to_screening_days', # + AUC, + fairness\n",
    "#     'birth_to_bad_days', # corr=1 with age\n",
    "#     'has_r_jail_in', + AUC, - fairness\n",
    "#     'has_r_jail_out', # corr=1 with r_jail_in\n",
    "    'days_until_recitivism', # golden feature!\n",
    "    'all_priors', # the most racist/sexist/ageist feature, but without it it is even more unfair\n",
    "]\n",
    "\n",
    "cat_cols = [\n",
    "#     'sex',  # innapropriate bias\n",
    "#     'age_group', # innapropriate bias\n",
    "#     'race', # innapropriate bias\n",
    "#     'c_charge_degree', # 0 importance\n",
    "#     'c_charge_desc',\n",
    "]"
   ]
  },
  {
   "cell_type": "code",
   "execution_count": 11,
   "metadata": {},
   "outputs": [
    {
     "data": {
      "text/plain": [
       "days_b_screening_arrest         0.056504\n",
       "start                           0.000000\n",
       "custody_days                    0.044065\n",
       "in_custody_to_screening_days    0.044065\n",
       "days_until_recitivism           0.855577\n",
       "all_priors                      0.000000\n",
       "dtype: float64"
      ]
     },
     "execution_count": 11,
     "metadata": {},
     "output_type": "execute_result"
    }
   ],
   "source": [
    "# Count missing values\n",
    "df[cols].isna().sum()/len(df[cols])"
   ]
  },
  {
   "cell_type": "code",
   "execution_count": 12,
   "metadata": {},
   "outputs": [
    {
     "data": {
      "text/plain": [
       "<AxesSubplot:>"
      ]
     },
     "execution_count": 12,
     "metadata": {},
     "output_type": "execute_result"
    },
    {
     "data": {
      "image/png": "[encoded data removed]",
      "text/plain": [
       "<Figure size 1152x864 with 2 Axes>"
      ]
     },
     "metadata": {
      "needs_background": "light"
     },
     "output_type": "display_data"
    }
   ],
   "source": [
    "# Numeric correlations across numeric features\n",
    "f, ax = plt.subplots(figsize=(16, 12))\n",
    "corr = df[cols].corr()\n",
    "mask = np.triu(corr)\n",
    "sns.heatmap(corr.select_dtypes('number'), annot=True, center=0, mask=mask)"
   ]
  },
  {
   "cell_type": "code",
   "execution_count": 13,
   "metadata": {
    "scrolled": true
   },
   "outputs": [
    {
     "data": {
      "text/html": [
       "<div>\n",
       "<style scoped>\n",
       "    .dataframe tbody tr th:only-of-type {\n",
       "        vertical-align: middle;\n",
       "    }\n",
       "\n",
       "    .dataframe tbody tr th {\n",
       "        vertical-align: top;\n",
       "    }\n",
       "\n",
       "    .dataframe thead th {\n",
       "        text-align: right;\n",
       "    }\n",
       "</style>\n",
       "<table border=\"1\" class=\"dataframe\">\n",
       "  <thead>\n",
       "    <tr style=\"text-align: right;\">\n",
       "      <th></th>\n",
       "      <th>days_b_screening_arrest</th>\n",
       "      <th>start</th>\n",
       "      <th>custody_days</th>\n",
       "      <th>in_custody_to_screening_days</th>\n",
       "      <th>days_until_recitivism</th>\n",
       "      <th>all_priors</th>\n",
       "    </tr>\n",
       "  </thead>\n",
       "  <tbody>\n",
       "    <tr>\n",
       "      <th>2677</th>\n",
       "      <td>-1.0</td>\n",
       "      <td>3</td>\n",
       "      <td>4.0</td>\n",
       "      <td>1.0</td>\n",
       "      <td>NaN</td>\n",
       "      <td>2</td>\n",
       "    </tr>\n",
       "    <tr>\n",
       "      <th>548</th>\n",
       "      <td>-1.0</td>\n",
       "      <td>0</td>\n",
       "      <td>0.0</td>\n",
       "      <td>1.0</td>\n",
       "      <td>NaN</td>\n",
       "      <td>2</td>\n",
       "    </tr>\n",
       "    <tr>\n",
       "      <th>4483</th>\n",
       "      <td>-1.0</td>\n",
       "      <td>3</td>\n",
       "      <td>4.0</td>\n",
       "      <td>1.0</td>\n",
       "      <td>66.0</td>\n",
       "      <td>6</td>\n",
       "    </tr>\n",
       "    <tr>\n",
       "      <th>9476</th>\n",
       "      <td>-1.0</td>\n",
       "      <td>0</td>\n",
       "      <td>1.0</td>\n",
       "      <td>1.0</td>\n",
       "      <td>NaN</td>\n",
       "      <td>3</td>\n",
       "    </tr>\n",
       "    <tr>\n",
       "      <th>199</th>\n",
       "      <td>NaN</td>\n",
       "      <td>0</td>\n",
       "      <td>NaN</td>\n",
       "      <td>NaN</td>\n",
       "      <td>NaN</td>\n",
       "      <td>2</td>\n",
       "    </tr>\n",
       "  </tbody>\n",
       "</table>\n",
       "</div>"
      ],
      "text/plain": [
       "      days_b_screening_arrest  start  custody_days  \\\n",
       "2677                     -1.0      3           4.0   \n",
       "548                      -1.0      0           0.0   \n",
       "4483                     -1.0      3           4.0   \n",
       "9476                     -1.0      0           1.0   \n",
       "199                       NaN      0           NaN   \n",
       "\n",
       "      in_custody_to_screening_days  days_until_recitivism  all_priors  \n",
       "2677                           1.0                    NaN           2  \n",
       "548                            1.0                    NaN           2  \n",
       "4483                           1.0                   66.0           6  \n",
       "9476                           1.0                    NaN           3  \n",
       "199                            NaN                    NaN           2  "
      ]
     },
     "execution_count": 13,
     "metadata": {},
     "output_type": "execute_result"
    }
   ],
   "source": [
    "df[cols].head()"
   ]
  },
  {
   "cell_type": "code",
   "execution_count": 14,
   "metadata": {},
   "outputs": [
    {
     "data": {
      "text/plain": [
       "African-American    2266\n",
       "Caucasian           1701\n",
       "Hispanic             458\n",
       "Other                280\n",
       "Asian                 27\n",
       "Native American       11\n",
       "Name: race, dtype: int64"
      ]
     },
     "execution_count": 14,
     "metadata": {},
     "output_type": "execute_result"
    }
   ],
   "source": [
    "# df['race'] = df['race'].replace({'Native American': 'Other'})\n",
    "# df['race'] = df['race'].replace({'Native American': 'Other', 'Asian': 'Other'})\n",
    "# df['race'] = df['race'].replace({'Native American': 'Other', 'Asian': 'Other', 'Hispanic': 'Other'})\n",
    "df['race'].value_counts()"
   ]
  },
  {
   "cell_type": "code",
   "execution_count": 15,
   "metadata": {},
   "outputs": [],
   "source": [
    "df['age'] = df['age_group'] # we don't care about the actual age anyway\n",
    "df['race_age'] = df['race'] + df['age_group']\n",
    "df['race_sex'] = df['race'] + df['sex']\n",
    "df['sex_age'] = df['sex'] + df['age_group']\n",
    "df['race_sex_age'] = df['race'] + df['sex'] + df['age_group']"
   ]
  },
  {
   "cell_type": "code",
   "execution_count": 16,
   "metadata": {},
   "outputs": [],
   "source": [
    "races = df.race.unique()\n",
    "sexes = df.sex.unique()\n",
    "age_groups = df.age_group.unique()"
   ]
  },
  {
   "cell_type": "code",
   "execution_count": 17,
   "metadata": {},
   "outputs": [],
   "source": [
    "# df[cols] = df[cols].fillna(0)"
   ]
  },
  {
   "cell_type": "code",
   "execution_count": 18,
   "metadata": {},
   "outputs": [],
   "source": [
    "# Set hyperparamets\n",
    "hyperparams = dict(\n",
    "    iterations=100,\n",
    "    learning_rate=1,\n",
    "    depth=3,\n",
    "    loss_function='MultiClass'\n",
    ")"
   ]
  },
  {
   "cell_type": "code",
   "execution_count": 19,
   "metadata": {},
   "outputs": [],
   "source": [
    "df_train = df[df.target.notna()]\n",
    "df_test = df[df.target.isna()]"
   ]
  },
  {
   "cell_type": "code",
   "execution_count": 20,
   "metadata": {},
   "outputs": [
    {
     "data": {
      "text/plain": [
       "[('race',),\n",
       " ('sex',),\n",
       " ('age',),\n",
       " ('race', 'sex'),\n",
       " ('race', 'age'),\n",
       " ('sex', 'age'),\n",
       " ('race', 'sex', 'age')]"
      ]
     },
     "execution_count": 20,
     "metadata": {},
     "output_type": "execute_result"
    }
   ],
   "source": [
    "from itertools import chain, combinations\n",
    "\n",
    "def powerset(iterable):\n",
    "    \"powerset([1,2,3]) --> () (1,) (2,) (3,) (1,2) (1,3) (2,3) (1,2,3)\"\n",
    "    s = list(iterable)\n",
    "    return list(chain.from_iterable(combinations(s, r) for r in range(len(s)+1)))[1:]\n",
    "\n",
    "powerset(['race', 'sex', 'age'])"
   ]
  },
  {
   "cell_type": "markdown",
   "metadata": {},
   "source": [
    "# Cross Validation"
   ]
  },
  {
   "cell_type": "code",
   "execution_count": 21,
   "metadata": {},
   "outputs": [],
   "source": [
    "from sklearn.metrics import roc_auc_score\n",
    "\n",
    "def roc_auc_score_calm(y_true, y_score, *, average=\"macro\", sample_weight=None,\n",
    "                  max_fpr=None, multi_class=\"raise\", labels=None):\n",
    "    try:\n",
    "        return roc_auc_score(**locals())\n",
    "    except ValueError:\n",
    "        return None"
   ]
  },
  {
   "cell_type": "markdown",
   "metadata": {},
   "source": [
    "# Try predicting race/sex/age\n",
    "To see if we can, ideally we shouldn't\n",
    "Feature importances also will tell us the most racist/sexist/ageist features"
   ]
  },
  {
   "cell_type": "code",
   "execution_count": 30,
   "metadata": {},
   "outputs": [
    {
     "name": "stdout",
     "output_type": "stream",
     "text": [
      "Target col: race\n",
      "ROC-AUC 59.12% (STD: 4.77%)\n"
     ]
    },
    {
     "data": {
      "text/plain": [
       "<AxesSubplot:ylabel='feature'>"
      ]
     },
     "metadata": {},
     "output_type": "display_data"
    },
    {
     "name": "stdout",
     "output_type": "stream",
     "text": [
      "Target col: sex\n",
      "ROC-AUC 59.38% (STD: 2.17%)\n"
     ]
    },
    {
     "data": {
      "text/plain": [
       "<AxesSubplot:ylabel='feature'>"
      ]
     },
     "metadata": {},
     "output_type": "display_data"
    },
    {
     "name": "stdout",
     "output_type": "stream",
     "text": [
      "Target col: age_group\n",
      "ROC-AUC 57.63% (STD: 1.28%)\n"
     ]
    },
    {
     "data": {
      "text/plain": [
       "<AxesSubplot:ylabel='feature'>"
      ]
     },
     "metadata": {},
     "output_type": "display_data"
    },
    {
     "data": {
      "image/png": "[encoded data removed]",
      "text/plain": [
       "<Figure size 432x288 with 1 Axes>"
      ]
     },
     "metadata": {
      "needs_background": "light"
     },
     "output_type": "display_data"
    },
    {
     "data": {
      "image/png": "[encoded data removed]",
      "text/plain": [
       "<Figure size 432x288 with 1 Axes>"
      ]
     },
     "metadata": {
      "needs_background": "light"
     },
     "output_type": "display_data"
    },
    {
     "data": {
      "image/png": "[encoded data removed]",
      "text/plain": [
       "<Figure size 432x288 with 1 Axes>"
      ]
     },
     "metadata": {
      "needs_background": "light"
     },
     "output_type": "display_data"
    }
   ],
   "source": [
    "from catboost import Pool, CatBoostClassifier\n",
    "from sklearn.model_selection import RepeatedStratifiedKFold\n",
    "from sklearn.metrics import roc_auc_score, average_precision_score, accuracy_score\n",
    "import collections\n",
    "from fairlearn.metrics import MetricFrame\n",
    "\n",
    "def simple_cross_val(target_col, n_splits=5, n_repeats=5, verbose=False):\n",
    "    print(f'Target col: {target_col}')\n",
    "    kf = RepeatedStratifiedKFold(n_splits=n_splits, n_repeats=n_repeats, random_state=42)\n",
    "\n",
    "    roc_aucs = []\n",
    "\n",
    "    feature_importances = []\n",
    "    for split_idx, (train, test) in enumerate(kf.split(df_train[cols], df_train[target_col])): # Stratified on race\n",
    "        df_train_cv = df.iloc[train].reset_index(drop=True)\n",
    "        df_eval_cv = df.iloc[test].reset_index(drop=True)\n",
    "\n",
    "        train_dataset = Pool(data=df_train_cv[cols],\n",
    "                             label=df_train_cv[target_col],\n",
    "                             cat_features=cat_cols)\n",
    "\n",
    "        eval_dataset = Pool(data=df_eval_cv[cols],\n",
    "                            label=df_eval_cv[target_col],\n",
    "                            cat_features=cat_cols)\n",
    "\n",
    "        y_eval = pd.get_dummies(df_eval_cv[target_col]).to_numpy()\n",
    "        # Initialize CatBoostClassifier\n",
    "        model = CatBoostClassifier(**hyperparams)\n",
    "        # Fit model\n",
    "        model.fit(train_dataset, verbose=False)\n",
    "    #     # Get predicted probabilities for each class\n",
    "        preds_proba = model.predict_proba(eval_dataset)\n",
    "\n",
    "        roc_auc = roc_auc_score(y_eval, preds_proba, multi_class=\"ovo\")\n",
    "        roc_aucs.append(roc_auc)\n",
    "\n",
    "        feature_importances.append(model.get_feature_importance())\n",
    "        # avg_precs.append(avg_prec)\n",
    "        if verbose:\n",
    "            print(f'Split {split_idx+1:2}: ROC-AUC: {roc_auc*100:.2f}%. ')\n",
    "\n",
    "    # Evaluation\n",
    "\n",
    "    print(f'ROC-AUC {np.mean(roc_aucs)*100:.2f}% (STD: {np.std(roc_aucs)*100:.2f}%)')\n",
    "\n",
    "    # Feature importances\n",
    "    fi_df = pd.DataFrame({'feature': cols})\n",
    "    fi_df['importance'] = np.mean(feature_importances, axis=0)\n",
    "    fi_df['std'] = np.std(feature_importances, axis=0)\n",
    "    fi_df['min'] = np.min(feature_importances, axis=0)\n",
    "    fi_df['max'] = np.max(feature_importances, axis=0)\n",
    "    fi_df = fi_df.sort_values('importance', ascending=False)\n",
    "#     display(fi_df)\n",
    "    display(fi_df[['feature', 'importance']].sort_values('importance', ascending=True).plot.barh(x='feature'))\n",
    "    \n",
    "simple_cross_val('race')\n",
    "simple_cross_val('sex')\n",
    "simple_cross_val('age_group')"
   ]
  },
  {
   "cell_type": "markdown",
   "metadata": {},
   "source": [
    "# Predict target"
   ]
  },
  {
   "cell_type": "code",
   "execution_count": 23,
   "metadata": {
    "pycharm": {
     "is_executing": true
    },
    "scrolled": true
   },
   "outputs": [
    {
     "name": "stderr",
     "output_type": "stream",
     "text": [
      "Found 28 subgroups. Evaluation may be slow\n"
     ]
    },
    {
     "name": "stdout",
     "output_type": "stream",
     "text": [
      "Split  1: ROC-AUC: 87.13%. Fairness: 75.26%\n"
     ]
    },
    {
     "name": "stderr",
     "output_type": "stream",
     "text": [
      "Found 29 subgroups. Evaluation may be slow\n"
     ]
    },
    {
     "name": "stdout",
     "output_type": "stream",
     "text": [
      "Split  2: ROC-AUC: 88.18%. Fairness: 73.04%\n"
     ]
    },
    {
     "name": "stderr",
     "output_type": "stream",
     "text": [
      "Found 28 subgroups. Evaluation may be slow\n"
     ]
    },
    {
     "name": "stdout",
     "output_type": "stream",
     "text": [
      "Split  3: ROC-AUC: 88.35%. Fairness: 70.55%\n"
     ]
    },
    {
     "name": "stderr",
     "output_type": "stream",
     "text": [
      "Found 28 subgroups. Evaluation may be slow\n"
     ]
    },
    {
     "name": "stdout",
     "output_type": "stream",
     "text": [
      "Split  4: ROC-AUC: 87.74%. Fairness: 69.64%\n"
     ]
    },
    {
     "name": "stderr",
     "output_type": "stream",
     "text": [
      "Found 28 subgroups. Evaluation may be slow\n"
     ]
    },
    {
     "name": "stdout",
     "output_type": "stream",
     "text": [
      "Split  5: ROC-AUC: 88.62%. Fairness: 75.11%\n"
     ]
    },
    {
     "name": "stderr",
     "output_type": "stream",
     "text": [
      "Found 28 subgroups. Evaluation may be slow\n"
     ]
    },
    {
     "name": "stdout",
     "output_type": "stream",
     "text": [
      "Split  6: ROC-AUC: 89.49%. Fairness: 74.36%\n"
     ]
    },
    {
     "name": "stderr",
     "output_type": "stream",
     "text": [
      "Found 30 subgroups. Evaluation may be slow\n"
     ]
    },
    {
     "name": "stdout",
     "output_type": "stream",
     "text": [
      "Split  7: ROC-AUC: 89.66%. Fairness: 78.22%\n"
     ]
    },
    {
     "name": "stderr",
     "output_type": "stream",
     "text": [
      "Found 28 subgroups. Evaluation may be slow\n"
     ]
    },
    {
     "name": "stdout",
     "output_type": "stream",
     "text": [
      "Split  8: ROC-AUC: 88.54%. Fairness: 76.27%\n"
     ]
    },
    {
     "name": "stderr",
     "output_type": "stream",
     "text": [
      "Found 28 subgroups. Evaluation may be slow\n"
     ]
    },
    {
     "name": "stdout",
     "output_type": "stream",
     "text": [
      "Split  9: ROC-AUC: 85.92%. Fairness: 70.44%\n"
     ]
    },
    {
     "name": "stderr",
     "output_type": "stream",
     "text": [
      "Found 28 subgroups. Evaluation may be slow\n"
     ]
    },
    {
     "name": "stdout",
     "output_type": "stream",
     "text": [
      "Split 10: ROC-AUC: 91.01%. Fairness: 77.95%\n"
     ]
    },
    {
     "name": "stderr",
     "output_type": "stream",
     "text": [
      "Found 29 subgroups. Evaluation may be slow\n"
     ]
    },
    {
     "name": "stdout",
     "output_type": "stream",
     "text": [
      "Split 11: ROC-AUC: 87.96%. Fairness: 61.95%\n"
     ]
    },
    {
     "name": "stderr",
     "output_type": "stream",
     "text": [
      "Found 28 subgroups. Evaluation may be slow\n"
     ]
    },
    {
     "name": "stdout",
     "output_type": "stream",
     "text": [
      "Split 12: ROC-AUC: 87.29%. Fairness: 71.99%\n"
     ]
    },
    {
     "name": "stderr",
     "output_type": "stream",
     "text": [
      "Found 29 subgroups. Evaluation may be slow\n"
     ]
    },
    {
     "name": "stdout",
     "output_type": "stream",
     "text": [
      "Split 13: ROC-AUC: 90.24%. Fairness: 71.95%\n"
     ]
    },
    {
     "name": "stderr",
     "output_type": "stream",
     "text": [
      "Found 27 subgroups. Evaluation may be slow\n"
     ]
    },
    {
     "name": "stdout",
     "output_type": "stream",
     "text": [
      "Split 14: ROC-AUC: 89.77%. Fairness: 75.45%\n"
     ]
    },
    {
     "name": "stderr",
     "output_type": "stream",
     "text": [
      "Found 28 subgroups. Evaluation may be slow\n"
     ]
    },
    {
     "name": "stdout",
     "output_type": "stream",
     "text": [
      "Split 15: ROC-AUC: 88.81%. Fairness: 73.40%\n"
     ]
    },
    {
     "name": "stderr",
     "output_type": "stream",
     "text": [
      "Found 29 subgroups. Evaluation may be slow\n"
     ]
    },
    {
     "name": "stdout",
     "output_type": "stream",
     "text": [
      "Split 16: ROC-AUC: 89.71%. Fairness: 73.57%\n"
     ]
    },
    {
     "name": "stderr",
     "output_type": "stream",
     "text": [
      "Found 28 subgroups. Evaluation may be slow\n"
     ]
    },
    {
     "name": "stdout",
     "output_type": "stream",
     "text": [
      "Split 17: ROC-AUC: 87.63%. Fairness: 71.57%\n"
     ]
    },
    {
     "name": "stderr",
     "output_type": "stream",
     "text": [
      "Found 27 subgroups. Evaluation may be slow\n"
     ]
    },
    {
     "name": "stdout",
     "output_type": "stream",
     "text": [
      "Split 18: ROC-AUC: 89.29%. Fairness: 76.62%\n"
     ]
    },
    {
     "name": "stderr",
     "output_type": "stream",
     "text": [
      "Found 28 subgroups. Evaluation may be slow\n"
     ]
    },
    {
     "name": "stdout",
     "output_type": "stream",
     "text": [
      "Split 19: ROC-AUC: 85.37%. Fairness: 69.95%\n"
     ]
    },
    {
     "name": "stderr",
     "output_type": "stream",
     "text": [
      "Found 28 subgroups. Evaluation may be slow\n"
     ]
    },
    {
     "name": "stdout",
     "output_type": "stream",
     "text": [
      "Split 20: ROC-AUC: 88.81%. Fairness: 76.31%\n"
     ]
    },
    {
     "name": "stderr",
     "output_type": "stream",
     "text": [
      "Found 28 subgroups. Evaluation may be slow\n"
     ]
    },
    {
     "name": "stdout",
     "output_type": "stream",
     "text": [
      "Split 21: ROC-AUC: 91.22%. Fairness: 74.99%\n"
     ]
    },
    {
     "name": "stderr",
     "output_type": "stream",
     "text": [
      "Found 28 subgroups. Evaluation may be slow\n"
     ]
    },
    {
     "name": "stdout",
     "output_type": "stream",
     "text": [
      "Split 22: ROC-AUC: 85.93%. Fairness: 69.87%\n"
     ]
    },
    {
     "name": "stderr",
     "output_type": "stream",
     "text": [
      "Found 28 subgroups. Evaluation may be slow\n"
     ]
    },
    {
     "name": "stdout",
     "output_type": "stream",
     "text": [
      "Split 23: ROC-AUC: 90.25%. Fairness: 76.02%\n"
     ]
    },
    {
     "name": "stderr",
     "output_type": "stream",
     "text": [
      "Found 28 subgroups. Evaluation may be slow\n"
     ]
    },
    {
     "name": "stdout",
     "output_type": "stream",
     "text": [
      "Split 24: ROC-AUC: 88.09%. Fairness: 67.66%\n"
     ]
    },
    {
     "name": "stderr",
     "output_type": "stream",
     "text": [
      "Found 28 subgroups. Evaluation may be slow\n"
     ]
    },
    {
     "name": "stdout",
     "output_type": "stream",
     "text": [
      "Split 25: ROC-AUC: 87.64%. Fairness: 78.37%\n"
     ]
    },
    {
     "name": "stderr",
     "output_type": "stream",
     "text": [
      "Found 28 subgroups. Evaluation may be slow\n"
     ]
    },
    {
     "name": "stdout",
     "output_type": "stream",
     "text": [
      "Split 26: ROC-AUC: 90.16%. Fairness: 75.63%\n"
     ]
    },
    {
     "name": "stderr",
     "output_type": "stream",
     "text": [
      "Found 28 subgroups. Evaluation may be slow\n"
     ]
    },
    {
     "name": "stdout",
     "output_type": "stream",
     "text": [
      "Split 27: ROC-AUC: 88.11%. Fairness: 68.79%\n"
     ]
    },
    {
     "name": "stderr",
     "output_type": "stream",
     "text": [
      "Found 29 subgroups. Evaluation may be slow\n"
     ]
    },
    {
     "name": "stdout",
     "output_type": "stream",
     "text": [
      "Split 28: ROC-AUC: 87.77%. Fairness: 74.48%\n"
     ]
    },
    {
     "name": "stderr",
     "output_type": "stream",
     "text": [
      "Found 28 subgroups. Evaluation may be slow\n"
     ]
    },
    {
     "name": "stdout",
     "output_type": "stream",
     "text": [
      "Split 29: ROC-AUC: 83.46%. Fairness: 69.11%\n"
     ]
    },
    {
     "name": "stderr",
     "output_type": "stream",
     "text": [
      "Found 29 subgroups. Evaluation may be slow\n"
     ]
    },
    {
     "name": "stdout",
     "output_type": "stream",
     "text": [
      "Split 30: ROC-AUC: 92.61%. Fairness: 80.10%\n"
     ]
    },
    {
     "name": "stderr",
     "output_type": "stream",
     "text": [
      "Found 28 subgroups. Evaluation may be slow\n"
     ]
    },
    {
     "name": "stdout",
     "output_type": "stream",
     "text": [
      "Split 31: ROC-AUC: 90.34%. Fairness: 74.26%\n"
     ]
    },
    {
     "name": "stderr",
     "output_type": "stream",
     "text": [
      "Found 27 subgroups. Evaluation may be slow\n"
     ]
    },
    {
     "name": "stdout",
     "output_type": "stream",
     "text": [
      "Split 32: ROC-AUC: 89.63%. Fairness: 70.01%\n"
     ]
    },
    {
     "name": "stderr",
     "output_type": "stream",
     "text": [
      "Found 29 subgroups. Evaluation may be slow\n"
     ]
    },
    {
     "name": "stdout",
     "output_type": "stream",
     "text": [
      "Split 33: ROC-AUC: 85.95%. Fairness: 76.64%\n"
     ]
    },
    {
     "name": "stderr",
     "output_type": "stream",
     "text": [
      "Found 28 subgroups. Evaluation may be slow\n"
     ]
    },
    {
     "name": "stdout",
     "output_type": "stream",
     "text": [
      "Split 34: ROC-AUC: 91.07%. Fairness: 74.33%\n"
     ]
    },
    {
     "name": "stderr",
     "output_type": "stream",
     "text": [
      "Found 29 subgroups. Evaluation may be slow\n"
     ]
    },
    {
     "name": "stdout",
     "output_type": "stream",
     "text": [
      "Split 35: ROC-AUC: 89.73%. Fairness: 74.52%\n"
     ]
    },
    {
     "name": "stderr",
     "output_type": "stream",
     "text": [
      "Found 28 subgroups. Evaluation may be slow\n"
     ]
    },
    {
     "name": "stdout",
     "output_type": "stream",
     "text": [
      "Split 36: ROC-AUC: 87.45%. Fairness: 74.54%\n"
     ]
    },
    {
     "name": "stderr",
     "output_type": "stream",
     "text": [
      "Found 27 subgroups. Evaluation may be slow\n"
     ]
    },
    {
     "name": "stdout",
     "output_type": "stream",
     "text": [
      "Split 37: ROC-AUC: 89.02%. Fairness: 75.45%\n"
     ]
    },
    {
     "name": "stderr",
     "output_type": "stream",
     "text": [
      "Found 27 subgroups. Evaluation may be slow\n"
     ]
    },
    {
     "name": "stdout",
     "output_type": "stream",
     "text": [
      "Split 38: ROC-AUC: 89.88%. Fairness: 78.11%\n"
     ]
    },
    {
     "name": "stderr",
     "output_type": "stream",
     "text": [
      "Found 29 subgroups. Evaluation may be slow\n"
     ]
    },
    {
     "name": "stdout",
     "output_type": "stream",
     "text": [
      "Split 39: ROC-AUC: 87.18%. Fairness: 68.77%\n"
     ]
    },
    {
     "name": "stderr",
     "output_type": "stream",
     "text": [
      "Found 29 subgroups. Evaluation may be slow\n"
     ]
    },
    {
     "name": "stdout",
     "output_type": "stream",
     "text": [
      "Split 40: ROC-AUC: 90.31%. Fairness: 72.49%\n"
     ]
    },
    {
     "name": "stderr",
     "output_type": "stream",
     "text": [
      "Found 28 subgroups. Evaluation may be slow\n"
     ]
    },
    {
     "name": "stdout",
     "output_type": "stream",
     "text": [
      "Split 41: ROC-AUC: 87.78%. Fairness: 81.90%\n"
     ]
    },
    {
     "name": "stderr",
     "output_type": "stream",
     "text": [
      "Found 27 subgroups. Evaluation may be slow\n"
     ]
    },
    {
     "name": "stdout",
     "output_type": "stream",
     "text": [
      "Split 42: ROC-AUC: 87.51%. Fairness: 63.94%\n"
     ]
    },
    {
     "name": "stderr",
     "output_type": "stream",
     "text": [
      "Found 30 subgroups. Evaluation may be slow\n"
     ]
    },
    {
     "name": "stdout",
     "output_type": "stream",
     "text": [
      "Split 43: ROC-AUC: 88.74%. Fairness: 77.49%\n"
     ]
    },
    {
     "name": "stderr",
     "output_type": "stream",
     "text": [
      "Found 27 subgroups. Evaluation may be slow\n"
     ]
    },
    {
     "name": "stdout",
     "output_type": "stream",
     "text": [
      "Split 44: ROC-AUC: 89.44%. Fairness: 76.21%\n"
     ]
    },
    {
     "name": "stderr",
     "output_type": "stream",
     "text": [
      "Found 28 subgroups. Evaluation may be slow\n"
     ]
    },
    {
     "name": "stdout",
     "output_type": "stream",
     "text": [
      "Split 45: ROC-AUC: 89.61%. Fairness: 69.24%\n"
     ]
    },
    {
     "name": "stderr",
     "output_type": "stream",
     "text": [
      "Found 28 subgroups. Evaluation may be slow\n"
     ]
    },
    {
     "name": "stdout",
     "output_type": "stream",
     "text": [
      "Split 46: ROC-AUC: 87.19%. Fairness: 74.42%\n"
     ]
    },
    {
     "name": "stderr",
     "output_type": "stream",
     "text": [
      "Found 29 subgroups. Evaluation may be slow\n"
     ]
    },
    {
     "name": "stdout",
     "output_type": "stream",
     "text": [
      "Split 47: ROC-AUC: 87.26%. Fairness: 75.65%\n"
     ]
    },
    {
     "name": "stderr",
     "output_type": "stream",
     "text": [
      "Found 29 subgroups. Evaluation may be slow\n"
     ]
    },
    {
     "name": "stdout",
     "output_type": "stream",
     "text": [
      "Split 48: ROC-AUC: 90.29%. Fairness: 72.14%\n"
     ]
    },
    {
     "name": "stderr",
     "output_type": "stream",
     "text": [
      "Found 27 subgroups. Evaluation may be slow\n"
     ]
    },
    {
     "name": "stdout",
     "output_type": "stream",
     "text": [
      "Split 49: ROC-AUC: 90.10%. Fairness: 75.43%\n"
     ]
    },
    {
     "name": "stderr",
     "output_type": "stream",
     "text": [
      "Found 28 subgroups. Evaluation may be slow\n"
     ]
    },
    {
     "name": "stdout",
     "output_type": "stream",
     "text": [
      "Split 50: ROC-AUC: 89.33%. Fairness: 72.88%\n"
     ]
    }
   ],
   "source": [
    "from catboost import Pool, CatBoostClassifier\n",
    "from sklearn.model_selection import RepeatedStratifiedKFold\n",
    "from sklearn.metrics import roc_auc_score, average_precision_score, accuracy_score\n",
    "import collections\n",
    "from fairlearn.metrics import MetricFrame\n",
    "\n",
    "TARGET_COL = 'target'\n",
    "\n",
    "N_SPLITS = 5\n",
    "N_REPEATS = 10\n",
    "\n",
    "# Stratify based on intersections of race, age_group, sex and target.\n",
    "strat_df = pd.DataFrame(df_train[TARGET_COL].astype('str') + df_train['race_sex_age'], columns=['name'])\n",
    "\n",
    "# If cross section is too small for stratification to work (N < N_SPLITS) we mark it as an outlier\n",
    "strat_df.loc[strat_df.groupby('name').name.transform('count').lt(N_SPLITS), 'name'] = 'Outliers'    \n",
    "\n",
    "kf = RepeatedStratifiedKFold(n_splits=N_SPLITS, n_repeats=N_REPEATS, random_state=42)\n",
    "\n",
    "roc_aucs = []\n",
    "fairnesses = []\n",
    "\n",
    "\n",
    "feature_importances = []\n",
    "for split_idx, (train, test) in enumerate(kf.split(df_train[cols], strat_df['name'])): # Stratified on race\n",
    "    df_train_cv = df.iloc[train].reset_index(drop=True)\n",
    "    df_eval_cv = df.iloc[test].reset_index(drop=True)\n",
    "    \n",
    "    train_dataset = Pool(data=df_train_cv[cols],\n",
    "                         label=df_train_cv[TARGET_COL],\n",
    "                         cat_features=cat_cols)\n",
    "\n",
    "    eval_dataset = Pool(data=df_eval_cv[cols],\n",
    "                        label=df_eval_cv[TARGET_COL],\n",
    "                        cat_features=cat_cols)\n",
    "    \n",
    "    y_eval = pd.get_dummies(df_eval_cv[TARGET_COL]).to_numpy()\n",
    "    # Initialize CatBoostClassifier\n",
    "    model = CatBoostClassifier(**hyperparams)\n",
    "    # Fit model\n",
    "    model.fit(train_dataset, verbose=False)\n",
    "#     # Get predicted probabilities for each class\n",
    "    preds_proba = model.predict_proba(eval_dataset)\n",
    "    \n",
    "    roc_auc = roc_auc_score(y_eval, preds_proba, multi_class=\"ovo\")\n",
    "    roc_aucs.append(roc_auc)\n",
    "    \n",
    "    group_roc_aucs = []\n",
    "    for s in powerset(['race', 'sex', 'age']):\n",
    "        group_roc_aucs.append(MetricFrame(roc_auc_score_calm, y_eval, preds_proba, sensitive_features=df_eval_cv['_'.join(s)]).by_group)\n",
    "    fairness = 1 - np.sqrt(pd.concat(group_roc_aucs).std())\n",
    "    fairnesses.append(fairness)\n",
    "        \n",
    "    feature_importances.append(model.get_feature_importance())\n",
    "    # avg_precs.append(avg_prec)\n",
    "    print(f'Split {split_idx+1:2}: ROC-AUC: {roc_auc*100:.2f}%. '\n",
    "          f'Fairness: {fairness*100:.2f}%')"
   ]
  },
  {
   "cell_type": "code",
   "execution_count": 24,
   "metadata": {},
   "outputs": [
    {
     "name": "stdout",
     "output_type": "stream",
     "text": [
      "ROC-AUC 88.65% (STD: 1.68%)\n",
      "Fairness: 73.54% (STD: 3.81%)\n",
      "Score: 81.10%\n"
     ]
    }
   ],
   "source": [
    "# Evaluation\n",
    "\n",
    "print(f'ROC-AUC {np.mean(roc_aucs)*100:.2f}% (STD: {np.std(roc_aucs)*100:.2f}%)') # 90.48\n",
    "print(f'Fairness: {np.mean(fairnesses)*100:.2f}% (STD: {np.std(fairnesses)*100:.2f}%)') # 83.92\n",
    "\n",
    "score = 0.5 * np.mean(roc_aucs) + \\\n",
    "        0.5 * (np.mean(fairnesses))\n",
    "print(f'Score: {score*100:.2f}%') # 90.48\n"
   ]
  },
  {
   "cell_type": "markdown",
   "metadata": {},
   "source": [
    "# Full model"
   ]
  },
  {
   "cell_type": "code",
   "execution_count": 25,
   "metadata": {},
   "outputs": [
    {
     "name": "stdout",
     "output_type": "stream",
     "text": [
      "0:\tlearn: 0.3833553\ttotal: 4.92ms\tremaining: 488ms\n",
      "1:\tlearn: 0.3032372\ttotal: 8.45ms\tremaining: 414ms\n",
      "2:\tlearn: 0.2841509\ttotal: 10.5ms\tremaining: 339ms\n",
      "3:\tlearn: 0.2785780\ttotal: 13ms\tremaining: 311ms\n",
      "4:\tlearn: 0.2758421\ttotal: 15.7ms\tremaining: 299ms\n",
      "5:\tlearn: 0.2724024\ttotal: 19.3ms\tremaining: 302ms\n",
      "6:\tlearn: 0.2687890\ttotal: 22.5ms\tremaining: 299ms\n",
      "7:\tlearn: 0.2677645\ttotal: 24.9ms\tremaining: 286ms\n",
      "8:\tlearn: 0.2618792\ttotal: 27.2ms\tremaining: 275ms\n",
      "9:\tlearn: 0.2576552\ttotal: 29.9ms\tremaining: 269ms\n",
      "10:\tlearn: 0.2567003\ttotal: 33ms\tremaining: 267ms\n",
      "11:\tlearn: 0.2552818\ttotal: 35.6ms\tremaining: 261ms\n",
      "12:\tlearn: 0.2544886\ttotal: 38ms\tremaining: 254ms\n",
      "13:\tlearn: 0.2530112\ttotal: 39.9ms\tremaining: 245ms\n",
      "14:\tlearn: 0.2520962\ttotal: 42.3ms\tremaining: 240ms\n",
      "15:\tlearn: 0.2496328\ttotal: 44.8ms\tremaining: 235ms\n",
      "16:\tlearn: 0.2489199\ttotal: 47.2ms\tremaining: 230ms\n",
      "17:\tlearn: 0.2467436\ttotal: 49.7ms\tremaining: 226ms\n",
      "18:\tlearn: 0.2454067\ttotal: 52.4ms\tremaining: 224ms\n",
      "19:\tlearn: 0.2451539\ttotal: 55.2ms\tremaining: 221ms\n",
      "20:\tlearn: 0.2436469\ttotal: 57.5ms\tremaining: 216ms\n",
      "21:\tlearn: 0.2433459\ttotal: 59.5ms\tremaining: 211ms\n",
      "22:\tlearn: 0.2420657\ttotal: 61.5ms\tremaining: 206ms\n",
      "23:\tlearn: 0.2404839\ttotal: 63.8ms\tremaining: 202ms\n",
      "24:\tlearn: 0.2390010\ttotal: 65.9ms\tremaining: 198ms\n",
      "25:\tlearn: 0.2378968\ttotal: 67.7ms\tremaining: 193ms\n",
      "26:\tlearn: 0.2372330\ttotal: 69.9ms\tremaining: 189ms\n",
      "27:\tlearn: 0.2328081\ttotal: 72.2ms\tremaining: 186ms\n",
      "28:\tlearn: 0.2316693\ttotal: 74.3ms\tremaining: 182ms\n",
      "29:\tlearn: 0.2311174\ttotal: 76.7ms\tremaining: 179ms\n",
      "30:\tlearn: 0.2306384\ttotal: 78.7ms\tremaining: 175ms\n",
      "31:\tlearn: 0.2270961\ttotal: 80.8ms\tremaining: 172ms\n",
      "32:\tlearn: 0.2263764\ttotal: 83.1ms\tremaining: 169ms\n",
      "33:\tlearn: 0.2256450\ttotal: 85.1ms\tremaining: 165ms\n",
      "34:\tlearn: 0.2251518\ttotal: 87.2ms\tremaining: 162ms\n",
      "35:\tlearn: 0.2245436\ttotal: 90.2ms\tremaining: 160ms\n",
      "36:\tlearn: 0.2236659\ttotal: 95.8ms\tremaining: 163ms\n",
      "37:\tlearn: 0.2220037\ttotal: 101ms\tremaining: 165ms\n",
      "38:\tlearn: 0.2214200\ttotal: 106ms\tremaining: 166ms\n",
      "39:\tlearn: 0.2204728\ttotal: 111ms\tremaining: 166ms\n",
      "40:\tlearn: 0.2195814\ttotal: 116ms\tremaining: 167ms\n",
      "41:\tlearn: 0.2189769\ttotal: 118ms\tremaining: 163ms\n",
      "42:\tlearn: 0.2185768\ttotal: 120ms\tremaining: 160ms\n",
      "43:\tlearn: 0.2181944\ttotal: 122ms\tremaining: 156ms\n",
      "44:\tlearn: 0.2173994\ttotal: 124ms\tremaining: 152ms\n",
      "45:\tlearn: 0.2165384\ttotal: 126ms\tremaining: 148ms\n",
      "46:\tlearn: 0.2158943\ttotal: 129ms\tremaining: 146ms\n",
      "47:\tlearn: 0.2151396\ttotal: 132ms\tremaining: 143ms\n",
      "48:\tlearn: 0.2147885\ttotal: 134ms\tremaining: 139ms\n",
      "49:\tlearn: 0.2144113\ttotal: 136ms\tremaining: 136ms\n",
      "50:\tlearn: 0.2132701\ttotal: 139ms\tremaining: 133ms\n",
      "51:\tlearn: 0.2128057\ttotal: 141ms\tremaining: 130ms\n",
      "52:\tlearn: 0.2123328\ttotal: 144ms\tremaining: 128ms\n",
      "53:\tlearn: 0.2114803\ttotal: 146ms\tremaining: 125ms\n",
      "54:\tlearn: 0.2111695\ttotal: 148ms\tremaining: 121ms\n",
      "55:\tlearn: 0.2109928\ttotal: 151ms\tremaining: 119ms\n",
      "56:\tlearn: 0.2108477\ttotal: 153ms\tremaining: 115ms\n",
      "57:\tlearn: 0.2101551\ttotal: 155ms\tremaining: 112ms\n",
      "58:\tlearn: 0.2097845\ttotal: 157ms\tremaining: 109ms\n",
      "59:\tlearn: 0.2090699\ttotal: 159ms\tremaining: 106ms\n",
      "60:\tlearn: 0.2087695\ttotal: 162ms\tremaining: 103ms\n",
      "61:\tlearn: 0.2087295\ttotal: 163ms\tremaining: 100ms\n",
      "62:\tlearn: 0.2083496\ttotal: 167ms\tremaining: 97.8ms\n",
      "63:\tlearn: 0.2079870\ttotal: 170ms\tremaining: 95.4ms\n",
      "64:\tlearn: 0.2076784\ttotal: 173ms\tremaining: 93.4ms\n",
      "65:\tlearn: 0.2072667\ttotal: 178ms\tremaining: 91.5ms\n",
      "66:\tlearn: 0.2069728\ttotal: 181ms\tremaining: 89ms\n",
      "67:\tlearn: 0.2064066\ttotal: 183ms\tremaining: 86ms\n",
      "68:\tlearn: 0.2060406\ttotal: 185ms\tremaining: 83.1ms\n",
      "69:\tlearn: 0.2058179\ttotal: 188ms\tremaining: 80.7ms\n",
      "70:\tlearn: 0.2053973\ttotal: 192ms\tremaining: 78.6ms\n",
      "71:\tlearn: 0.2050823\ttotal: 196ms\tremaining: 76.4ms\n",
      "72:\tlearn: 0.2044955\ttotal: 201ms\tremaining: 74.2ms\n",
      "73:\tlearn: 0.2044348\ttotal: 203ms\tremaining: 71.5ms\n",
      "74:\tlearn: 0.2039364\ttotal: 207ms\tremaining: 68.9ms\n",
      "75:\tlearn: 0.2035626\ttotal: 210ms\tremaining: 66.4ms\n",
      "76:\tlearn: 0.2031634\ttotal: 213ms\tremaining: 63.7ms\n",
      "77:\tlearn: 0.2026084\ttotal: 216ms\tremaining: 60.9ms\n",
      "78:\tlearn: 0.2020788\ttotal: 218ms\tremaining: 58.1ms\n",
      "79:\tlearn: 0.2017815\ttotal: 221ms\tremaining: 55.2ms\n",
      "80:\tlearn: 0.2016164\ttotal: 223ms\tremaining: 52.4ms\n",
      "81:\tlearn: 0.2014295\ttotal: 226ms\tremaining: 49.5ms\n",
      "82:\tlearn: 0.2012132\ttotal: 229ms\tremaining: 46.8ms\n",
      "83:\tlearn: 0.2009983\ttotal: 232ms\tremaining: 44.1ms\n",
      "84:\tlearn: 0.2008498\ttotal: 235ms\tremaining: 41.5ms\n",
      "85:\tlearn: 0.2004591\ttotal: 238ms\tremaining: 38.8ms\n",
      "86:\tlearn: 0.2002609\ttotal: 241ms\tremaining: 36ms\n",
      "87:\tlearn: 0.2000143\ttotal: 244ms\tremaining: 33.3ms\n",
      "88:\tlearn: 0.1990824\ttotal: 246ms\tremaining: 30.5ms\n",
      "89:\tlearn: 0.1987693\ttotal: 248ms\tremaining: 27.6ms\n",
      "90:\tlearn: 0.1984181\ttotal: 251ms\tremaining: 24.8ms\n",
      "91:\tlearn: 0.1979741\ttotal: 253ms\tremaining: 22ms\n",
      "92:\tlearn: 0.1970767\ttotal: 255ms\tremaining: 19.2ms\n",
      "93:\tlearn: 0.1968872\ttotal: 257ms\tremaining: 16.4ms\n",
      "94:\tlearn: 0.1967951\ttotal: 259ms\tremaining: 13.7ms\n",
      "95:\tlearn: 0.1960989\ttotal: 262ms\tremaining: 10.9ms\n",
      "96:\tlearn: 0.1957871\ttotal: 264ms\tremaining: 8.15ms\n",
      "97:\tlearn: 0.1952576\ttotal: 266ms\tremaining: 5.43ms\n",
      "98:\tlearn: 0.1949657\ttotal: 268ms\tremaining: 2.71ms\n",
      "99:\tlearn: 0.1948434\ttotal: 270ms\tremaining: 0us\n"
     ]
    }
   ],
   "source": [
    "from catboost import Pool, CatBoostClassifier\n",
    "from sklearn.model_selection import RepeatedStratifiedKFold\n",
    "from sklearn.metrics import roc_auc_score, average_precision_score, accuracy_score\n",
    "import collections\n",
    "from fairlearn.metrics import MetricFrame\n",
    "\n",
    "TARGET_COL = 'target'\n",
    "\n",
    "train_dataset = Pool(data=df_train[cols],\n",
    "                     label=df_train[TARGET_COL],\n",
    "                     cat_features=cat_cols)\n",
    "\n",
    "eval_dataset = Pool(data=df_test[cols],\n",
    "                    label=None,\n",
    "                    cat_features=cat_cols)\n",
    "\n",
    "# y_eval = pd.get_dummies(eval_df[TARGET_COL]).to_numpy()\n",
    "# Initialize CatBoostClassifier\n",
    "model = CatBoostClassifier(**hyperparams)\n",
    "# Fit model\n",
    "model.fit(train_dataset, verbose=True)\n",
    "# Get predicted classes\n",
    "preds_class = model.predict(eval_dataset)\n",
    "#     # Get predicted probabilities for each class\n",
    "preds_proba = model.predict_proba(eval_dataset)\n",
    "#     # Get predicted RawFormulaVal\n",
    "#     preds_raw = model.predict(eval_dataset, \n",
    "#                               prediction_type='RawFormulaVal')\n",
    "\n",
    "feature_importances.append(model.get_feature_importance())"
   ]
  },
  {
   "cell_type": "code",
   "execution_count": 26,
   "metadata": {},
   "outputs": [
    {
     "data": {
      "text/html": [
       "<div>\n",
       "<style scoped>\n",
       "    .dataframe tbody tr th:only-of-type {\n",
       "        vertical-align: middle;\n",
       "    }\n",
       "\n",
       "    .dataframe tbody tr th {\n",
       "        vertical-align: top;\n",
       "    }\n",
       "\n",
       "    .dataframe thead th {\n",
       "        text-align: right;\n",
       "    }\n",
       "</style>\n",
       "<table border=\"1\" class=\"dataframe\">\n",
       "  <thead>\n",
       "    <tr style=\"text-align: right;\">\n",
       "      <th></th>\n",
       "      <th>feature</th>\n",
       "      <th>importance</th>\n",
       "      <th>std</th>\n",
       "      <th>min</th>\n",
       "      <th>max</th>\n",
       "    </tr>\n",
       "  </thead>\n",
       "  <tbody>\n",
       "    <tr>\n",
       "      <th>4</th>\n",
       "      <td>days_until_recitivism</td>\n",
       "      <td>58.586750</td>\n",
       "      <td>5.919444</td>\n",
       "      <td>44.789979</td>\n",
       "      <td>67.453044</td>\n",
       "    </tr>\n",
       "    <tr>\n",
       "      <th>5</th>\n",
       "      <td>all_priors</td>\n",
       "      <td>14.469443</td>\n",
       "      <td>2.485060</td>\n",
       "      <td>8.763042</td>\n",
       "      <td>19.239552</td>\n",
       "    </tr>\n",
       "    <tr>\n",
       "      <th>3</th>\n",
       "      <td>in_custody_to_screening_days</td>\n",
       "      <td>8.645625</td>\n",
       "      <td>1.800536</td>\n",
       "      <td>5.681369</td>\n",
       "      <td>13.120008</td>\n",
       "    </tr>\n",
       "    <tr>\n",
       "      <th>2</th>\n",
       "      <td>custody_days</td>\n",
       "      <td>8.203230</td>\n",
       "      <td>1.823713</td>\n",
       "      <td>5.050661</td>\n",
       "      <td>12.571739</td>\n",
       "    </tr>\n",
       "    <tr>\n",
       "      <th>1</th>\n",
       "      <td>start</td>\n",
       "      <td>5.508508</td>\n",
       "      <td>1.491921</td>\n",
       "      <td>2.002720</td>\n",
       "      <td>10.018217</td>\n",
       "    </tr>\n",
       "    <tr>\n",
       "      <th>0</th>\n",
       "      <td>days_b_screening_arrest</td>\n",
       "      <td>4.586444</td>\n",
       "      <td>1.398992</td>\n",
       "      <td>2.574599</td>\n",
       "      <td>8.210829</td>\n",
       "    </tr>\n",
       "  </tbody>\n",
       "</table>\n",
       "</div>"
      ],
      "text/plain": [
       "                        feature  importance       std        min        max\n",
       "4         days_until_recitivism   58.586750  5.919444  44.789979  67.453044\n",
       "5                    all_priors   14.469443  2.485060   8.763042  19.239552\n",
       "3  in_custody_to_screening_days    8.645625  1.800536   5.681369  13.120008\n",
       "2                  custody_days    8.203230  1.823713   5.050661  12.571739\n",
       "1                         start    5.508508  1.491921   2.002720  10.018217\n",
       "0       days_b_screening_arrest    4.586444  1.398992   2.574599   8.210829"
      ]
     },
     "metadata": {},
     "output_type": "display_data"
    },
    {
     "data": {
      "text/plain": [
       "<AxesSubplot:ylabel='feature'>"
      ]
     },
     "metadata": {},
     "output_type": "display_data"
    },
    {
     "data": {
      "image/png": "[encoded data removed]",
      "text/plain": [
       "<Figure size 432x288 with 1 Axes>"
      ]
     },
     "metadata": {
      "needs_background": "light"
     },
     "output_type": "display_data"
    }
   ],
   "source": [
    "# Feature importances\n",
    "fi_df = pd.DataFrame({'feature': cols})\n",
    "fi_df['importance'] = np.mean(feature_importances, axis=0)\n",
    "fi_df['std'] = np.std(feature_importances, axis=0)\n",
    "fi_df['min'] = np.min(feature_importances, axis=0)\n",
    "fi_df['max'] = np.max(feature_importances, axis=0)\n",
    "fi_df = fi_df.sort_values('importance', ascending=False)\n",
    "display(fi_df)\n",
    "display(fi_df[['feature', 'importance']].sort_values('importance', ascending=True).plot.barh(x='feature'))"
   ]
  },
  {
   "cell_type": "code",
   "execution_count": 27,
   "metadata": {
    "scrolled": true
   },
   "outputs": [
    {
     "name": "stdout",
     "output_type": "stream",
     "text": [
      "Predictions were exported to \"y_test.csv\". Upload them at https://share.streamlit.io/mkleinbort/kaggle-compas/main/app.py\n"
     ]
    }
   ],
   "source": [
    "out_cols = ['No-Recidivism', 'Non-Violent', 'Violent']\n",
    "out_df = pd.DataFrame(preds_proba, columns=out_cols)\n",
    "\n",
    "# Make sure that classes are in the right order and the highest prediction corresponds to predicted class\n",
    "out_df['class'] = out_df.apply(lambda x: out_cols[np.argmax(x[out_cols])], axis=1)\n",
    "assert (out_df['class'] == preds_class.ravel()).all()\n",
    "out_df = out_df[out_cols]\n",
    "\n",
    "out_df.to_csv('y_test.csv', index=False)\n",
    "\n",
    "import urllib.parse\n",
    "upload_link = urllib.parse.quote('share.streamlit.io/mkleinbort/kaggle-compas/main/app.py')\n",
    "y_test_link = urllib.parse.quote('y_test.csv')\n",
    "print(f'Predictions were exported to \"y_test.csv\". Upload them at https://{upload_link}')"
   ]
  },
  {
   "cell_type": "code",
   "execution_count": 28,
   "metadata": {},
   "outputs": [
    {
     "data": {
      "text/html": [
       "<div>\n",
       "<style scoped>\n",
       "    .dataframe tbody tr th:only-of-type {\n",
       "        vertical-align: middle;\n",
       "    }\n",
       "\n",
       "    .dataframe tbody tr th {\n",
       "        vertical-align: top;\n",
       "    }\n",
       "\n",
       "    .dataframe thead th {\n",
       "        text-align: right;\n",
       "    }\n",
       "</style>\n",
       "<table border=\"1\" class=\"dataframe\">\n",
       "  <thead>\n",
       "    <tr style=\"text-align: right;\">\n",
       "      <th></th>\n",
       "      <th>No-Recidivism</th>\n",
       "      <th>Non-Violent</th>\n",
       "      <th>Violent</th>\n",
       "    </tr>\n",
       "  </thead>\n",
       "  <tbody>\n",
       "    <tr>\n",
       "      <th>0</th>\n",
       "      <td>0.983390</td>\n",
       "      <td>0.010113</td>\n",
       "      <td>0.006497</td>\n",
       "    </tr>\n",
       "    <tr>\n",
       "      <th>1</th>\n",
       "      <td>0.966269</td>\n",
       "      <td>0.019109</td>\n",
       "      <td>0.014622</td>\n",
       "    </tr>\n",
       "    <tr>\n",
       "      <th>2</th>\n",
       "      <td>0.000181</td>\n",
       "      <td>0.997672</td>\n",
       "      <td>0.002147</td>\n",
       "    </tr>\n",
       "    <tr>\n",
       "      <th>3</th>\n",
       "      <td>0.968254</td>\n",
       "      <td>0.015592</td>\n",
       "      <td>0.016154</td>\n",
       "    </tr>\n",
       "    <tr>\n",
       "      <th>4</th>\n",
       "      <td>0.973141</td>\n",
       "      <td>0.018565</td>\n",
       "      <td>0.008294</td>\n",
       "    </tr>\n",
       "    <tr>\n",
       "      <th>...</th>\n",
       "      <td>...</td>\n",
       "      <td>...</td>\n",
       "      <td>...</td>\n",
       "    </tr>\n",
       "    <tr>\n",
       "      <th>944</th>\n",
       "      <td>0.948754</td>\n",
       "      <td>0.034563</td>\n",
       "      <td>0.016684</td>\n",
       "    </tr>\n",
       "    <tr>\n",
       "      <th>945</th>\n",
       "      <td>0.841074</td>\n",
       "      <td>0.124117</td>\n",
       "      <td>0.034808</td>\n",
       "    </tr>\n",
       "    <tr>\n",
       "      <th>946</th>\n",
       "      <td>0.957467</td>\n",
       "      <td>0.024083</td>\n",
       "      <td>0.018450</td>\n",
       "    </tr>\n",
       "    <tr>\n",
       "      <th>947</th>\n",
       "      <td>0.000062</td>\n",
       "      <td>0.996222</td>\n",
       "      <td>0.003716</td>\n",
       "    </tr>\n",
       "    <tr>\n",
       "      <th>948</th>\n",
       "      <td>0.959029</td>\n",
       "      <td>0.013874</td>\n",
       "      <td>0.027097</td>\n",
       "    </tr>\n",
       "  </tbody>\n",
       "</table>\n",
       "<p>949 rows × 3 columns</p>\n",
       "</div>"
      ],
      "text/plain": [
       "     No-Recidivism  Non-Violent   Violent\n",
       "0         0.983390     0.010113  0.006497\n",
       "1         0.966269     0.019109  0.014622\n",
       "2         0.000181     0.997672  0.002147\n",
       "3         0.968254     0.015592  0.016154\n",
       "4         0.973141     0.018565  0.008294\n",
       "..             ...          ...       ...\n",
       "944       0.948754     0.034563  0.016684\n",
       "945       0.841074     0.124117  0.034808\n",
       "946       0.957467     0.024083  0.018450\n",
       "947       0.000062     0.996222  0.003716\n",
       "948       0.959029     0.013874  0.027097\n",
       "\n",
       "[949 rows x 3 columns]"
      ]
     },
     "execution_count": 28,
     "metadata": {},
     "output_type": "execute_result"
    }
   ],
   "source": [
    "out_df"
   ]
  },
  {
   "cell_type": "markdown",
   "metadata": {},
   "source": [
    "# Evaluations log\n",
    "## 30/03/2021 22:18 JK\n",
    "### Columns\n",
    "['days_b_screening_arrest',\n",
    " 'start',\n",
    " 'custody_days',\n",
    " 'in_custody_to_screening_days',\n",
    " 'days_until_recitivism',\n",
    " 'all_priors']\n",
    " \n",
    "### Hyperparams\n",
    "```\n",
    "iterations=100,\n",
    "learning_rate=1, (BEST)\n",
    "depth=3, (BEST)\n",
    "loss_function='MultiClass'\n",
    "```\n",
    "\n",
    "## Results\n",
    "### CV\n",
    "```\n",
    "ROC-AUC 88.65% (STD: 1.68%)\n",
    "Fairness: 73.54% (STD: 3.81%)\n",
    "Score: 81.10%\n",
    "```\n",
    "\n",
    "### Online\n",
    "```\n",
    "You scored: 87.20% in accuracy and 68.96% in fairness.\n",
    "\n",
    "Overall Score: 78.08%\n",
    "```"
   ]
  },
  {
   "cell_type": "code",
   "execution_count": null,
   "metadata": {},
   "outputs": [],
   "source": []
  }
 ],
 "metadata": {
  "kernelspec": {
   "display_name": "PyCharm (Caggle6)",
   "language": "python",
   "name": "pycharm-a6146640"
  },
  "language_info": {
   "codemirror_mode": {
    "name": "ipython",
    "version": 3
   },
   "file_extension": ".py",
   "mimetype": "text/x-python",
   "name": "python",
   "nbconvert_exporter": "python",
   "pygments_lexer": "ipython3",
   "version": "3.8.8"
  }
 },
 "nbformat": 4,
 "nbformat_minor": 2
}
