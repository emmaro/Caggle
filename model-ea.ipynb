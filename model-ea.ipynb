{
 "cells": [
  {
   "cell_type": "code",
   "execution_count": 108,
   "metadata": {},
   "outputs": [],
   "source": [
    "import pandas as pd\n",
    "import numpy as np\n",
    "import seaborn as sns\n",
    "import matplotlib.pyplot as plt\n",
    "import matplotlib\n",
    "from datetime import datetime\n",
    "from sklearn.model_selection import train_test_split\n",
    "from sklearn.metrics import accuracy_score, roc_auc_score, confusion_matrix\n",
    "from catboost import Pool, CatBoostClassifier, cv\n",
    "\n",
    "pd.options.display.max_columns\n",
    "pd.set_option('display.max_columns', None)"
   ]
  },
  {
   "cell_type": "markdown",
   "metadata": {},
   "source": [
    "# Data Prep"
   ]
  },
  {
   "cell_type": "code",
   "execution_count": 109,
   "metadata": {
    "pycharm": {
     "is_executing": true
    }
   },
   "outputs": [],
   "source": [
    "X_train = pd.read_csv('https://raw.githubusercontent.com/mkleinbort/Kaggle-COMPAS/main/train/X_train.csv', index_col='id')\n",
    "y_train = pd.read_csv('https://raw.githubusercontent.com/mkleinbort/Kaggle-COMPAS/main/train/y_train.csv', squeeze=True)\n",
    "X_test = pd.read_csv ('https://raw.githubusercontent.com/mkleinbort/Kaggle-COMPAS/main/test/X_test.csv')"
   ]
  },
  {
   "cell_type": "code",
   "execution_count": 110,
   "metadata": {
    "pycharm": {
     "is_executing": true
    }
   },
   "outputs": [],
   "source": [
    "df = X_train\n",
    "\n",
    "df = df.drop(['v_screening_date'], axis=1) # duplicate of 'screening_date'\n",
    "df = df.drop(['v_type_of_assessment'], axis=1) # duplicate of 'type_of_assessment'\n",
    "df = df.drop(['type_of_assessment'], axis=1) # 0 variance\n",
    "\n",
    "df['target'] = y_train.to_list() # set target row-wise (ignoring indices)"
   ]
  },
  {
   "cell_type": "code",
   "execution_count": 111,
   "metadata": {
    "pycharm": {
     "is_executing": true
    }
   },
   "outputs": [],
   "source": [
    "# Engineer a new targets \n",
    "df['target_int'] = df['target'].replace({'No-Recidivism': 0, 'Non-Violent': 1, 'Violent': 2}) # so we can do regression\n",
    "df['target_bool'] = df['target'].replace({'No-Recidivism': 0, 'Non-Violent': 1, 'Violent': 1}) # 0 - no-rec, 1 - rec\n",
    "target_cols = ['target', 'target_int', 'target_bool']"
   ]
  },
  {
   "cell_type": "code",
   "execution_count": 112,
   "metadata": {
    "pycharm": {
     "is_executing": true
    },
    "scrolled": true
   },
   "outputs": [
    {
     "data": {
      "text/plain": "Index(['name', 'first', 'last', 'sex', 'date_of_birth', 'age', 'age_group',\n       'race', 'juv_fel_count', 'juv_misd_count', 'juv_other_count',\n       'priors_count', 'days_b_screening_arrest', 'c_jail_in', 'c_jail_out',\n       'c_offense_date', 'c_arrest_date', 'c_charge_degree', 'c_charge_desc',\n       'r_jail_in', 'r_jail_out', 'screening_date', 'in_custody',\n       'out_custody', 'start', 'target', 'target_int', 'target_bool'],\n      dtype='object')"
     },
     "execution_count": 112,
     "metadata": {},
     "output_type": "execute_result"
    }
   ],
   "source": [
    "df.columns"
   ]
  },
  {
   "cell_type": "code",
   "execution_count": 113,
   "metadata": {
    "pycharm": {
     "is_executing": true
    },
    "scrolled": false
   },
   "outputs": [],
   "source": [
    "# Engineer new date based features\n",
    "\n",
    "\"\"\"\n",
    "Custody: when someone is kept in prison until they go to court\n",
    "Screening:  involves  using  a  brief  instrument  to  quickly  capture basic information \n",
    "    about a person’s risk to reoffend and is  used  to  determine  if  a  more  comprehensive  assessment\n",
    "    is  warranted.  In  a  jail  setting,  everyone,  regardless  of  legal  status, should be screened \n",
    "    at booking.  Risk  screening  divides  the  jail  population  into  high-,  medium-,  and  low-risk \n",
    "    categories,  making  it  possible  to  direct  intervention  resources  first  to  the highest-risk individuals.\n",
    "\n",
    "\n",
    "\n",
    "- c_arrest_date and c_offense_date are mutually exclusive and one of them is 99.8% likely to be filled\n",
    "- c_arrest_date and c_are mutually exclusive\n",
    "- start is number of days between c_jail_in and c_jail_out, maybe worth engineering total hours/minutes between\n",
    "- screening_date is always filled\n",
    "\"\"\"\n",
    "\n",
    "\n",
    "\n",
    "days_cols = []\n",
    "\n",
    "def days_between(d1, d2):\n",
    "    try:\n",
    "        try:\n",
    "            d1 = datetime.strptime(d1, \"%Y-%m-%d\")\n",
    "        except ValueError:\n",
    "            d1 = datetime.strptime(d1, \"%Y-%m-%d %H:%M:%S\")\n",
    "            \n",
    "        try:\n",
    "            d2 = datetime.strptime(d2, \"%Y-%m-%d\")\n",
    "        except ValueError:\n",
    "            d2 = datetime.strptime(d2, \"%Y-%m-%d %H:%M:%S\")\n",
    "        return abs((d2 - d1).days)\n",
    "    except TypeError as e:\n",
    "        return None\n",
    "\n",
    "# mutually exclusive and one of them is always filled\n",
    "df['c_bad_date'] = df['c_arrest_date'].fillna(df['c_offense_date']).fillna(df['in_custody']).fillna(df['screening_date'])\n",
    "\n",
    "# how many days in custody\n",
    "df['custody_days'] = df.apply(lambda x: days_between(x.out_custody, x.in_custody), axis=1)\n",
    "\n",
    "# how quickly after going into custody did the person get screened (might indicate something?)\n",
    "df['in_custody_to_screening_days'] = df.apply(lambda x: days_between(x.in_custody, x.screening_date), axis=1)\n",
    "\n",
    "# questionable col because it is age related... Also corr=1 with age\n",
    "df['birth_to_bad_days'] = df.apply(lambda x: days_between(x.date_of_birth, x.c_bad_date), axis=1)\n",
    "\n",
    "# How many days passed until recitivism occcured. Golden feature!\n",
    "df['days_until_recitivism'] = df.apply(lambda x: days_between(x.c_jail_out, x.r_jail_in), axis=1)\n",
    "\n",
    "date_cols = [ \n",
    "    'c_arrest_date', \n",
    "    'c_offense_date',\n",
    "    'screening_date', \n",
    "    'in_custody', \n",
    "    'out_custody', \n",
    "    'date_of_birth',\n",
    "    'c_jail_in',\n",
    "    'c_jail_out',\n",
    "    'r_jail_in',\n",
    "    'r_jail_out',\n",
    "\n",
    "    # engineered\n",
    "    'c_bad_date'\n",
    "]\n",
    "\n",
    "duration_cols = [\n",
    "    'days_b_screening_arrest',\n",
    "    'custody_days',\n",
    "    'in_custody_to_screening_days',\n",
    "    'birth_to_bad_days',\n",
    "    'days_until_recitivism',\n",
    "]\n"
   ]
  },
  {
   "cell_type": "code",
   "execution_count": 114,
   "metadata": {},
   "outputs": [
    {
     "data": {
      "text/html": "<div>\n<style scoped>\n    .dataframe tbody tr th:only-of-type {\n        vertical-align: middle;\n    }\n\n    .dataframe tbody tr th {\n        vertical-align: top;\n    }\n\n    .dataframe thead th {\n        text-align: right;\n    }\n</style>\n<table border=\"1\" class=\"dataframe\">\n  <thead>\n    <tr style=\"text-align: right;\">\n      <th></th>\n      <th>c_charge_desc</th>\n      <th>c_charge_degree</th>\n    </tr>\n    <tr>\n      <th>id</th>\n      <th></th>\n      <th></th>\n    </tr>\n  </thead>\n  <tbody>\n    <tr>\n      <th>2677</th>\n      <td>arrest case no charge</td>\n      <td>F</td>\n    </tr>\n    <tr>\n      <th>548</th>\n      <td>Grand Theft in the 3rd Degree</td>\n      <td>F</td>\n    </tr>\n    <tr>\n      <th>4483</th>\n      <td>Grand Theft in the 3rd Degree</td>\n      <td>F</td>\n    </tr>\n    <tr>\n      <th>9476</th>\n      <td>Felony Driving While Lic Suspd</td>\n      <td>F</td>\n    </tr>\n    <tr>\n      <th>199</th>\n      <td>arrest case no charge</td>\n      <td>F</td>\n    </tr>\n    <tr>\n      <th>...</th>\n      <td>...</td>\n      <td>...</td>\n    </tr>\n    <tr>\n      <th>7351</th>\n      <td>Grand Theft in the 3rd Degree</td>\n      <td>F</td>\n    </tr>\n    <tr>\n      <th>364</th>\n      <td>Grand Theft in the 3rd Degree</td>\n      <td>F</td>\n    </tr>\n    <tr>\n      <th>1054</th>\n      <td>arrest case no charge</td>\n      <td>F</td>\n    </tr>\n    <tr>\n      <th>4394</th>\n      <td>Possess Cannabis/20 Grams Or Less</td>\n      <td>M</td>\n    </tr>\n    <tr>\n      <th>3042</th>\n      <td>arrest case no charge</td>\n      <td>M</td>\n    </tr>\n  </tbody>\n</table>\n<p>3794 rows × 2 columns</p>\n</div>",
      "text/plain": "                          c_charge_desc c_charge_degree\nid                                                     \n2677              arrest case no charge               F\n548       Grand Theft in the 3rd Degree               F\n4483      Grand Theft in the 3rd Degree               F\n9476     Felony Driving While Lic Suspd               F\n199               arrest case no charge               F\n...                                 ...             ...\n7351      Grand Theft in the 3rd Degree               F\n364       Grand Theft in the 3rd Degree               F\n1054              arrest case no charge               F\n4394  Possess Cannabis/20 Grams Or Less               M\n3042              arrest case no charge               M\n\n[3794 rows x 2 columns]"
     },
     "execution_count": 114,
     "metadata": {},
     "output_type": "execute_result"
    }
   ],
   "source": [
    "\n",
    "df[['c_charge_desc', 'c_charge_degree']]"
   ]
  },
  {
   "cell_type": "code",
   "execution_count": 115,
   "metadata": {
    "pycharm": {
     "is_executing": true
    }
   },
   "outputs": [],
   "source": [
    "# Has recidivism occured?\n",
    "df['has_r_jail_in'] = df['r_jail_in'].notna()\n",
    "df['has_r_jail_out'] = df['r_jail_out'].notna()"
   ]
  },
  {
   "cell_type": "code",
   "execution_count": 116,
   "metadata": {
    "pycharm": {
     "is_executing": true
    }
   },
   "outputs": [
    {
     "data": {
      "text/html": "<div>\n<style scoped>\n    .dataframe tbody tr th:only-of-type {\n        vertical-align: middle;\n    }\n\n    .dataframe tbody tr th {\n        vertical-align: top;\n    }\n\n    .dataframe thead th {\n        text-align: right;\n    }\n</style>\n<table border=\"1\" class=\"dataframe\">\n  <thead>\n    <tr style=\"text-align: right;\">\n      <th></th>\n      <th>name</th>\n      <th>first</th>\n      <th>last</th>\n      <th>sex</th>\n      <th>date_of_birth</th>\n      <th>age</th>\n      <th>age_group</th>\n      <th>race</th>\n      <th>juv_fel_count</th>\n      <th>juv_misd_count</th>\n      <th>juv_other_count</th>\n      <th>priors_count</th>\n      <th>days_b_screening_arrest</th>\n      <th>c_jail_in</th>\n      <th>c_jail_out</th>\n      <th>c_offense_date</th>\n      <th>c_arrest_date</th>\n      <th>c_charge_degree</th>\n      <th>c_charge_desc</th>\n      <th>r_jail_in</th>\n      <th>r_jail_out</th>\n      <th>screening_date</th>\n      <th>in_custody</th>\n      <th>out_custody</th>\n      <th>start</th>\n      <th>target</th>\n      <th>target_int</th>\n      <th>target_bool</th>\n      <th>c_bad_date</th>\n      <th>custody_days</th>\n      <th>in_custody_to_screening_days</th>\n      <th>birth_to_bad_days</th>\n      <th>days_until_recitivism</th>\n      <th>has_r_jail_in</th>\n      <th>has_r_jail_out</th>\n    </tr>\n    <tr>\n      <th>id</th>\n      <th></th>\n      <th></th>\n      <th></th>\n      <th></th>\n      <th></th>\n      <th></th>\n      <th></th>\n      <th></th>\n      <th></th>\n      <th></th>\n      <th></th>\n      <th></th>\n      <th></th>\n      <th></th>\n      <th></th>\n      <th></th>\n      <th></th>\n      <th></th>\n      <th></th>\n      <th></th>\n      <th></th>\n      <th></th>\n      <th></th>\n      <th></th>\n      <th></th>\n      <th></th>\n      <th></th>\n      <th></th>\n      <th></th>\n      <th></th>\n      <th></th>\n      <th></th>\n      <th></th>\n      <th></th>\n      <th></th>\n    </tr>\n  </thead>\n  <tbody>\n    <tr>\n      <th>2677</th>\n      <td>nicholas staggewise</td>\n      <td>nicholas</td>\n      <td>staggewise</td>\n      <td>Male</td>\n      <td>1994-02-28</td>\n      <td>22</td>\n      <td>Less than 25</td>\n      <td>Caucasian</td>\n      <td>0</td>\n      <td>0</td>\n      <td>0</td>\n      <td>2</td>\n      <td>-1.0</td>\n      <td>2013-09-23 09:01:58</td>\n      <td>2013-09-27 03:54:42</td>\n      <td>NaN</td>\n      <td>2013-09-23</td>\n      <td>F</td>\n      <td>arrest case no charge</td>\n      <td>NaN</td>\n      <td>NaN</td>\n      <td>2013-09-24</td>\n      <td>2013-09-23</td>\n      <td>2013-09-27</td>\n      <td>3</td>\n      <td>No-Recidivism</td>\n      <td>0</td>\n      <td>0</td>\n      <td>2013-09-23</td>\n      <td>4.0</td>\n      <td>1.0</td>\n      <td>7147</td>\n      <td>NaN</td>\n      <td>False</td>\n      <td>False</td>\n    </tr>\n    <tr>\n      <th>548</th>\n      <td>newton smith</td>\n      <td>newton</td>\n      <td>smith</td>\n      <td>Male</td>\n      <td>1995-01-28</td>\n      <td>21</td>\n      <td>Less than 25</td>\n      <td>African-American</td>\n      <td>0</td>\n      <td>1</td>\n      <td>0</td>\n      <td>1</td>\n      <td>-1.0</td>\n      <td>2013-06-16 12:36:42</td>\n      <td>2013-06-16 07:01:42</td>\n      <td>2013-06-15</td>\n      <td>NaN</td>\n      <td>F</td>\n      <td>Grand Theft in the 3rd Degree</td>\n      <td>NaN</td>\n      <td>NaN</td>\n      <td>2013-06-17</td>\n      <td>2013-06-16</td>\n      <td>2013-06-16</td>\n      <td>0</td>\n      <td>Violent</td>\n      <td>2</td>\n      <td>1</td>\n      <td>2013-06-15</td>\n      <td>0.0</td>\n      <td>1.0</td>\n      <td>6713</td>\n      <td>NaN</td>\n      <td>False</td>\n      <td>False</td>\n    </tr>\n    <tr>\n      <th>4483</th>\n      <td>terrance irvin</td>\n      <td>terrance</td>\n      <td>irvin</td>\n      <td>Male</td>\n      <td>1984-04-10</td>\n      <td>32</td>\n      <td>25 - 45</td>\n      <td>African-American</td>\n      <td>0</td>\n      <td>0</td>\n      <td>0</td>\n      <td>6</td>\n      <td>-1.0</td>\n      <td>2013-10-11 05:38:14</td>\n      <td>2013-10-15 07:11:17</td>\n      <td>2013-10-11</td>\n      <td>NaN</td>\n      <td>F</td>\n      <td>Grand Theft in the 3rd Degree</td>\n      <td>2013-12-21</td>\n      <td>2014-02-21</td>\n      <td>2013-10-12</td>\n      <td>2013-10-11</td>\n      <td>2013-10-15</td>\n      <td>3</td>\n      <td>Non-Violent</td>\n      <td>1</td>\n      <td>1</td>\n      <td>2013-10-11</td>\n      <td>4.0</td>\n      <td>1.0</td>\n      <td>10776</td>\n      <td>66.0</td>\n      <td>True</td>\n      <td>True</td>\n    </tr>\n    <tr>\n      <th>9476</th>\n      <td>jaimie peterson</td>\n      <td>jaimie</td>\n      <td>peterson</td>\n      <td>Female</td>\n      <td>1986-01-02</td>\n      <td>30</td>\n      <td>25 - 45</td>\n      <td>African-American</td>\n      <td>0</td>\n      <td>0</td>\n      <td>0</td>\n      <td>3</td>\n      <td>-1.0</td>\n      <td>2014-01-11 06:56:43</td>\n      <td>2014-01-12 02:17:00</td>\n      <td>2014-01-11</td>\n      <td>NaN</td>\n      <td>F</td>\n      <td>Felony Driving While Lic Suspd</td>\n      <td>NaN</td>\n      <td>NaN</td>\n      <td>2014-01-12</td>\n      <td>2014-01-11</td>\n      <td>2014-01-12</td>\n      <td>0</td>\n      <td>No-Recidivism</td>\n      <td>0</td>\n      <td>0</td>\n      <td>2014-01-11</td>\n      <td>1.0</td>\n      <td>1.0</td>\n      <td>10236</td>\n      <td>NaN</td>\n      <td>False</td>\n      <td>False</td>\n    </tr>\n    <tr>\n      <th>199</th>\n      <td>ritesh sukhlall</td>\n      <td>ritesh</td>\n      <td>sukhlall</td>\n      <td>Male</td>\n      <td>1987-05-12</td>\n      <td>28</td>\n      <td>25 - 45</td>\n      <td>Caucasian</td>\n      <td>0</td>\n      <td>0</td>\n      <td>0</td>\n      <td>2</td>\n      <td>NaN</td>\n      <td>NaN</td>\n      <td>NaN</td>\n      <td>NaN</td>\n      <td>2013-03-21</td>\n      <td>F</td>\n      <td>arrest case no charge</td>\n      <td>NaN</td>\n      <td>NaN</td>\n      <td>2013-08-29</td>\n      <td>NaN</td>\n      <td>NaN</td>\n      <td>0</td>\n      <td>No-Recidivism</td>\n      <td>0</td>\n      <td>0</td>\n      <td>2013-03-21</td>\n      <td>NaN</td>\n      <td>NaN</td>\n      <td>9445</td>\n      <td>NaN</td>\n      <td>False</td>\n      <td>False</td>\n    </tr>\n  </tbody>\n</table>\n</div>",
      "text/plain": "                     name     first        last     sex date_of_birth  age  \\\nid                                                                           \n2677  nicholas staggewise  nicholas  staggewise    Male    1994-02-28   22   \n548          newton smith    newton       smith    Male    1995-01-28   21   \n4483       terrance irvin  terrance       irvin    Male    1984-04-10   32   \n9476      jaimie peterson    jaimie    peterson  Female    1986-01-02   30   \n199       ritesh sukhlall    ritesh    sukhlall    Male    1987-05-12   28   \n\n         age_group              race  juv_fel_count  juv_misd_count  \\\nid                                                                    \n2677  Less than 25         Caucasian              0               0   \n548   Less than 25  African-American              0               1   \n4483       25 - 45  African-American              0               0   \n9476       25 - 45  African-American              0               0   \n199        25 - 45         Caucasian              0               0   \n\n      juv_other_count  priors_count  days_b_screening_arrest  \\\nid                                                             \n2677                0             2                     -1.0   \n548                 0             1                     -1.0   \n4483                0             6                     -1.0   \n9476                0             3                     -1.0   \n199                 0             2                      NaN   \n\n                c_jail_in           c_jail_out c_offense_date c_arrest_date  \\\nid                                                                            \n2677  2013-09-23 09:01:58  2013-09-27 03:54:42            NaN    2013-09-23   \n548   2013-06-16 12:36:42  2013-06-16 07:01:42     2013-06-15           NaN   \n4483  2013-10-11 05:38:14  2013-10-15 07:11:17     2013-10-11           NaN   \n9476  2014-01-11 06:56:43  2014-01-12 02:17:00     2014-01-11           NaN   \n199                   NaN                  NaN            NaN    2013-03-21   \n\n     c_charge_degree                   c_charge_desc   r_jail_in  r_jail_out  \\\nid                                                                             \n2677               F           arrest case no charge         NaN         NaN   \n548                F   Grand Theft in the 3rd Degree         NaN         NaN   \n4483               F   Grand Theft in the 3rd Degree  2013-12-21  2014-02-21   \n9476               F  Felony Driving While Lic Suspd         NaN         NaN   \n199                F           arrest case no charge         NaN         NaN   \n\n     screening_date  in_custody out_custody  start         target  target_int  \\\nid                                                                              \n2677     2013-09-24  2013-09-23  2013-09-27      3  No-Recidivism           0   \n548      2013-06-17  2013-06-16  2013-06-16      0        Violent           2   \n4483     2013-10-12  2013-10-11  2013-10-15      3    Non-Violent           1   \n9476     2014-01-12  2014-01-11  2014-01-12      0  No-Recidivism           0   \n199      2013-08-29         NaN         NaN      0  No-Recidivism           0   \n\n      target_bool  c_bad_date  custody_days  in_custody_to_screening_days  \\\nid                                                                          \n2677            0  2013-09-23           4.0                           1.0   \n548             1  2013-06-15           0.0                           1.0   \n4483            1  2013-10-11           4.0                           1.0   \n9476            0  2014-01-11           1.0                           1.0   \n199             0  2013-03-21           NaN                           NaN   \n\n      birth_to_bad_days  days_until_recitivism  has_r_jail_in  has_r_jail_out  \nid                                                                             \n2677               7147                    NaN          False           False  \n548                6713                    NaN          False           False  \n4483              10776                   66.0           True            True  \n9476              10236                    NaN          False           False  \n199                9445                    NaN          False           False  "
     },
     "execution_count": 116,
     "metadata": {},
     "output_type": "execute_result"
    }
   ],
   "source": [
    "# fill missing values\n",
    "df['c_charge_desc'] = df['c_charge_desc'].fillna('missing') \n",
    "\n",
    "df.head()"
   ]
  },
  {
   "cell_type": "code",
   "execution_count": 117,
   "metadata": {},
   "outputs": [],
   "source": [
    "df['all_priors'] = df[[\n",
    "    'juv_fel_count',\n",
    "    'juv_misd_count', \n",
    "    'juv_other_count',\n",
    "    'priors_count'\n",
    "]].sum(axis=1)\n",
    "\n"
   ]
  },
  {
   "cell_type": "code",
   "execution_count": 118,
   "metadata": {
    "pycharm": {
     "is_executing": true,
     "name": "#%%\n"
    }
   },
   "outputs": [],
   "source": [
    "cols = [\n",
    "#     'name', useless\n",
    "#     'first', useless\n",
    "#     'last', useless\n",
    "#     'sex', # 0 importance + potential bias\n",
    "#     'date_of_birth', date\n",
    "#     'age', # innapropriate bias\n",
    "#     'age_group', # innapropriate bias\n",
    "#     'race', # innapropriate bias\n",
    "    # 'juv_fel_count', # form part of all priors\n",
    "    # 'juv_misd_count', # form part of all priors\n",
    "    # 'juv_other_count', # form part of all priors\n",
    "    # 'priors_count', # form part of all priors\n",
    "    'all_priors',\n",
    "    'days_b_screening_arrest',\n",
    "#     'c_jail_in', date\n",
    "#     'c_jail_out',date\n",
    "#     'c_offense_date', date\n",
    "#     'c_arrest_date', date\n",
    "#     'c_charge_degree',  # 0 importance\n",
    "    'c_charge_desc',\n",
    "#     'r_jail_in', date\n",
    "#     'r_jail_out', date\n",
    "#     'screening_date', date\n",
    "#     'in_custody', date\n",
    "#     'out_custody', date\n",
    "    'start', \n",
    "#     'target', target\n",
    "#     'target_int', target\n",
    "#     'target_bool', target\n",
    "#     'c_bad_date', date\n",
    "    'custody_days',\n",
    "    'in_custody_to_screening_days',\n",
    "#     'birth_to_bad_days', # corr=1 with age\n",
    "    'has_r_jail_in', \n",
    "#     'has_r_jail_out', # corr=1 with r_jail_in\n",
    "    'days_until_recitivism', # golden feature!\n",
    "]\n",
    "\n",
    "cat_cols = [\n",
    "#     'sex',  # innapropriate bias\n",
    "#     'age_group', # innapropriate bias\n",
    "#     'race', # innapropriate bias\n",
    "#     'c_charge_degree', # 0 importance\n",
    "    'c_charge_desc',\n",
    "]"
   ]
  },
  {
   "cell_type": "code",
   "execution_count": 119,
   "metadata": {},
   "outputs": [
    {
     "data": {
      "text/plain": "<AxesSubplot:>"
     },
     "execution_count": 119,
     "metadata": {},
     "output_type": "execute_result"
    },
    {
     "data": {
      "image/png": "[encoded data removed]",
      "text/plain": "<Figure size 1152x864 with 2 Axes>"
     },
     "metadata": {
      "needs_background": "light"
     },
     "output_type": "display_data"
    }
   ],
   "source": [
    "# Numeric correlations across numeric features\n",
    "f, ax = plt.subplots(figsize=(16, 12))\n",
    "corr = df[cols].corr()\n",
    "mask = np.triu(corr)\n",
    "sns.heatmap(corr.select_dtypes('number'), annot=True, center=0, mask=mask)"
   ]
  },
  {
   "cell_type": "code",
   "execution_count": 120,
   "metadata": {},
   "outputs": [
    {
     "data": {
      "text/html": "<div>\n<style scoped>\n    .dataframe tbody tr th:only-of-type {\n        vertical-align: middle;\n    }\n\n    .dataframe tbody tr th {\n        vertical-align: top;\n    }\n\n    .dataframe thead th {\n        text-align: right;\n    }\n</style>\n<table border=\"1\" class=\"dataframe\">\n  <thead>\n    <tr style=\"text-align: right;\">\n      <th></th>\n      <th>all_priors</th>\n      <th>days_b_screening_arrest</th>\n      <th>c_charge_desc</th>\n      <th>start</th>\n      <th>custody_days</th>\n      <th>in_custody_to_screening_days</th>\n      <th>has_r_jail_in</th>\n      <th>days_until_recitivism</th>\n    </tr>\n    <tr>\n      <th>id</th>\n      <th></th>\n      <th></th>\n      <th></th>\n      <th></th>\n      <th></th>\n      <th></th>\n      <th></th>\n      <th></th>\n    </tr>\n  </thead>\n  <tbody>\n    <tr>\n      <th>2677</th>\n      <td>2</td>\n      <td>-1.0</td>\n      <td>arrest case no charge</td>\n      <td>3</td>\n      <td>4.0</td>\n      <td>1.0</td>\n      <td>False</td>\n      <td>NaN</td>\n    </tr>\n    <tr>\n      <th>548</th>\n      <td>2</td>\n      <td>-1.0</td>\n      <td>Grand Theft in the 3rd Degree</td>\n      <td>0</td>\n      <td>0.0</td>\n      <td>1.0</td>\n      <td>False</td>\n      <td>NaN</td>\n    </tr>\n    <tr>\n      <th>4483</th>\n      <td>6</td>\n      <td>-1.0</td>\n      <td>Grand Theft in the 3rd Degree</td>\n      <td>3</td>\n      <td>4.0</td>\n      <td>1.0</td>\n      <td>True</td>\n      <td>66.0</td>\n    </tr>\n    <tr>\n      <th>9476</th>\n      <td>3</td>\n      <td>-1.0</td>\n      <td>Felony Driving While Lic Suspd</td>\n      <td>0</td>\n      <td>1.0</td>\n      <td>1.0</td>\n      <td>False</td>\n      <td>NaN</td>\n    </tr>\n    <tr>\n      <th>199</th>\n      <td>2</td>\n      <td>NaN</td>\n      <td>arrest case no charge</td>\n      <td>0</td>\n      <td>NaN</td>\n      <td>NaN</td>\n      <td>False</td>\n      <td>NaN</td>\n    </tr>\n  </tbody>\n</table>\n</div>",
      "text/plain": "      all_priors  days_b_screening_arrest                   c_charge_desc  \\\nid                                                                          \n2677           2                     -1.0           arrest case no charge   \n548            2                     -1.0   Grand Theft in the 3rd Degree   \n4483           6                     -1.0   Grand Theft in the 3rd Degree   \n9476           3                     -1.0  Felony Driving While Lic Suspd   \n199            2                      NaN           arrest case no charge   \n\n      start  custody_days  in_custody_to_screening_days  has_r_jail_in  \\\nid                                                                       \n2677      3           4.0                           1.0          False   \n548       0           0.0                           1.0          False   \n4483      3           4.0                           1.0           True   \n9476      0           1.0                           1.0          False   \n199       0           NaN                           NaN          False   \n\n      days_until_recitivism  \nid                           \n2677                    NaN  \n548                     NaN  \n4483                   66.0  \n9476                    NaN  \n199                     NaN  "
     },
     "execution_count": 120,
     "metadata": {},
     "output_type": "execute_result"
    }
   ],
   "source": [
    "df[cols].head()"
   ]
  },
  {
   "cell_type": "code",
   "execution_count": 121,
   "metadata": {},
   "outputs": [
    {
     "data": {
      "text/plain": "array(['Male', 'Female'], dtype=object)"
     },
     "execution_count": 121,
     "metadata": {},
     "output_type": "execute_result"
    }
   ],
   "source": [
    "races = df.race.unique()\n",
    "sexes = df.sex.unique()\n",
    "age_groups = df.age_group.unique()\n",
    "\n",
    "sexes"
   ]
  },
  {
   "cell_type": "markdown",
   "metadata": {},
   "source": [
    "# Cross Validation"
   ]
  },
  {
   "cell_type": "code",
   "execution_count": 122,
   "metadata": {
    "pycharm": {
     "is_executing": true
    },
    "scrolled": true
   },
   "outputs": [
    {
     "name": "stdout",
     "output_type": "stream",
     "text": [
      "Split 1: ROC-AUC: 85.12%\n",
      "Split 2: ROC-AUC: 88.12%\n",
      "Split 3: ROC-AUC: 87.30%\n",
      "Split 4: ROC-AUC: 89.14%\n",
      "Split 5: ROC-AUC: 88.22%\n",
      "Split 6: ROC-AUC: 88.04%\n",
      "Split 7: ROC-AUC: 87.65%\n",
      "Split 8: ROC-AUC: 82.16%\n",
      "Split 9: ROC-AUC: 86.31%\n",
      "Split 10: ROC-AUC: 88.69%\n",
      "Split 11: ROC-AUC: 92.47%\n",
      "Split 12: ROC-AUC: 87.18%\n",
      "Split 13: ROC-AUC: 89.63%\n",
      "Split 14: ROC-AUC: 90.34%\n",
      "Split 15: ROC-AUC: 88.91%\n",
      "Split 16: ROC-AUC: 91.36%\n",
      "Split 17: ROC-AUC: 86.73%\n",
      "Split 18: ROC-AUC: 83.74%\n",
      "Split 19: ROC-AUC: 84.54%\n",
      "Split 20: ROC-AUC: 89.21%\n",
      "Split 21: ROC-AUC: 88.98%\n",
      "Split 22: ROC-AUC: 88.10%\n",
      "Split 23: ROC-AUC: 86.48%\n",
      "Split 24: ROC-AUC: 87.72%\n",
      "Split 25: ROC-AUC: 90.36%\n",
      "Split 26: ROC-AUC: 87.95%\n",
      "Split 27: ROC-AUC: 87.67%\n",
      "Split 28: ROC-AUC: 89.76%\n",
      "Split 29: ROC-AUC: 87.51%\n",
      "Split 30: ROC-AUC: 87.00%\n",
      "Split 31: ROC-AUC: 91.31%\n",
      "Split 32: ROC-AUC: 88.81%\n",
      "Split 33: ROC-AUC: 87.64%\n",
      "Split 34: ROC-AUC: 86.84%\n",
      "Split 35: ROC-AUC: 87.21%\n",
      "Split 36: ROC-AUC: 86.48%\n",
      "Split 37: ROC-AUC: 90.41%\n",
      "Split 38: ROC-AUC: 88.87%\n",
      "Split 39: ROC-AUC: 85.29%\n",
      "Split 40: ROC-AUC: 86.19%\n",
      "Split 41: ROC-AUC: 90.12%\n",
      "Split 42: ROC-AUC: 86.72%\n",
      "Split 43: ROC-AUC: 89.27%\n",
      "Split 44: ROC-AUC: 81.12%\n",
      "Split 45: ROC-AUC: 86.27%\n",
      "Split 46: ROC-AUC: 88.73%\n",
      "Split 47: ROC-AUC: 89.26%\n",
      "Split 48: ROC-AUC: 93.39%\n",
      "Split 49: ROC-AUC: 90.93%\n",
      "Split 50: ROC-AUC: 84.73%\n",
      "Split 51: ROC-AUC: 87.51%\n",
      "Split 52: ROC-AUC: 85.92%\n",
      "Split 53: ROC-AUC: 89.78%\n",
      "Split 54: ROC-AUC: 86.97%\n",
      "Split 55: ROC-AUC: 89.43%\n",
      "Split 56: ROC-AUC: 86.97%\n",
      "Split 57: ROC-AUC: 89.71%\n",
      "Split 58: ROC-AUC: 87.33%\n",
      "Split 59: ROC-AUC: 88.71%\n",
      "Split 60: ROC-AUC: 87.86%\n"
     ]
    }
   ],
   "source": [
    "from catboost import Pool, CatBoostClassifier\n",
    "from sklearn.model_selection import RepeatedStratifiedKFold\n",
    "from sklearn.metrics import roc_auc_score, average_precision_score, accuracy_score\n",
    "import collections\n",
    "\n",
    "kf = RepeatedStratifiedKFold(n_splits=6, n_repeats=10, random_state=42)\n",
    "\n",
    "# X_train, X_test, y_train, y_test = train_test_split(df[cols], df['target'], test_size=0.2)\n",
    "\n",
    "roc_aucs = []\n",
    "roc_aucs_race = collections.defaultdict(list)\n",
    "roc_aucs_age = collections.defaultdict(list)\n",
    "roc_aucs_sex = collections.defaultdict(list)\n",
    "\n",
    "feature_importances = []\n",
    "for split_idx, (train, test) in enumerate(kf.split(df[cols], df['race'])): # Stratified on race\n",
    "    train_df = df.iloc[train].reset_index(drop=True)\n",
    "    eval_df = df.iloc[test].reset_index(drop=True)\n",
    "    \n",
    "    train_dataset = Pool(data=train_df[cols],\n",
    "                         label=train_df.target,\n",
    "                         cat_features=cat_cols)\n",
    "\n",
    "    eval_dataset = Pool(data=eval_df[cols],\n",
    "                        label=eval_df.target,\n",
    "                        cat_features=cat_cols)\n",
    "    \n",
    "    y_eval = pd.get_dummies(eval_df.target).to_numpy()\n",
    "    \n",
    "    # Initialize CatBoostClassifier\n",
    "    model = CatBoostClassifier(iterations=10,\n",
    "                               learning_rate=1,\n",
    "                               depth=2,\n",
    "                               loss_function='MultiClass')\n",
    "    # Fit model\n",
    "    model.fit(train_dataset, verbose=False)\n",
    "    # Get predicted classes\n",
    "    preds_class = model.predict(eval_dataset)\n",
    "    # Get predicted probabilities for each class\n",
    "    preds_proba = model.predict_proba(eval_dataset)\n",
    "    # Get predicted RawFormulaVal\n",
    "    preds_raw = model.predict(eval_dataset, \n",
    "                              prediction_type='RawFormulaVal')\n",
    "    \n",
    "    \n",
    "    roc_auc = roc_auc_score(y_eval, preds_proba, multi_class=\"ovo\")\n",
    "    roc_aucs.append(roc_auc)\n",
    "    for race in races:\n",
    "        eval_race_df = eval_df[eval_df['race'] == race]\n",
    "        try:\n",
    "            roc_aucs_race[race].append(roc_auc_score(y_eval[eval_race_df.index], preds_proba[eval_race_df.index], multi_class=\"ovo\"))\n",
    "        except Exception as e:\n",
    "            pass\n",
    "    \n",
    "    for sex in sexes:\n",
    "        eval_sex_df = eval_df[eval_df['sex'] == sex]\n",
    "        try:\n",
    "            roc_aucs_sex[sex].append(roc_auc_score(y_eval[eval_sex_df.index], preds_proba[eval_sex_df.index], multi_class=\"ovo\"))\n",
    "        except Exception as e:\n",
    "            pass\n",
    "        \n",
    "    for age in age_groups:\n",
    "        eval_age_df = eval_df[eval_df['age_group'] == age]\n",
    "        try:\n",
    "            roc_aucs_age[age].append(roc_auc_score(y_eval[eval_age_df.index], preds_proba[eval_age_df.index], multi_class=\"ovo\"))\n",
    "        except Exception as e:\n",
    "            pass\n",
    "        \n",
    "    roc_aucs.append(roc_auc)\n",
    "    feature_importances.append(model.get_feature_importance())\n",
    "    # avg_precs.append(avg_prec)\n",
    "    print(f'Split {split_idx+1}: ROC-AUC: {roc_auc*100:.2f}%')"
   ]
  },
  {
   "cell_type": "code",
   "execution_count": 123,
   "metadata": {},
   "outputs": [
    {
     "name": "stdout",
     "output_type": "stream",
     "text": [
      "ROC-AUC 87.94%\n",
      "Race fairness: 81.33%\n",
      "Sex fairness: 90.83%\n",
      "Age fairness: 84.46%\n"
     ]
    },
    {
     "name": "stderr",
     "output_type": "stream",
     "text": [
      "/mnt/c/Users/emmar/Documents/Projects/Caggle/compas-comp/lib/python3.8/site-packages/numpy/core/fromnumeric.py:3419: RuntimeWarning: Mean of empty slice.\n",
      "  return _methods._mean(a, axis=axis, dtype=dtype,\n",
      "/mnt/c/Users/emmar/Documents/Projects/Caggle/compas-comp/lib/python3.8/site-packages/numpy/core/_methods.py:188: RuntimeWarning: invalid value encountered in double_scalars\n",
      "  ret = ret.dtype.type(ret / rcount)\n"
     ]
    }
   ],
   "source": [
    "# Evaluation\n",
    "print(f'ROC-AUC {np.mean(roc_aucs)*100:.2f}%')\n",
    "\n",
    "# Calculate ROC-AUC mean per subset\n",
    "mean_roc_aucs_race = dict()\n",
    "mean_roc_aucs_sex = dict()\n",
    "mean_roc_aucs_age = dict()\n",
    "\n",
    "for race, aucs in roc_aucs_race.items():\n",
    "    mean_roc_aucs_race[race] = np.mean(aucs)\n",
    "for sex, aucs in roc_aucs_sex.items():\n",
    "    mean_roc_aucs_sex[sex] = np.mean(aucs)\n",
    "for age, aucs in roc_aucs_age.items():\n",
    "    mean_roc_aucs_age[age] = np.mean(aucs)\n",
    "\n",
    "# Calculate ROC-AUC standard deviation per subset\n",
    "race_std = np.std([x for x in mean_roc_aucs_race.values() if np.isfinite(x)])\n",
    "sex_std = np.std([x for x in mean_roc_aucs_sex.values() if np.isfinite(x)])\n",
    "age_std = np.std([x for x in mean_roc_aucs_age.values() if np.isfinite(x)])\n",
    "\n",
    "# Calculate fairness per subset\n",
    "race_fairness = 1 - np.sqrt(race_std)\n",
    "sex_fairness = 1 - np.sqrt(sex_std)\n",
    "age_fairness = 1 - np.sqrt(age_std)\n",
    "\n",
    "print(f'Race fairness: {race_fairness*100:.2f}%')\n",
    "print(f'Sex fairness: {sex_fairness*100:.2f}%')\n",
    "print(f'Age fairness: {age_fairness*100:.2f}%')"
   ]
  },
  {
   "cell_type": "code",
   "execution_count": 124,
   "metadata": {},
   "outputs": [
    {
     "data": {
      "text/plain": "<AxesSubplot:ylabel='race'>"
     },
     "metadata": {},
     "output_type": "display_data"
    },
    {
     "data": {
      "text/plain": "<AxesSubplot:ylabel='sex'>"
     },
     "metadata": {},
     "output_type": "display_data"
    },
    {
     "data": {
      "text/plain": "<AxesSubplot:ylabel='age'>"
     },
     "metadata": {},
     "output_type": "display_data"
    },
    {
     "data": {
      "image/png": "[encoded data removed]",
      "text/plain": "<Figure size 432x288 with 1 Axes>"
     },
     "metadata": {
      "needs_background": "light"
     },
     "output_type": "display_data"
    },
    {
     "data": {
      "image/png": "[encoded data removed]",
      "text/plain": "<Figure size 432x288 with 1 Axes>"
     },
     "metadata": {
      "needs_background": "light"
     },
     "output_type": "display_data"
    },
    {
     "data": {
      "image/png": "[encoded data removed]",
      "text/plain": "<Figure size 432x288 with 1 Axes>"
     },
     "metadata": {
      "needs_background": "light"
     },
     "output_type": "display_data"
    }
   ],
   "source": [
    "race_auc_df = pd.DataFrame({'race': races, 'auc': [mean_roc_aucs_race[race] for race in races]})\n",
    "sex_auc_df = pd.DataFrame({'sex': sex, 'auc': [mean_roc_aucs_sex[sex] for sex in sexes]})\n",
    "age_auc_df = pd.DataFrame({'age': age_groups, 'auc': [mean_roc_aucs_age[age] for age in age_groups]})\n",
    "                     \n",
    "display(race_auc_df[race_auc_df['auc'].notna()].plot.barh(x='race'))\n",
    "display(sex_auc_df[sex_auc_df['auc'].notna()].plot.barh(x='sex'))\n",
    "display(age_auc_df[age_auc_df['auc'].notna()].plot.barh(x='age'))"
   ]
  },
  {
   "cell_type": "code",
   "execution_count": 125,
   "metadata": {
    "scrolled": false
   },
   "outputs": [
    {
     "data": {
      "text/html": "<div>\n<style scoped>\n    .dataframe tbody tr th:only-of-type {\n        vertical-align: middle;\n    }\n\n    .dataframe tbody tr th {\n        vertical-align: top;\n    }\n\n    .dataframe thead th {\n        text-align: right;\n    }\n</style>\n<table border=\"1\" class=\"dataframe\">\n  <thead>\n    <tr style=\"text-align: right;\">\n      <th></th>\n      <th>feature</th>\n      <th>importance</th>\n      <th>std</th>\n      <th>min</th>\n      <th>max</th>\n    </tr>\n  </thead>\n  <tbody>\n    <tr>\n      <th>6</th>\n      <td>has_r_jail_in</td>\n      <td>70.026436</td>\n      <td>4.490840</td>\n      <td>62.443409</td>\n      <td>81.089040</td>\n    </tr>\n    <tr>\n      <th>0</th>\n      <td>all_priors</td>\n      <td>12.470023</td>\n      <td>2.686492</td>\n      <td>7.731393</td>\n      <td>17.411496</td>\n    </tr>\n    <tr>\n      <th>7</th>\n      <td>days_until_recitivism</td>\n      <td>11.044547</td>\n      <td>3.178067</td>\n      <td>6.015560</td>\n      <td>19.307500</td>\n    </tr>\n    <tr>\n      <th>4</th>\n      <td>custody_days</td>\n      <td>2.332201</td>\n      <td>1.593088</td>\n      <td>0.000000</td>\n      <td>7.247136</td>\n    </tr>\n    <tr>\n      <th>5</th>\n      <td>in_custody_to_screening_days</td>\n      <td>2.098587</td>\n      <td>1.177790</td>\n      <td>0.000000</td>\n      <td>5.776840</td>\n    </tr>\n    <tr>\n      <th>1</th>\n      <td>days_b_screening_arrest</td>\n      <td>0.980088</td>\n      <td>0.683103</td>\n      <td>0.021721</td>\n      <td>3.462458</td>\n    </tr>\n    <tr>\n      <th>3</th>\n      <td>start</td>\n      <td>0.876738</td>\n      <td>1.205568</td>\n      <td>0.000000</td>\n      <td>5.600908</td>\n    </tr>\n    <tr>\n      <th>2</th>\n      <td>c_charge_desc</td>\n      <td>0.171380</td>\n      <td>0.416650</td>\n      <td>0.000000</td>\n      <td>1.616525</td>\n    </tr>\n  </tbody>\n</table>\n</div>",
      "text/plain": "                        feature  importance       std        min        max\n6                 has_r_jail_in   70.026436  4.490840  62.443409  81.089040\n0                    all_priors   12.470023  2.686492   7.731393  17.411496\n7         days_until_recitivism   11.044547  3.178067   6.015560  19.307500\n4                  custody_days    2.332201  1.593088   0.000000   7.247136\n5  in_custody_to_screening_days    2.098587  1.177790   0.000000   5.776840\n1       days_b_screening_arrest    0.980088  0.683103   0.021721   3.462458\n3                         start    0.876738  1.205568   0.000000   5.600908\n2                 c_charge_desc    0.171380  0.416650   0.000000   1.616525"
     },
     "metadata": {},
     "output_type": "display_data"
    },
    {
     "data": {
      "text/plain": "<AxesSubplot:ylabel='feature'>"
     },
     "metadata": {},
     "output_type": "display_data"
    },
    {
     "data": {
      "image/png": "[encoded data removed]",
      "text/plain": "<Figure size 432x288 with 1 Axes>"
     },
     "metadata": {
      "needs_background": "light"
     },
     "output_type": "display_data"
    }
   ],
   "source": [
    "# Feature importances\n",
    "fi_df = pd.DataFrame({'feature': cols})\n",
    "fi_df['importance'] = np.mean(feature_importances, axis=0)\n",
    "fi_df['std'] = np.std(feature_importances, axis=0)\n",
    "fi_df['min'] = np.min(feature_importances, axis=0)\n",
    "fi_df['max'] = np.max(feature_importances, axis=0)\n",
    "fi_df = fi_df.sort_values('importance', ascending=False)\n",
    "display(fi_df)\n",
    "display(fi_df[['feature', 'importance']].sort_values('importance', ascending=True).plot.barh(x='feature'))"
   ]
  },
  {
   "cell_type": "markdown",
   "metadata": {},
   "source": [
    "## Try TF"
   ]
  },
  {
   "cell_type": "code",
   "execution_count": 126,
   "metadata": {},
   "outputs": [
    {
     "name": "stdout",
     "output_type": "stream",
     "text": [
      "2428 train examples\n",
      "607 validation examples\n",
      "759 test examples\n"
     ]
    }
   ],
   "source": [
    "\n",
    "from sklearn.model_selection import RepeatedStratifiedKFold\n",
    "from sklearn.metrics import roc_auc_score, average_precision_score, accuracy_score\n",
    "import collections\n",
    "import tensorflow as tf\n",
    "from tensorflow import feature_column\n",
    "from tensorflow.keras import layers\n",
    "from sklearn.model_selection import train_test_split\n",
    "\n",
    "# kf = RepeatedStratifiedKFold(n_splits=6, n_repeats=10, random_state=42)\n",
    "\n",
    "# feature_importances = []\n",
    "# for split_idx, (train, test) in enumerate(kf.split(df[cols], df['race'])): # Stratified on race\n",
    "#     train_df = df.iloc[train].reset_index(drop=True)\n",
    "#     test_df = df.iloc[test].reset_index(drop=True)\n",
    "feature_cols = cols.append(\"target_bool\")\n",
    "\n",
    "train, test = train_test_split(df[cols], test_size=0.2)\n",
    "train, val = train_test_split(train, test_size=0.2)\n",
    "print(len(train), 'train examples')\n",
    "print(len(val), 'validation examples')\n",
    "print(len(test), 'test examples')"
   ]
  },
  {
   "cell_type": "code",
   "execution_count": 127,
   "metadata": {},
   "outputs": [],
   "source": [
    "def df_to_dataset(dataframe, shuffle=True, batch_size=32):\n",
    "  dataframe = dataframe.copy()\n",
    "  labels = dataframe.pop('target_bool')\n",
    "  ds = tf.data.Dataset.from_tensor_slices((dict(dataframe), labels))\n",
    "  if shuffle:\n",
    "    ds = ds.shuffle(buffer_size=len(dataframe))\n",
    "  ds = ds.batch(batch_size)\n",
    "  return ds"
   ]
  },
  {
   "cell_type": "code",
   "execution_count": 128,
   "metadata": {},
   "outputs": [],
   "source": [
    "batch_size = 5 # A small batch sized is used for demonstration purposes\n",
    "train_ds = df_to_dataset(train, batch_size=batch_size)\n",
    "val_ds = df_to_dataset(val, shuffle=False, batch_size=batch_size)\n",
    "test_ds = df_to_dataset(test, shuffle=False, batch_size=batch_size)"
   ]
  },
  {
   "cell_type": "code",
   "execution_count": 129,
   "metadata": {},
   "outputs": [
    {
     "data": {
      "text/plain": "<BatchDataset shapes: ({all_priors: (None,), days_b_screening_arrest: (None,), c_charge_desc: (None,), start: (None,), custody_days: (None,), in_custody_to_screening_days: (None,), has_r_jail_in: (None,), days_until_recitivism: (None,)}, (None,)), types: ({all_priors: tf.int64, days_b_screening_arrest: tf.float64, c_charge_desc: tf.string, start: tf.int64, custody_days: tf.float64, in_custody_to_screening_days: tf.float64, has_r_jail_in: tf.bool, days_until_recitivism: tf.float64}, tf.int64)>"
     },
     "execution_count": 129,
     "metadata": {},
     "output_type": "execute_result"
    }
   ],
   "source": [
    "train_ds"
   ]
  }
 ],
 "metadata": {
  "kernelspec": {
   "display_name": "Python 3",
   "language": "python",
   "name": "python3"
  },
  "language_info": {
   "codemirror_mode": {
    "name": "ipython",
    "version": 3
   },
   "file_extension": ".py",
   "mimetype": "text/x-python",
   "name": "python",
   "nbconvert_exporter": "python",
   "pygments_lexer": "ipython3",
   "version": "3.8.5-final"
  }
 },
 "nbformat": 4,
 "nbformat_minor": 2
}