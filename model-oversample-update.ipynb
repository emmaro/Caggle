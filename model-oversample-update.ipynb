{
 "cells": [
  {
   "cell_type": "code",
   "execution_count": 1,
   "metadata": {},
   "outputs": [],
   "source": [
    "import pandas as pd\n",
    "import numpy as np\n",
    "import seaborn as sns\n",
    "import matplotlib.pyplot as plt\n",
    "import matplotlib\n",
    "from datetime import datetime\n",
    "from sklearn.model_selection import train_test_split\n",
    "from sklearn.metrics import accuracy_score, roc_auc_score, confusion_matrix\n",
    "from catboost import Pool, CatBoostClassifier, cv\n",
    "pd.options.display.max_columns\n",
    "pd.set_option('display.max_columns', None)"
   ]
  },
  {
   "cell_type": "markdown",
   "metadata": {},
   "source": [
    "# Data Prep"
   ]
  },
  {
   "cell_type": "code",
   "execution_count": 2,
   "metadata": {
    "pycharm": {
     "is_executing": true
    }
   },
   "outputs": [],
   "source": [
    "X_train = pd.read_csv('https://raw.githubusercontent.com/mkleinbort/Kaggle-COMPAS/main/train/X_train.csv', index_col='id')\n",
    "y_train = pd.read_csv('https://raw.githubusercontent.com/mkleinbort/Kaggle-COMPAS/main/train/y_train.csv', squeeze=True)\n",
    "X_test = pd.read_csv ('https://raw.githubusercontent.com/mkleinbort/Kaggle-COMPAS/main/test/X_test.csv')\n",
    "y_test = np.full(len(X_test), np.nan)"
   ]
  },
  {
   "cell_type": "code",
   "execution_count": 3,
   "metadata": {
    "pycharm": {
     "is_executing": true
    }
   },
   "outputs": [],
   "source": [
    "df = pd.concat([X_train, X_test])\n",
    "\n",
    "df = df.drop(['v_screening_date'], axis=1) # duplicate of 'screening_date'\n",
    "df = df.drop(['v_type_of_assessment'], axis=1) # duplicate of 'type_of_assessment'\n",
    "df = df.drop(['type_of_assessment'], axis=1) # 0 variance\n",
    "\n",
    "df['target'] = y_train.to_list() + list(y_test) # set target row-wise (ignoring indices)\n",
    "# df['target'] = 0"
   ]
  },
  {
   "cell_type": "code",
   "execution_count": 4,
   "metadata": {
    "pycharm": {
     "is_executing": true
    }
   },
   "outputs": [],
   "source": [
    "# Engineer a new targets \n",
    "df['target_int'] = df['target'].replace({'No-Recidivism': 0, 'Non-Violent': 1, 'Violent': 2}) # so we can do regression\n",
    "df['target_bool'] = df['target'].replace({'No-Recidivism': 0, 'Non-Violent': 1, 'Violent': 1}) # 0 - no-rec, 1 - rec\n",
    "target_cols = ['target', 'target_int', 'target_bool']"
   ]
  },
  {
   "cell_type": "code",
   "execution_count": 5,
   "metadata": {
    "pycharm": {
     "is_executing": true
    }
   },
   "outputs": [
    {
     "data": {
      "text/html": [
       "<div>\n",
       "<style scoped>\n",
       "    .dataframe tbody tr th:only-of-type {\n",
       "        vertical-align: middle;\n",
       "    }\n",
       "\n",
       "    .dataframe tbody tr th {\n",
       "        vertical-align: top;\n",
       "    }\n",
       "\n",
       "    .dataframe thead th {\n",
       "        text-align: right;\n",
       "    }\n",
       "</style>\n",
       "<table border=\"1\" class=\"dataframe\">\n",
       "  <thead>\n",
       "    <tr style=\"text-align: right;\">\n",
       "      <th></th>\n",
       "      <th>name</th>\n",
       "      <th>first</th>\n",
       "      <th>last</th>\n",
       "      <th>sex</th>\n",
       "      <th>date_of_birth</th>\n",
       "      <th>age</th>\n",
       "      <th>age_group</th>\n",
       "      <th>race</th>\n",
       "      <th>juv_fel_count</th>\n",
       "      <th>juv_misd_count</th>\n",
       "      <th>juv_other_count</th>\n",
       "      <th>priors_count</th>\n",
       "      <th>days_b_screening_arrest</th>\n",
       "      <th>c_jail_in</th>\n",
       "      <th>c_jail_out</th>\n",
       "      <th>c_offense_date</th>\n",
       "      <th>c_arrest_date</th>\n",
       "      <th>c_charge_degree</th>\n",
       "      <th>c_charge_desc</th>\n",
       "      <th>r_jail_in</th>\n",
       "      <th>r_jail_out</th>\n",
       "      <th>screening_date</th>\n",
       "      <th>in_custody</th>\n",
       "      <th>out_custody</th>\n",
       "      <th>start</th>\n",
       "      <th>id</th>\n",
       "      <th>target</th>\n",
       "      <th>target_int</th>\n",
       "      <th>target_bool</th>\n",
       "      <th>c_bad_date</th>\n",
       "      <th>custody_days</th>\n",
       "      <th>in_custody_to_screening_days</th>\n",
       "      <th>birth_to_bad_days</th>\n",
       "      <th>days_until_recitivism</th>\n",
       "    </tr>\n",
       "  </thead>\n",
       "  <tbody>\n",
       "    <tr>\n",
       "      <th>2677</th>\n",
       "      <td>nicholas staggewise</td>\n",
       "      <td>nicholas</td>\n",
       "      <td>staggewise</td>\n",
       "      <td>Male</td>\n",
       "      <td>1994-02-28</td>\n",
       "      <td>22</td>\n",
       "      <td>Less than 25</td>\n",
       "      <td>Caucasian</td>\n",
       "      <td>0</td>\n",
       "      <td>0</td>\n",
       "      <td>0</td>\n",
       "      <td>2</td>\n",
       "      <td>-1.0</td>\n",
       "      <td>2013-09-23 09:01:58</td>\n",
       "      <td>2013-09-27 03:54:42</td>\n",
       "      <td>NaN</td>\n",
       "      <td>2013-09-23</td>\n",
       "      <td>F</td>\n",
       "      <td>arrest case no charge</td>\n",
       "      <td>NaN</td>\n",
       "      <td>NaN</td>\n",
       "      <td>2013-09-24</td>\n",
       "      <td>2013-09-23</td>\n",
       "      <td>2013-09-27</td>\n",
       "      <td>3</td>\n",
       "      <td>NaN</td>\n",
       "      <td>No-Recidivism</td>\n",
       "      <td>0.0</td>\n",
       "      <td>0.0</td>\n",
       "      <td>2013-09-23</td>\n",
       "      <td>4.0</td>\n",
       "      <td>1.0</td>\n",
       "      <td>7147</td>\n",
       "      <td>NaN</td>\n",
       "    </tr>\n",
       "    <tr>\n",
       "      <th>548</th>\n",
       "      <td>newton smith</td>\n",
       "      <td>newton</td>\n",
       "      <td>smith</td>\n",
       "      <td>Male</td>\n",
       "      <td>1995-01-28</td>\n",
       "      <td>21</td>\n",
       "      <td>Less than 25</td>\n",
       "      <td>African-American</td>\n",
       "      <td>0</td>\n",
       "      <td>1</td>\n",
       "      <td>0</td>\n",
       "      <td>1</td>\n",
       "      <td>-1.0</td>\n",
       "      <td>2013-06-16 12:36:42</td>\n",
       "      <td>2013-06-16 07:01:42</td>\n",
       "      <td>2013-06-15</td>\n",
       "      <td>NaN</td>\n",
       "      <td>F</td>\n",
       "      <td>Grand Theft in the 3rd Degree</td>\n",
       "      <td>NaN</td>\n",
       "      <td>NaN</td>\n",
       "      <td>2013-06-17</td>\n",
       "      <td>2013-06-16</td>\n",
       "      <td>2013-06-16</td>\n",
       "      <td>0</td>\n",
       "      <td>NaN</td>\n",
       "      <td>Violent</td>\n",
       "      <td>2.0</td>\n",
       "      <td>1.0</td>\n",
       "      <td>2013-06-15</td>\n",
       "      <td>0.0</td>\n",
       "      <td>1.0</td>\n",
       "      <td>6713</td>\n",
       "      <td>NaN</td>\n",
       "    </tr>\n",
       "    <tr>\n",
       "      <th>4483</th>\n",
       "      <td>terrance irvin</td>\n",
       "      <td>terrance</td>\n",
       "      <td>irvin</td>\n",
       "      <td>Male</td>\n",
       "      <td>1984-04-10</td>\n",
       "      <td>32</td>\n",
       "      <td>25 - 45</td>\n",
       "      <td>African-American</td>\n",
       "      <td>0</td>\n",
       "      <td>0</td>\n",
       "      <td>0</td>\n",
       "      <td>6</td>\n",
       "      <td>-1.0</td>\n",
       "      <td>2013-10-11 05:38:14</td>\n",
       "      <td>2013-10-15 07:11:17</td>\n",
       "      <td>2013-10-11</td>\n",
       "      <td>NaN</td>\n",
       "      <td>F</td>\n",
       "      <td>Grand Theft in the 3rd Degree</td>\n",
       "      <td>2013-12-21</td>\n",
       "      <td>2014-02-21</td>\n",
       "      <td>2013-10-12</td>\n",
       "      <td>2013-10-11</td>\n",
       "      <td>2013-10-15</td>\n",
       "      <td>3</td>\n",
       "      <td>NaN</td>\n",
       "      <td>Non-Violent</td>\n",
       "      <td>1.0</td>\n",
       "      <td>1.0</td>\n",
       "      <td>2013-10-11</td>\n",
       "      <td>4.0</td>\n",
       "      <td>1.0</td>\n",
       "      <td>10776</td>\n",
       "      <td>66.0</td>\n",
       "    </tr>\n",
       "    <tr>\n",
       "      <th>9476</th>\n",
       "      <td>jaimie peterson</td>\n",
       "      <td>jaimie</td>\n",
       "      <td>peterson</td>\n",
       "      <td>Female</td>\n",
       "      <td>1986-01-02</td>\n",
       "      <td>30</td>\n",
       "      <td>25 - 45</td>\n",
       "      <td>African-American</td>\n",
       "      <td>0</td>\n",
       "      <td>0</td>\n",
       "      <td>0</td>\n",
       "      <td>3</td>\n",
       "      <td>-1.0</td>\n",
       "      <td>2014-01-11 06:56:43</td>\n",
       "      <td>2014-01-12 02:17:00</td>\n",
       "      <td>2014-01-11</td>\n",
       "      <td>NaN</td>\n",
       "      <td>F</td>\n",
       "      <td>Felony Driving While Lic Suspd</td>\n",
       "      <td>NaN</td>\n",
       "      <td>NaN</td>\n",
       "      <td>2014-01-12</td>\n",
       "      <td>2014-01-11</td>\n",
       "      <td>2014-01-12</td>\n",
       "      <td>0</td>\n",
       "      <td>NaN</td>\n",
       "      <td>No-Recidivism</td>\n",
       "      <td>0.0</td>\n",
       "      <td>0.0</td>\n",
       "      <td>2014-01-11</td>\n",
       "      <td>1.0</td>\n",
       "      <td>1.0</td>\n",
       "      <td>10236</td>\n",
       "      <td>NaN</td>\n",
       "    </tr>\n",
       "    <tr>\n",
       "      <th>199</th>\n",
       "      <td>ritesh sukhlall</td>\n",
       "      <td>ritesh</td>\n",
       "      <td>sukhlall</td>\n",
       "      <td>Male</td>\n",
       "      <td>1987-05-12</td>\n",
       "      <td>28</td>\n",
       "      <td>25 - 45</td>\n",
       "      <td>Caucasian</td>\n",
       "      <td>0</td>\n",
       "      <td>0</td>\n",
       "      <td>0</td>\n",
       "      <td>2</td>\n",
       "      <td>NaN</td>\n",
       "      <td>NaN</td>\n",
       "      <td>NaN</td>\n",
       "      <td>NaN</td>\n",
       "      <td>2013-03-21</td>\n",
       "      <td>F</td>\n",
       "      <td>arrest case no charge</td>\n",
       "      <td>NaN</td>\n",
       "      <td>NaN</td>\n",
       "      <td>2013-08-29</td>\n",
       "      <td>NaN</td>\n",
       "      <td>NaN</td>\n",
       "      <td>0</td>\n",
       "      <td>NaN</td>\n",
       "      <td>No-Recidivism</td>\n",
       "      <td>0.0</td>\n",
       "      <td>0.0</td>\n",
       "      <td>2013-03-21</td>\n",
       "      <td>NaN</td>\n",
       "      <td>NaN</td>\n",
       "      <td>9445</td>\n",
       "      <td>NaN</td>\n",
       "    </tr>\n",
       "  </tbody>\n",
       "</table>\n",
       "</div>"
      ],
      "text/plain": [
       "                     name     first        last     sex date_of_birth  age  \\\n",
       "2677  nicholas staggewise  nicholas  staggewise    Male    1994-02-28   22   \n",
       "548          newton smith    newton       smith    Male    1995-01-28   21   \n",
       "4483       terrance irvin  terrance       irvin    Male    1984-04-10   32   \n",
       "9476      jaimie peterson    jaimie    peterson  Female    1986-01-02   30   \n",
       "199       ritesh sukhlall    ritesh    sukhlall    Male    1987-05-12   28   \n",
       "\n",
       "         age_group              race  juv_fel_count  juv_misd_count  \\\n",
       "2677  Less than 25         Caucasian              0               0   \n",
       "548   Less than 25  African-American              0               1   \n",
       "4483       25 - 45  African-American              0               0   \n",
       "9476       25 - 45  African-American              0               0   \n",
       "199        25 - 45         Caucasian              0               0   \n",
       "\n",
       "      juv_other_count  priors_count  days_b_screening_arrest  \\\n",
       "2677                0             2                     -1.0   \n",
       "548                 0             1                     -1.0   \n",
       "4483                0             6                     -1.0   \n",
       "9476                0             3                     -1.0   \n",
       "199                 0             2                      NaN   \n",
       "\n",
       "                c_jail_in           c_jail_out c_offense_date c_arrest_date  \\\n",
       "2677  2013-09-23 09:01:58  2013-09-27 03:54:42            NaN    2013-09-23   \n",
       "548   2013-06-16 12:36:42  2013-06-16 07:01:42     2013-06-15           NaN   \n",
       "4483  2013-10-11 05:38:14  2013-10-15 07:11:17     2013-10-11           NaN   \n",
       "9476  2014-01-11 06:56:43  2014-01-12 02:17:00     2014-01-11           NaN   \n",
       "199                   NaN                  NaN            NaN    2013-03-21   \n",
       "\n",
       "     c_charge_degree                   c_charge_desc   r_jail_in  r_jail_out  \\\n",
       "2677               F           arrest case no charge         NaN         NaN   \n",
       "548                F   Grand Theft in the 3rd Degree         NaN         NaN   \n",
       "4483               F   Grand Theft in the 3rd Degree  2013-12-21  2014-02-21   \n",
       "9476               F  Felony Driving While Lic Suspd         NaN         NaN   \n",
       "199                F           arrest case no charge         NaN         NaN   \n",
       "\n",
       "     screening_date  in_custody out_custody  start  id         target  \\\n",
       "2677     2013-09-24  2013-09-23  2013-09-27      3 NaN  No-Recidivism   \n",
       "548      2013-06-17  2013-06-16  2013-06-16      0 NaN        Violent   \n",
       "4483     2013-10-12  2013-10-11  2013-10-15      3 NaN    Non-Violent   \n",
       "9476     2014-01-12  2014-01-11  2014-01-12      0 NaN  No-Recidivism   \n",
       "199      2013-08-29         NaN         NaN      0 NaN  No-Recidivism   \n",
       "\n",
       "      target_int  target_bool  c_bad_date  custody_days  \\\n",
       "2677         0.0          0.0  2013-09-23           4.0   \n",
       "548          2.0          1.0  2013-06-15           0.0   \n",
       "4483         1.0          1.0  2013-10-11           4.0   \n",
       "9476         0.0          0.0  2014-01-11           1.0   \n",
       "199          0.0          0.0  2013-03-21           NaN   \n",
       "\n",
       "      in_custody_to_screening_days  birth_to_bad_days  days_until_recitivism  \n",
       "2677                           1.0               7147                    NaN  \n",
       "548                            1.0               6713                    NaN  \n",
       "4483                           1.0              10776                   66.0  \n",
       "9476                           1.0              10236                    NaN  \n",
       "199                            NaN               9445                    NaN  "
      ]
     },
     "execution_count": 5,
     "metadata": {},
     "output_type": "execute_result"
    }
   ],
   "source": [
    "# Engineer new date based features\n",
    "\n",
    "\"\"\"\n",
    "Custody: when someone is kept in prison until they go to court\n",
    "Screening:  involves  using  a  brief  instrument  to  quickly  capture basic information \n",
    "    about a person’s risk to reoffend and is  used  to  determine  if  a  more  comprehensive  assessment\n",
    "    is  warranted.  In  a  jail  setting,  everyone,  regardless  of  legal  status, should be screened \n",
    "    at booking.  Risk  screening  divides  the  jail  population  into  high-,  medium-,  and  low-risk \n",
    "    categories,  making  it  possible  to  direct  intervention  resources  first  to  the highest-risk individuals.\n",
    "\n",
    "\n",
    "\n",
    "- c_arrest_date and c_offense_date are mutually exclusive and one of them is 99.8% likely to be filled\n",
    "- c_arrest_date and c_are mutually exclusive\n",
    "- start is number of days between c_jail_in and c_jail_out, maybe worth engineering total hours/minutes between\n",
    "- screening_date is always filled\n",
    "\"\"\"\n",
    "\n",
    "\n",
    "\n",
    "days_cols = []\n",
    "\n",
    "def days_between(d1, d2):\n",
    "    try:\n",
    "        try:\n",
    "            d1 = datetime.strptime(d1, \"%Y-%m-%d\")\n",
    "        except ValueError:\n",
    "            d1 = datetime.strptime(d1, \"%Y-%m-%d %H:%M:%S\")\n",
    "            \n",
    "        try:\n",
    "            d2 = datetime.strptime(d2, \"%Y-%m-%d\")\n",
    "        except ValueError:\n",
    "            d2 = datetime.strptime(d2, \"%Y-%m-%d %H:%M:%S\")\n",
    "        return abs((d2 - d1).days)\n",
    "    except TypeError as e:\n",
    "        return None\n",
    "\n",
    "# mutually exclusive and one of them is always filled\n",
    "df['c_bad_date'] = df['c_arrest_date'].fillna(df['c_offense_date']).fillna(df['in_custody']).fillna(df['screening_date'])\n",
    "\n",
    "# how many days in custody\n",
    "df['custody_days'] = df.apply(lambda x: days_between(x.out_custody, x.in_custody), axis=1)\n",
    "\n",
    "# how quickly after going into custody did the person get screened (might indicate something?)\n",
    "df['in_custody_to_screening_days'] = df.apply(lambda x: days_between(x.in_custody, x.screening_date), axis=1)\n",
    "\n",
    "# questionable col because it is age related... Also corr=1 with age\n",
    "df['birth_to_bad_days'] = df.apply(lambda x: days_between(x.date_of_birth, x.c_bad_date), axis=1)\n",
    "\n",
    "# How many days passed until recitivism occcured. Golden feature!\n",
    "df['days_until_recitivism'] = df.apply(lambda x: days_between(x.c_jail_out, x.r_jail_in), axis=1)\n",
    "\n",
    "date_cols = [ \n",
    "    'c_arrest_date', \n",
    "    'c_offense_date',\n",
    "    'screening_date', \n",
    "    'in_custody', \n",
    "    'out_custody', \n",
    "    'date_of_birth',\n",
    "    'c_jail_in',\n",
    "    'c_jail_out',\n",
    "    'r_jail_in',\n",
    "    'r_jail_out',\n",
    "\n",
    "    # engineered\n",
    "    'c_bad_date'\n",
    "]\n",
    "\n",
    "duration_cols = [\n",
    "    'days_b_screening_arrest',\n",
    "    'custody_days',\n",
    "    'in_custody_to_screening_days',\n",
    "    'birth_to_bad_days',\n",
    "    'days_until_recitivism',\n",
    "]\n",
    "\n",
    "df.head()"
   ]
  },
  {
   "cell_type": "code",
   "execution_count": 6,
   "metadata": {},
   "outputs": [],
   "source": [
    "# All prior counts\n",
    "df['all_priors'] = df[[\n",
    "    'juv_fel_count',\n",
    "    'juv_misd_count', \n",
    "    'juv_other_count',\n",
    "    'priors_count',\n",
    "]].sum(axis=1)"
   ]
  },
  {
   "cell_type": "code",
   "execution_count": 7,
   "metadata": {
    "pycharm": {
     "is_executing": true
    }
   },
   "outputs": [],
   "source": [
    "# Has recidivism occured?\n",
    "df['has_r_jail_in'] = df['r_jail_in'].notna()\n",
    "df['has_r_jail_out'] = df['r_jail_out'].notna()"
   ]
  },
  {
   "cell_type": "code",
   "execution_count": 8,
   "metadata": {},
   "outputs": [],
   "source": [
    "# fill missing values\n",
    "df['c_charge_desc'] = df['c_charge_desc'].fillna('missing') "
   ]
  },
  {
   "cell_type": "code",
   "execution_count": 9,
   "metadata": {
    "pycharm": {
     "is_executing": true
    }
   },
   "outputs": [
    {
     "data": {
      "text/html": [
       "<div>\n",
       "<style scoped>\n",
       "    .dataframe tbody tr th:only-of-type {\n",
       "        vertical-align: middle;\n",
       "    }\n",
       "\n",
       "    .dataframe tbody tr th {\n",
       "        vertical-align: top;\n",
       "    }\n",
       "\n",
       "    .dataframe thead th {\n",
       "        text-align: right;\n",
       "    }\n",
       "</style>\n",
       "<table border=\"1\" class=\"dataframe\">\n",
       "  <thead>\n",
       "    <tr style=\"text-align: right;\">\n",
       "      <th></th>\n",
       "      <th>name</th>\n",
       "      <th>first</th>\n",
       "      <th>last</th>\n",
       "      <th>sex</th>\n",
       "      <th>date_of_birth</th>\n",
       "      <th>age</th>\n",
       "      <th>age_group</th>\n",
       "      <th>race</th>\n",
       "      <th>juv_fel_count</th>\n",
       "      <th>juv_misd_count</th>\n",
       "      <th>juv_other_count</th>\n",
       "      <th>priors_count</th>\n",
       "      <th>days_b_screening_arrest</th>\n",
       "      <th>c_jail_in</th>\n",
       "      <th>c_jail_out</th>\n",
       "      <th>c_offense_date</th>\n",
       "      <th>c_arrest_date</th>\n",
       "      <th>c_charge_degree</th>\n",
       "      <th>c_charge_desc</th>\n",
       "      <th>r_jail_in</th>\n",
       "      <th>r_jail_out</th>\n",
       "      <th>screening_date</th>\n",
       "      <th>in_custody</th>\n",
       "      <th>out_custody</th>\n",
       "      <th>start</th>\n",
       "      <th>id</th>\n",
       "      <th>target</th>\n",
       "      <th>target_int</th>\n",
       "      <th>target_bool</th>\n",
       "      <th>c_bad_date</th>\n",
       "      <th>custody_days</th>\n",
       "      <th>in_custody_to_screening_days</th>\n",
       "      <th>birth_to_bad_days</th>\n",
       "      <th>days_until_recitivism</th>\n",
       "      <th>all_priors</th>\n",
       "      <th>has_r_jail_in</th>\n",
       "      <th>has_r_jail_out</th>\n",
       "    </tr>\n",
       "  </thead>\n",
       "  <tbody>\n",
       "    <tr>\n",
       "      <th>2677</th>\n",
       "      <td>nicholas staggewise</td>\n",
       "      <td>nicholas</td>\n",
       "      <td>staggewise</td>\n",
       "      <td>Male</td>\n",
       "      <td>1994-02-28</td>\n",
       "      <td>22</td>\n",
       "      <td>Less than 25</td>\n",
       "      <td>Caucasian</td>\n",
       "      <td>0</td>\n",
       "      <td>0</td>\n",
       "      <td>0</td>\n",
       "      <td>2</td>\n",
       "      <td>-1.0</td>\n",
       "      <td>2013-09-23 09:01:58</td>\n",
       "      <td>2013-09-27 03:54:42</td>\n",
       "      <td>NaN</td>\n",
       "      <td>2013-09-23</td>\n",
       "      <td>F</td>\n",
       "      <td>arrest case no charge</td>\n",
       "      <td>NaN</td>\n",
       "      <td>NaN</td>\n",
       "      <td>2013-09-24</td>\n",
       "      <td>2013-09-23</td>\n",
       "      <td>2013-09-27</td>\n",
       "      <td>3</td>\n",
       "      <td>NaN</td>\n",
       "      <td>No-Recidivism</td>\n",
       "      <td>0.0</td>\n",
       "      <td>0.0</td>\n",
       "      <td>2013-09-23</td>\n",
       "      <td>4.0</td>\n",
       "      <td>1.0</td>\n",
       "      <td>7147</td>\n",
       "      <td>NaN</td>\n",
       "      <td>2</td>\n",
       "      <td>False</td>\n",
       "      <td>False</td>\n",
       "    </tr>\n",
       "    <tr>\n",
       "      <th>548</th>\n",
       "      <td>newton smith</td>\n",
       "      <td>newton</td>\n",
       "      <td>smith</td>\n",
       "      <td>Male</td>\n",
       "      <td>1995-01-28</td>\n",
       "      <td>21</td>\n",
       "      <td>Less than 25</td>\n",
       "      <td>African-American</td>\n",
       "      <td>0</td>\n",
       "      <td>1</td>\n",
       "      <td>0</td>\n",
       "      <td>1</td>\n",
       "      <td>-1.0</td>\n",
       "      <td>2013-06-16 12:36:42</td>\n",
       "      <td>2013-06-16 07:01:42</td>\n",
       "      <td>2013-06-15</td>\n",
       "      <td>NaN</td>\n",
       "      <td>F</td>\n",
       "      <td>Grand Theft in the 3rd Degree</td>\n",
       "      <td>NaN</td>\n",
       "      <td>NaN</td>\n",
       "      <td>2013-06-17</td>\n",
       "      <td>2013-06-16</td>\n",
       "      <td>2013-06-16</td>\n",
       "      <td>0</td>\n",
       "      <td>NaN</td>\n",
       "      <td>Violent</td>\n",
       "      <td>2.0</td>\n",
       "      <td>1.0</td>\n",
       "      <td>2013-06-15</td>\n",
       "      <td>0.0</td>\n",
       "      <td>1.0</td>\n",
       "      <td>6713</td>\n",
       "      <td>NaN</td>\n",
       "      <td>2</td>\n",
       "      <td>False</td>\n",
       "      <td>False</td>\n",
       "    </tr>\n",
       "    <tr>\n",
       "      <th>4483</th>\n",
       "      <td>terrance irvin</td>\n",
       "      <td>terrance</td>\n",
       "      <td>irvin</td>\n",
       "      <td>Male</td>\n",
       "      <td>1984-04-10</td>\n",
       "      <td>32</td>\n",
       "      <td>25 - 45</td>\n",
       "      <td>African-American</td>\n",
       "      <td>0</td>\n",
       "      <td>0</td>\n",
       "      <td>0</td>\n",
       "      <td>6</td>\n",
       "      <td>-1.0</td>\n",
       "      <td>2013-10-11 05:38:14</td>\n",
       "      <td>2013-10-15 07:11:17</td>\n",
       "      <td>2013-10-11</td>\n",
       "      <td>NaN</td>\n",
       "      <td>F</td>\n",
       "      <td>Grand Theft in the 3rd Degree</td>\n",
       "      <td>2013-12-21</td>\n",
       "      <td>2014-02-21</td>\n",
       "      <td>2013-10-12</td>\n",
       "      <td>2013-10-11</td>\n",
       "      <td>2013-10-15</td>\n",
       "      <td>3</td>\n",
       "      <td>NaN</td>\n",
       "      <td>Non-Violent</td>\n",
       "      <td>1.0</td>\n",
       "      <td>1.0</td>\n",
       "      <td>2013-10-11</td>\n",
       "      <td>4.0</td>\n",
       "      <td>1.0</td>\n",
       "      <td>10776</td>\n",
       "      <td>66.0</td>\n",
       "      <td>6</td>\n",
       "      <td>True</td>\n",
       "      <td>True</td>\n",
       "    </tr>\n",
       "    <tr>\n",
       "      <th>9476</th>\n",
       "      <td>jaimie peterson</td>\n",
       "      <td>jaimie</td>\n",
       "      <td>peterson</td>\n",
       "      <td>Female</td>\n",
       "      <td>1986-01-02</td>\n",
       "      <td>30</td>\n",
       "      <td>25 - 45</td>\n",
       "      <td>African-American</td>\n",
       "      <td>0</td>\n",
       "      <td>0</td>\n",
       "      <td>0</td>\n",
       "      <td>3</td>\n",
       "      <td>-1.0</td>\n",
       "      <td>2014-01-11 06:56:43</td>\n",
       "      <td>2014-01-12 02:17:00</td>\n",
       "      <td>2014-01-11</td>\n",
       "      <td>NaN</td>\n",
       "      <td>F</td>\n",
       "      <td>Felony Driving While Lic Suspd</td>\n",
       "      <td>NaN</td>\n",
       "      <td>NaN</td>\n",
       "      <td>2014-01-12</td>\n",
       "      <td>2014-01-11</td>\n",
       "      <td>2014-01-12</td>\n",
       "      <td>0</td>\n",
       "      <td>NaN</td>\n",
       "      <td>No-Recidivism</td>\n",
       "      <td>0.0</td>\n",
       "      <td>0.0</td>\n",
       "      <td>2014-01-11</td>\n",
       "      <td>1.0</td>\n",
       "      <td>1.0</td>\n",
       "      <td>10236</td>\n",
       "      <td>NaN</td>\n",
       "      <td>3</td>\n",
       "      <td>False</td>\n",
       "      <td>False</td>\n",
       "    </tr>\n",
       "    <tr>\n",
       "      <th>199</th>\n",
       "      <td>ritesh sukhlall</td>\n",
       "      <td>ritesh</td>\n",
       "      <td>sukhlall</td>\n",
       "      <td>Male</td>\n",
       "      <td>1987-05-12</td>\n",
       "      <td>28</td>\n",
       "      <td>25 - 45</td>\n",
       "      <td>Caucasian</td>\n",
       "      <td>0</td>\n",
       "      <td>0</td>\n",
       "      <td>0</td>\n",
       "      <td>2</td>\n",
       "      <td>NaN</td>\n",
       "      <td>NaN</td>\n",
       "      <td>NaN</td>\n",
       "      <td>NaN</td>\n",
       "      <td>2013-03-21</td>\n",
       "      <td>F</td>\n",
       "      <td>arrest case no charge</td>\n",
       "      <td>NaN</td>\n",
       "      <td>NaN</td>\n",
       "      <td>2013-08-29</td>\n",
       "      <td>NaN</td>\n",
       "      <td>NaN</td>\n",
       "      <td>0</td>\n",
       "      <td>NaN</td>\n",
       "      <td>No-Recidivism</td>\n",
       "      <td>0.0</td>\n",
       "      <td>0.0</td>\n",
       "      <td>2013-03-21</td>\n",
       "      <td>NaN</td>\n",
       "      <td>NaN</td>\n",
       "      <td>9445</td>\n",
       "      <td>NaN</td>\n",
       "      <td>2</td>\n",
       "      <td>False</td>\n",
       "      <td>False</td>\n",
       "    </tr>\n",
       "  </tbody>\n",
       "</table>\n",
       "</div>"
      ],
      "text/plain": [
       "                     name     first        last     sex date_of_birth  age  \\\n",
       "2677  nicholas staggewise  nicholas  staggewise    Male    1994-02-28   22   \n",
       "548          newton smith    newton       smith    Male    1995-01-28   21   \n",
       "4483       terrance irvin  terrance       irvin    Male    1984-04-10   32   \n",
       "9476      jaimie peterson    jaimie    peterson  Female    1986-01-02   30   \n",
       "199       ritesh sukhlall    ritesh    sukhlall    Male    1987-05-12   28   \n",
       "\n",
       "         age_group              race  juv_fel_count  juv_misd_count  \\\n",
       "2677  Less than 25         Caucasian              0               0   \n",
       "548   Less than 25  African-American              0               1   \n",
       "4483       25 - 45  African-American              0               0   \n",
       "9476       25 - 45  African-American              0               0   \n",
       "199        25 - 45         Caucasian              0               0   \n",
       "\n",
       "      juv_other_count  priors_count  days_b_screening_arrest  \\\n",
       "2677                0             2                     -1.0   \n",
       "548                 0             1                     -1.0   \n",
       "4483                0             6                     -1.0   \n",
       "9476                0             3                     -1.0   \n",
       "199                 0             2                      NaN   \n",
       "\n",
       "                c_jail_in           c_jail_out c_offense_date c_arrest_date  \\\n",
       "2677  2013-09-23 09:01:58  2013-09-27 03:54:42            NaN    2013-09-23   \n",
       "548   2013-06-16 12:36:42  2013-06-16 07:01:42     2013-06-15           NaN   \n",
       "4483  2013-10-11 05:38:14  2013-10-15 07:11:17     2013-10-11           NaN   \n",
       "9476  2014-01-11 06:56:43  2014-01-12 02:17:00     2014-01-11           NaN   \n",
       "199                   NaN                  NaN            NaN    2013-03-21   \n",
       "\n",
       "     c_charge_degree                   c_charge_desc   r_jail_in  r_jail_out  \\\n",
       "2677               F           arrest case no charge         NaN         NaN   \n",
       "548                F   Grand Theft in the 3rd Degree         NaN         NaN   \n",
       "4483               F   Grand Theft in the 3rd Degree  2013-12-21  2014-02-21   \n",
       "9476               F  Felony Driving While Lic Suspd         NaN         NaN   \n",
       "199                F           arrest case no charge         NaN         NaN   \n",
       "\n",
       "     screening_date  in_custody out_custody  start  id         target  \\\n",
       "2677     2013-09-24  2013-09-23  2013-09-27      3 NaN  No-Recidivism   \n",
       "548      2013-06-17  2013-06-16  2013-06-16      0 NaN        Violent   \n",
       "4483     2013-10-12  2013-10-11  2013-10-15      3 NaN    Non-Violent   \n",
       "9476     2014-01-12  2014-01-11  2014-01-12      0 NaN  No-Recidivism   \n",
       "199      2013-08-29         NaN         NaN      0 NaN  No-Recidivism   \n",
       "\n",
       "      target_int  target_bool  c_bad_date  custody_days  \\\n",
       "2677         0.0          0.0  2013-09-23           4.0   \n",
       "548          2.0          1.0  2013-06-15           0.0   \n",
       "4483         1.0          1.0  2013-10-11           4.0   \n",
       "9476         0.0          0.0  2014-01-11           1.0   \n",
       "199          0.0          0.0  2013-03-21           NaN   \n",
       "\n",
       "      in_custody_to_screening_days  birth_to_bad_days  days_until_recitivism  \\\n",
       "2677                           1.0               7147                    NaN   \n",
       "548                            1.0               6713                    NaN   \n",
       "4483                           1.0              10776                   66.0   \n",
       "9476                           1.0              10236                    NaN   \n",
       "199                            NaN               9445                    NaN   \n",
       "\n",
       "      all_priors  has_r_jail_in  has_r_jail_out  \n",
       "2677           2          False           False  \n",
       "548            2          False           False  \n",
       "4483           6           True            True  \n",
       "9476           3          False           False  \n",
       "199            2          False           False  "
      ]
     },
     "execution_count": 9,
     "metadata": {},
     "output_type": "execute_result"
    }
   ],
   "source": [
    "df.head()"
   ]
  },
  {
   "cell_type": "code",
   "execution_count": 10,
   "metadata": {
    "pycharm": {
     "is_executing": true,
     "name": "#%%\n"
    }
   },
   "outputs": [],
   "source": [
    "##########################################\n",
    "### Select features to use in modeling ###\n",
    "##########################################\n",
    "\n",
    "cols = [\n",
    "#     'name', useless\n",
    "#     'first', useless\n",
    "#     'last', useless\n",
    "#     'sex', # 0 importance + potential bias\n",
    "#     'date_of_birth', date\n",
    "#     'age', # innapropriate bias\n",
    "#     'age_group', # innapropriate bias\n",
    "#     'race', # innapropriate bias\n",
    "#     'juv_fel_count',\n",
    "#     'juv_misd_count', \n",
    "#     'juv_other_count',\n",
    "#     'priors_count', \n",
    "    'days_b_screening_arrest', # + AUC, - fairness\n",
    "#     'c_jail_in', date\n",
    "#     'c_jail_out',date\n",
    "#     'c_offense_date', date\n",
    "#     'c_arrest_date', date\n",
    "#     'c_charge_degree',  # 0 importance\n",
    "#     'c_charge_desc',\n",
    "#     'r_jail_in', date\n",
    "#     'r_jail_out', date\n",
    "#     'screening_date', date\n",
    "#     'in_custody', date\n",
    "#     'out_custody', date\n",
    "    'start', # + AUC, + fairness\n",
    "#     'target', target\n",
    "#     'target_int', target\n",
    "#     'target_bool', target\n",
    "#     'c_bad_date', date\n",
    "    'custody_days', # + AOC, + fairness\n",
    "    'in_custody_to_screening_days', # + AUC, + fairness\n",
    "#     'birth_to_bad_days', # corr=1 with age\n",
    "#     'has_r_jail_in', + AUC, - fairness\n",
    "#     'has_r_jail_out', # corr=1 with r_jail_in\n",
    "    'days_until_recitivism', # golden feature!\n",
    "    'all_priors', # the most racist/sexist/ageist feature, but without it it is even more unfair\n",
    "]\n",
    "\n",
    "cat_cols = [\n",
    "#     'sex',  # innapropriate bias\n",
    "#     'age_group', # innapropriate bias\n",
    "#     'race', # innapropriate bias\n",
    "#     'c_charge_degree', # 0 importance\n",
    "#     'c_charge_desc',\n",
    "]"
   ]
  },
  {
   "cell_type": "code",
   "execution_count": 11,
   "metadata": {},
   "outputs": [
    {
     "data": {
      "text/plain": [
       "days_b_screening_arrest         0.056504\n",
       "start                           0.000000\n",
       "custody_days                    0.044065\n",
       "in_custody_to_screening_days    0.044065\n",
       "days_until_recitivism           0.855577\n",
       "all_priors                      0.000000\n",
       "dtype: float64"
      ]
     },
     "execution_count": 11,
     "metadata": {},
     "output_type": "execute_result"
    }
   ],
   "source": [
    "# Count missing values\n",
    "df[cols].isna().sum()/len(df[cols])"
   ]
  },
  {
   "cell_type": "code",
   "execution_count": 12,
   "metadata": {},
   "outputs": [
    {
     "data": {
      "text/plain": [
       "<AxesSubplot:>"
      ]
     },
     "execution_count": 12,
     "metadata": {},
     "output_type": "execute_result"
    },
    {
     "data": {
      "image/png": "[encoded data removed]",
      "text/plain": [
       "<Figure size 1152x864 with 2 Axes>"
      ]
     },
     "metadata": {
      "needs_background": "light"
     },
     "output_type": "display_data"
    }
   ],
   "source": [
    "# Numeric correlations across numeric features\n",
    "f, ax = plt.subplots(figsize=(16, 12))\n",
    "corr = df[cols].corr()\n",
    "mask = np.triu(corr)\n",
    "sns.heatmap(corr.select_dtypes('number'), annot=True, center=0, mask=mask)"
   ]
  },
  {
   "cell_type": "code",
   "execution_count": 13,
   "metadata": {
    "scrolled": true
   },
   "outputs": [
    {
     "data": {
      "text/html": [
       "<div>\n",
       "<style scoped>\n",
       "    .dataframe tbody tr th:only-of-type {\n",
       "        vertical-align: middle;\n",
       "    }\n",
       "\n",
       "    .dataframe tbody tr th {\n",
       "        vertical-align: top;\n",
       "    }\n",
       "\n",
       "    .dataframe thead th {\n",
       "        text-align: right;\n",
       "    }\n",
       "</style>\n",
       "<table border=\"1\" class=\"dataframe\">\n",
       "  <thead>\n",
       "    <tr style=\"text-align: right;\">\n",
       "      <th></th>\n",
       "      <th>days_b_screening_arrest</th>\n",
       "      <th>start</th>\n",
       "      <th>custody_days</th>\n",
       "      <th>in_custody_to_screening_days</th>\n",
       "      <th>days_until_recitivism</th>\n",
       "      <th>all_priors</th>\n",
       "    </tr>\n",
       "  </thead>\n",
       "  <tbody>\n",
       "    <tr>\n",
       "      <th>2677</th>\n",
       "      <td>-1.0</td>\n",
       "      <td>3</td>\n",
       "      <td>4.0</td>\n",
       "      <td>1.0</td>\n",
       "      <td>NaN</td>\n",
       "      <td>2</td>\n",
       "    </tr>\n",
       "    <tr>\n",
       "      <th>548</th>\n",
       "      <td>-1.0</td>\n",
       "      <td>0</td>\n",
       "      <td>0.0</td>\n",
       "      <td>1.0</td>\n",
       "      <td>NaN</td>\n",
       "      <td>2</td>\n",
       "    </tr>\n",
       "    <tr>\n",
       "      <th>4483</th>\n",
       "      <td>-1.0</td>\n",
       "      <td>3</td>\n",
       "      <td>4.0</td>\n",
       "      <td>1.0</td>\n",
       "      <td>66.0</td>\n",
       "      <td>6</td>\n",
       "    </tr>\n",
       "    <tr>\n",
       "      <th>9476</th>\n",
       "      <td>-1.0</td>\n",
       "      <td>0</td>\n",
       "      <td>1.0</td>\n",
       "      <td>1.0</td>\n",
       "      <td>NaN</td>\n",
       "      <td>3</td>\n",
       "    </tr>\n",
       "    <tr>\n",
       "      <th>199</th>\n",
       "      <td>NaN</td>\n",
       "      <td>0</td>\n",
       "      <td>NaN</td>\n",
       "      <td>NaN</td>\n",
       "      <td>NaN</td>\n",
       "      <td>2</td>\n",
       "    </tr>\n",
       "  </tbody>\n",
       "</table>\n",
       "</div>"
      ],
      "text/plain": [
       "      days_b_screening_arrest  start  custody_days  \\\n",
       "2677                     -1.0      3           4.0   \n",
       "548                      -1.0      0           0.0   \n",
       "4483                     -1.0      3           4.0   \n",
       "9476                     -1.0      0           1.0   \n",
       "199                       NaN      0           NaN   \n",
       "\n",
       "      in_custody_to_screening_days  days_until_recitivism  all_priors  \n",
       "2677                           1.0                    NaN           2  \n",
       "548                            1.0                    NaN           2  \n",
       "4483                           1.0                   66.0           6  \n",
       "9476                           1.0                    NaN           3  \n",
       "199                            NaN                    NaN           2  "
      ]
     },
     "execution_count": 13,
     "metadata": {},
     "output_type": "execute_result"
    }
   ],
   "source": [
    "df[cols].head()"
   ]
  },
  {
   "cell_type": "code",
   "execution_count": 14,
   "metadata": {},
   "outputs": [
    {
     "data": {
      "text/plain": [
       "African-American    2266\n",
       "Caucasian           1701\n",
       "Hispanic             458\n",
       "Other                280\n",
       "Asian                 27\n",
       "Native American       11\n",
       "Name: race, dtype: int64"
      ]
     },
     "execution_count": 14,
     "metadata": {},
     "output_type": "execute_result"
    }
   ],
   "source": [
    "# df['race'] = df['race'].replace({'Native American': 'Other'})\n",
    "# df['race'] = df['race'].replace({'Native American': 'Other', 'Asian': 'Other'})\n",
    "# df['race'] = df['race'].replace({'Native American': 'Other', 'Asian': 'Other', 'Hispanic': 'Other'})\n",
    "df['race'].value_counts()"
   ]
  },
  {
   "cell_type": "code",
   "execution_count": 15,
   "metadata": {},
   "outputs": [],
   "source": [
    "df['age'] = df['age_group'] # we don't care about the actual age anyway\n",
    "df['race_age'] = df['race'] + df['age_group']\n",
    "df['race_sex'] = df['race'] + df['sex']\n",
    "df['sex_age'] = df['sex'] + df['age_group']\n",
    "df['race_sex_age'] = df['race'] + df['sex'] + df['age_group']\n",
    "df['target_race_sex_age'] = df['target'] + df['race'] + df['sex'] + df['age_group']"
   ]
  },
  {
   "cell_type": "code",
   "execution_count": 16,
   "metadata": {},
   "outputs": [],
   "source": [
    "races = df.race.unique()\n",
    "sexes = df.sex.unique()\n",
    "age_groups = df.age_group.unique()"
   ]
  },
  {
   "cell_type": "code",
   "execution_count": 17,
   "metadata": {},
   "outputs": [],
   "source": [
    "# Set hyperparamets\n",
    "hyperparams = dict(\n",
    "    iterations=100,\n",
    "    learning_rate=1,\n",
    "    depth=5,\n",
    "    loss_function='MultiClass'\n",
    ")"
   ]
  },
  {
   "cell_type": "code",
   "execution_count": 18,
   "metadata": {},
   "outputs": [],
   "source": [
    "df_train = df[df.target.notna()]\n",
    "df_test = df[df.target.isna()]"
   ]
  },
  {
   "cell_type": "code",
   "execution_count": 19,
   "metadata": {},
   "outputs": [
    {
     "data": {
      "text/plain": [
       "[('race',),\n",
       " ('sex',),\n",
       " ('age',),\n",
       " ('race', 'sex'),\n",
       " ('race', 'age'),\n",
       " ('sex', 'age'),\n",
       " ('race', 'sex', 'age')]"
      ]
     },
     "execution_count": 19,
     "metadata": {},
     "output_type": "execute_result"
    }
   ],
   "source": [
    "from itertools import chain, combinations\n",
    "\n",
    "def powerset(iterable):\n",
    "    \"powerset([1,2,3]) --> () (1,) (2,) (3,) (1,2) (1,3) (2,3) (1,2,3)\"\n",
    "    s = list(iterable)\n",
    "    return list(chain.from_iterable(combinations(s, r) for r in range(len(s)+1)))[1:]\n",
    "\n",
    "powerset(['race', 'sex', 'age'])"
   ]
  },
  {
   "cell_type": "markdown",
   "metadata": {},
   "source": [
    "# Cross Validation"
   ]
  },
  {
   "cell_type": "code",
   "execution_count": 20,
   "metadata": {},
   "outputs": [],
   "source": [
    "from sklearn.metrics import roc_auc_score\n",
    "\n",
    "def roc_auc_score_calm(y_true, y_score, *, average=\"macro\", sample_weight=None,\n",
    "                  max_fpr=None, multi_class=\"raise\", labels=None):\n",
    "    try:\n",
    "        return roc_auc_score(**locals())\n",
    "    except ValueError:\n",
    "        return None"
   ]
  },
  {
   "cell_type": "markdown",
   "metadata": {},
   "source": [
    "# Oversampling"
   ]
  },
  {
   "cell_type": "code",
   "execution_count": 21,
   "metadata": {},
   "outputs": [
    {
     "name": "stdout",
     "output_type": "stream",
     "text": [
      "Counter({0: 50000, 1: 50000})\n"
     ]
    }
   ],
   "source": [
    "from collections import Counter\n",
    "from sklearn.datasets import make_classification\n",
    "from numpy import where\n",
    "from imblearn.over_sampling import SMOTE\n",
    "from matplotlib import pyplot\n",
    "\n",
    "#define dataset\n",
    "X, y = make_classification(n_samples=100000,\n",
    "                           flip_y=0,\n",
    "                           random_state=1,\n",
    "                          )\n",
    "\n",
    "#summarises class distribution\n",
    "counter = Counter(y)\n",
    "print(counter)\n",
    "\n",
    "#transforms dataset\n",
    "oversample = SMOTE()\n",
    "X, y = oversample.fit_resample(X, y)\n",
    "\n",
    "df = df.fillna(0)\n",
    "df['target_race_sex_age'] = pd.get_dummies(df[\"target_race_sex_age\"]).to_numpy()"
   ]
  },
  {
   "cell_type": "code",
   "execution_count": 22,
   "metadata": {},
   "outputs": [],
   "source": [
    "df_x_oversampled, df_y_oversampled = oversample.fit_resample(df[cols].round(), df.target_race_sex_age)\n",
    "x_df = pd.DataFrame(df_x_oversampled, columns=cols)\n",
    "y_df = pd.DataFrame(df_y_oversampled)\n",
    "dfs_x_y = [x_df, y_df]\n",
    "\n",
    "df_merged = pd.concat(dfs_x_y)\n",
    "df_merged= df_merged.fillna(0)\n",
    "# df_merged.sex = df_merged.sex.astype('int')\n",
    "# df_merged.age = df_merged.age.astype('int')\n",
    "# df_merged.race = df_merged.race.astype('int')\n"
   ]
  },
  {
   "cell_type": "markdown",
   "metadata": {},
   "source": [
    "# Try predicting race/sex/age\n",
    "To see if we can, ideally we shouldn't\n",
    "Feature importances also will tell us the most racist/sexist/ageist features"
   ]
  },
  {
   "cell_type": "code",
   "execution_count": 23,
   "metadata": {},
   "outputs": [
    {
     "name": "stdout",
     "output_type": "stream",
     "text": [
      "Target col: race\n",
      "ROC-AUC 57.43% (STD: 4.15%)\n"
     ]
    },
    {
     "data": {
      "text/plain": [
       "<AxesSubplot:ylabel='feature'>"
      ]
     },
     "metadata": {},
     "output_type": "display_data"
    },
    {
     "name": "stdout",
     "output_type": "stream",
     "text": [
      "Target col: sex\n",
      "ROC-AUC 59.49% (STD: 2.05%)\n"
     ]
    },
    {
     "data": {
      "text/plain": [
       "<AxesSubplot:ylabel='feature'>"
      ]
     },
     "metadata": {},
     "output_type": "display_data"
    },
    {
     "name": "stdout",
     "output_type": "stream",
     "text": [
      "Target col: age_group\n",
      "ROC-AUC 56.29% (STD: 1.18%)\n"
     ]
    },
    {
     "data": {
      "text/plain": [
       "<AxesSubplot:ylabel='feature'>"
      ]
     },
     "metadata": {},
     "output_type": "display_data"
    },
    {
     "data": {
      "image/png": "[encoded data removed]",
      "text/plain": [
       "<Figure size 432x288 with 1 Axes>"
      ]
     },
     "metadata": {
      "needs_background": "light"
     },
     "output_type": "display_data"
    },
    {
     "data": {
      "image/png": "[encoded data removed]",
      "text/plain": [
       "<Figure size 432x288 with 1 Axes>"
      ]
     },
     "metadata": {
      "needs_background": "light"
     },
     "output_type": "display_data"
    },
    {
     "data": {
      "image/png": "[encoded data removed]",
      "text/plain": [
       "<Figure size 432x288 with 1 Axes>"
      ]
     },
     "metadata": {
      "needs_background": "light"
     },
     "output_type": "display_data"
    }
   ],
   "source": [
    "from catboost import Pool, CatBoostClassifier\n",
    "from sklearn.model_selection import RepeatedStratifiedKFold\n",
    "from sklearn.metrics import roc_auc_score, average_precision_score, accuracy_score\n",
    "import collections\n",
    "from fairlearn.metrics import MetricFrame\n",
    "\n",
    "def simple_cross_val(target_col, n_splits=5, n_repeats=5, verbose=False):\n",
    "    print(f'Target col: {target_col}')\n",
    "    kf = RepeatedStratifiedKFold(n_splits=n_splits, n_repeats=n_repeats, random_state=42)\n",
    "\n",
    "    roc_aucs = []\n",
    "\n",
    "    feature_importances = []\n",
    "    for split_idx, (train, test) in enumerate(kf.split(df_train[cols], df_train[target_col])): # Stratified on race\n",
    "        df_train_cv = df.iloc[train].reset_index(drop=True)\n",
    "        df_eval_cv = df.iloc[test].reset_index(drop=True)\n",
    "\n",
    "        train_dataset = Pool(data=df_train_cv[cols],\n",
    "                             label=df_train_cv[target_col],\n",
    "                             cat_features=cat_cols)\n",
    "\n",
    "        eval_dataset = Pool(data=df_eval_cv[cols],\n",
    "                            label=df_eval_cv[target_col],\n",
    "                            cat_features=cat_cols)\n",
    "\n",
    "        y_eval = pd.get_dummies(df_eval_cv[target_col]).to_numpy()\n",
    "        # Initialize CatBoostClassifier\n",
    "        model = CatBoostClassifier(**hyperparams)\n",
    "        # Fit model\n",
    "        model.fit(train_dataset, verbose=False)\n",
    "    #     # Get predicted probabilities for each class\n",
    "        preds_proba = model.predict_proba(eval_dataset)\n",
    "\n",
    "        roc_auc = roc_auc_score(y_eval, preds_proba, multi_class=\"ovo\")\n",
    "        roc_aucs.append(roc_auc)\n",
    "\n",
    "        feature_importances.append(model.get_feature_importance())\n",
    "        # avg_precs.append(avg_prec)\n",
    "        if verbose:\n",
    "            print(f'Split {split_idx+1:2}: ROC-AUC: {roc_auc*100:.2f}%. ')\n",
    "\n",
    "    # Evaluation\n",
    "\n",
    "    print(f'ROC-AUC {np.mean(roc_aucs)*100:.2f}% (STD: {np.std(roc_aucs)*100:.2f}%)')\n",
    "\n",
    "    # Feature importances\n",
    "    fi_df = pd.DataFrame({'feature': cols})\n",
    "    fi_df['importance'] = np.mean(feature_importances, axis=0)\n",
    "    fi_df['std'] = np.std(feature_importances, axis=0)\n",
    "    fi_df['min'] = np.min(feature_importances, axis=0)\n",
    "    fi_df['max'] = np.max(feature_importances, axis=0)\n",
    "    fi_df = fi_df.sort_values('importance', ascending=False)\n",
    "#     display(fi_df)\n",
    "    display(fi_df[['feature', 'importance']].sort_values('importance', ascending=True).plot.barh(x='feature'))\n",
    "    \n",
    "simple_cross_val('race')\n",
    "simple_cross_val('sex')\n",
    "simple_cross_val('age_group')"
   ]
  },
  {
   "cell_type": "markdown",
   "metadata": {},
   "source": [
    "# Predict target"
   ]
  },
  {
   "cell_type": "code",
   "execution_count": 24,
   "metadata": {
    "pycharm": {
     "is_executing": true
    },
    "scrolled": true
   },
   "outputs": [
    {
     "name": "stderr",
     "output_type": "stream",
     "text": [
      "Found 28 subgroups. Evaluation may be slow\n"
     ]
    },
    {
     "name": "stdout",
     "output_type": "stream",
     "text": [
      "Split  1: ROC-AUC: 85.41%. Fairness: 72.11%\n"
     ]
    },
    {
     "name": "stderr",
     "output_type": "stream",
     "text": [
      "Found 29 subgroups. Evaluation may be slow\n"
     ]
    },
    {
     "name": "stdout",
     "output_type": "stream",
     "text": [
      "Split  2: ROC-AUC: 85.32%. Fairness: 73.31%\n"
     ]
    },
    {
     "name": "stderr",
     "output_type": "stream",
     "text": [
      "Found 28 subgroups. Evaluation may be slow\n"
     ]
    },
    {
     "name": "stdout",
     "output_type": "stream",
     "text": [
      "Split  3: ROC-AUC: 88.17%. Fairness: 76.20%\n"
     ]
    },
    {
     "name": "stderr",
     "output_type": "stream",
     "text": [
      "Found 28 subgroups. Evaluation may be slow\n"
     ]
    },
    {
     "name": "stdout",
     "output_type": "stream",
     "text": [
      "Split  4: ROC-AUC: 87.40%. Fairness: 67.23%\n"
     ]
    },
    {
     "name": "stderr",
     "output_type": "stream",
     "text": [
      "Found 28 subgroups. Evaluation may be slow\n"
     ]
    },
    {
     "name": "stdout",
     "output_type": "stream",
     "text": [
      "Split  5: ROC-AUC: 87.03%. Fairness: 69.80%\n"
     ]
    },
    {
     "name": "stderr",
     "output_type": "stream",
     "text": [
      "Found 28 subgroups. Evaluation may be slow\n"
     ]
    },
    {
     "name": "stdout",
     "output_type": "stream",
     "text": [
      "Split  6: ROC-AUC: 86.81%. Fairness: 69.46%\n"
     ]
    },
    {
     "name": "stderr",
     "output_type": "stream",
     "text": [
      "Found 30 subgroups. Evaluation may be slow\n"
     ]
    },
    {
     "name": "stdout",
     "output_type": "stream",
     "text": [
      "Split  7: ROC-AUC: 87.83%. Fairness: 76.66%\n"
     ]
    },
    {
     "name": "stderr",
     "output_type": "stream",
     "text": [
      "Found 28 subgroups. Evaluation may be slow\n"
     ]
    },
    {
     "name": "stdout",
     "output_type": "stream",
     "text": [
      "Split  8: ROC-AUC: 86.92%. Fairness: 76.85%\n"
     ]
    },
    {
     "name": "stderr",
     "output_type": "stream",
     "text": [
      "Found 28 subgroups. Evaluation may be slow\n"
     ]
    },
    {
     "name": "stdout",
     "output_type": "stream",
     "text": [
      "Split  9: ROC-AUC: 86.23%. Fairness: 72.05%\n"
     ]
    },
    {
     "name": "stderr",
     "output_type": "stream",
     "text": [
      "Found 28 subgroups. Evaluation may be slow\n"
     ]
    },
    {
     "name": "stdout",
     "output_type": "stream",
     "text": [
      "Split 10: ROC-AUC: 88.30%. Fairness: 70.15%\n"
     ]
    },
    {
     "name": "stderr",
     "output_type": "stream",
     "text": [
      "Found 29 subgroups. Evaluation may be slow\n"
     ]
    },
    {
     "name": "stdout",
     "output_type": "stream",
     "text": [
      "Split 11: ROC-AUC: 87.13%. Fairness: 68.80%\n"
     ]
    },
    {
     "name": "stderr",
     "output_type": "stream",
     "text": [
      "Found 28 subgroups. Evaluation may be slow\n"
     ]
    },
    {
     "name": "stdout",
     "output_type": "stream",
     "text": [
      "Split 12: ROC-AUC: 84.85%. Fairness: 69.41%\n"
     ]
    },
    {
     "name": "stderr",
     "output_type": "stream",
     "text": [
      "Found 29 subgroups. Evaluation may be slow\n"
     ]
    },
    {
     "name": "stdout",
     "output_type": "stream",
     "text": [
      "Split 13: ROC-AUC: 87.29%. Fairness: 71.24%\n"
     ]
    },
    {
     "name": "stderr",
     "output_type": "stream",
     "text": [
      "Found 27 subgroups. Evaluation may be slow\n"
     ]
    },
    {
     "name": "stdout",
     "output_type": "stream",
     "text": [
      "Split 14: ROC-AUC: 87.91%. Fairness: 73.53%\n"
     ]
    },
    {
     "name": "stderr",
     "output_type": "stream",
     "text": [
      "Found 28 subgroups. Evaluation may be slow\n"
     ]
    },
    {
     "name": "stdout",
     "output_type": "stream",
     "text": [
      "Split 15: ROC-AUC: 88.26%. Fairness: 71.71%\n"
     ]
    },
    {
     "name": "stderr",
     "output_type": "stream",
     "text": [
      "Found 29 subgroups. Evaluation may be slow\n"
     ]
    },
    {
     "name": "stdout",
     "output_type": "stream",
     "text": [
      "Split 16: ROC-AUC: 86.22%. Fairness: 69.87%\n"
     ]
    },
    {
     "name": "stderr",
     "output_type": "stream",
     "text": [
      "Found 28 subgroups. Evaluation may be slow\n"
     ]
    },
    {
     "name": "stdout",
     "output_type": "stream",
     "text": [
      "Split 17: ROC-AUC: 85.66%. Fairness: 73.12%\n"
     ]
    },
    {
     "name": "stderr",
     "output_type": "stream",
     "text": [
      "Found 27 subgroups. Evaluation may be slow\n"
     ]
    },
    {
     "name": "stdout",
     "output_type": "stream",
     "text": [
      "Split 18: ROC-AUC: 89.17%. Fairness: 77.24%\n"
     ]
    },
    {
     "name": "stderr",
     "output_type": "stream",
     "text": [
      "Found 28 subgroups. Evaluation may be slow\n"
     ]
    },
    {
     "name": "stdout",
     "output_type": "stream",
     "text": [
      "Split 19: ROC-AUC: 83.45%. Fairness: 71.57%\n"
     ]
    },
    {
     "name": "stderr",
     "output_type": "stream",
     "text": [
      "Found 28 subgroups. Evaluation may be slow\n"
     ]
    },
    {
     "name": "stdout",
     "output_type": "stream",
     "text": [
      "Split 20: ROC-AUC: 89.96%. Fairness: 75.25%\n"
     ]
    },
    {
     "name": "stderr",
     "output_type": "stream",
     "text": [
      "Found 28 subgroups. Evaluation may be slow\n"
     ]
    },
    {
     "name": "stdout",
     "output_type": "stream",
     "text": [
      "Split 21: ROC-AUC: 88.86%. Fairness: 73.89%\n"
     ]
    },
    {
     "name": "stderr",
     "output_type": "stream",
     "text": [
      "Found 28 subgroups. Evaluation may be slow\n"
     ]
    },
    {
     "name": "stdout",
     "output_type": "stream",
     "text": [
      "Split 22: ROC-AUC: 83.23%. Fairness: 69.38%\n"
     ]
    },
    {
     "name": "stderr",
     "output_type": "stream",
     "text": [
      "Found 28 subgroups. Evaluation may be slow\n"
     ]
    },
    {
     "name": "stdout",
     "output_type": "stream",
     "text": [
      "Split 23: ROC-AUC: 88.78%. Fairness: 75.22%\n"
     ]
    },
    {
     "name": "stderr",
     "output_type": "stream",
     "text": [
      "Found 28 subgroups. Evaluation may be slow\n"
     ]
    },
    {
     "name": "stdout",
     "output_type": "stream",
     "text": [
      "Split 24: ROC-AUC: 87.18%. Fairness: 69.33%\n"
     ]
    },
    {
     "name": "stderr",
     "output_type": "stream",
     "text": [
      "Found 28 subgroups. Evaluation may be slow\n"
     ]
    },
    {
     "name": "stdout",
     "output_type": "stream",
     "text": [
      "Split 25: ROC-AUC: 88.94%. Fairness: 78.76%\n"
     ]
    },
    {
     "name": "stderr",
     "output_type": "stream",
     "text": [
      "Found 28 subgroups. Evaluation may be slow\n"
     ]
    },
    {
     "name": "stdout",
     "output_type": "stream",
     "text": [
      "Split 26: ROC-AUC: 89.91%. Fairness: 77.85%\n"
     ]
    },
    {
     "name": "stderr",
     "output_type": "stream",
     "text": [
      "Found 28 subgroups. Evaluation may be slow\n"
     ]
    },
    {
     "name": "stdout",
     "output_type": "stream",
     "text": [
      "Split 27: ROC-AUC: 87.01%. Fairness: 68.69%\n"
     ]
    },
    {
     "name": "stderr",
     "output_type": "stream",
     "text": [
      "Found 29 subgroups. Evaluation may be slow\n"
     ]
    },
    {
     "name": "stdout",
     "output_type": "stream",
     "text": [
      "Split 28: ROC-AUC: 85.82%. Fairness: 75.09%\n"
     ]
    },
    {
     "name": "stderr",
     "output_type": "stream",
     "text": [
      "Found 28 subgroups. Evaluation may be slow\n"
     ]
    },
    {
     "name": "stdout",
     "output_type": "stream",
     "text": [
      "Split 29: ROC-AUC: 83.56%. Fairness: 72.96%\n"
     ]
    },
    {
     "name": "stderr",
     "output_type": "stream",
     "text": [
      "Found 29 subgroups. Evaluation may be slow\n"
     ]
    },
    {
     "name": "stdout",
     "output_type": "stream",
     "text": [
      "Split 30: ROC-AUC: 90.76%. Fairness: 72.81%\n"
     ]
    },
    {
     "name": "stderr",
     "output_type": "stream",
     "text": [
      "Found 28 subgroups. Evaluation may be slow\n"
     ]
    },
    {
     "name": "stdout",
     "output_type": "stream",
     "text": [
      "Split 31: ROC-AUC: 89.37%. Fairness: 74.54%\n"
     ]
    },
    {
     "name": "stderr",
     "output_type": "stream",
     "text": [
      "Found 27 subgroups. Evaluation may be slow\n"
     ]
    },
    {
     "name": "stdout",
     "output_type": "stream",
     "text": [
      "Split 32: ROC-AUC: 86.03%. Fairness: 76.65%\n"
     ]
    },
    {
     "name": "stderr",
     "output_type": "stream",
     "text": [
      "Found 29 subgroups. Evaluation may be slow\n"
     ]
    },
    {
     "name": "stdout",
     "output_type": "stream",
     "text": [
      "Split 33: ROC-AUC: 83.55%. Fairness: 74.49%\n"
     ]
    },
    {
     "name": "stderr",
     "output_type": "stream",
     "text": [
      "Found 28 subgroups. Evaluation may be slow\n"
     ]
    },
    {
     "name": "stdout",
     "output_type": "stream",
     "text": [
      "Split 34: ROC-AUC: 87.37%. Fairness: 68.28%\n"
     ]
    },
    {
     "name": "stderr",
     "output_type": "stream",
     "text": [
      "Found 29 subgroups. Evaluation may be slow\n"
     ]
    },
    {
     "name": "stdout",
     "output_type": "stream",
     "text": [
      "Split 35: ROC-AUC: 88.07%. Fairness: 74.47%\n"
     ]
    },
    {
     "name": "stderr",
     "output_type": "stream",
     "text": [
      "Found 28 subgroups. Evaluation may be slow\n"
     ]
    },
    {
     "name": "stdout",
     "output_type": "stream",
     "text": [
      "Split 36: ROC-AUC: 84.43%. Fairness: 69.75%\n"
     ]
    },
    {
     "name": "stderr",
     "output_type": "stream",
     "text": [
      "Found 27 subgroups. Evaluation may be slow\n"
     ]
    },
    {
     "name": "stdout",
     "output_type": "stream",
     "text": [
      "Split 37: ROC-AUC: 86.47%. Fairness: 69.92%\n"
     ]
    },
    {
     "name": "stderr",
     "output_type": "stream",
     "text": [
      "Found 27 subgroups. Evaluation may be slow\n"
     ]
    },
    {
     "name": "stdout",
     "output_type": "stream",
     "text": [
      "Split 38: ROC-AUC: 85.32%. Fairness: 67.59%\n"
     ]
    },
    {
     "name": "stderr",
     "output_type": "stream",
     "text": [
      "Found 29 subgroups. Evaluation may be slow\n"
     ]
    },
    {
     "name": "stdout",
     "output_type": "stream",
     "text": [
      "Split 39: ROC-AUC: 85.29%. Fairness: 74.92%\n"
     ]
    },
    {
     "name": "stderr",
     "output_type": "stream",
     "text": [
      "Found 29 subgroups. Evaluation may be slow\n"
     ]
    },
    {
     "name": "stdout",
     "output_type": "stream",
     "text": [
      "Split 40: ROC-AUC: 88.93%. Fairness: 70.39%\n"
     ]
    },
    {
     "name": "stderr",
     "output_type": "stream",
     "text": [
      "Found 28 subgroups. Evaluation may be slow\n"
     ]
    },
    {
     "name": "stdout",
     "output_type": "stream",
     "text": [
      "Split 41: ROC-AUC: 87.81%. Fairness: 77.55%\n"
     ]
    },
    {
     "name": "stderr",
     "output_type": "stream",
     "text": [
      "Found 27 subgroups. Evaluation may be slow\n"
     ]
    },
    {
     "name": "stdout",
     "output_type": "stream",
     "text": [
      "Split 42: ROC-AUC: 88.91%. Fairness: 73.06%\n"
     ]
    },
    {
     "name": "stderr",
     "output_type": "stream",
     "text": [
      "Found 30 subgroups. Evaluation may be slow\n"
     ]
    },
    {
     "name": "stdout",
     "output_type": "stream",
     "text": [
      "Split 43: ROC-AUC: 85.11%. Fairness: 73.34%\n"
     ]
    },
    {
     "name": "stderr",
     "output_type": "stream",
     "text": [
      "Found 27 subgroups. Evaluation may be slow\n"
     ]
    },
    {
     "name": "stdout",
     "output_type": "stream",
     "text": [
      "Split 44: ROC-AUC: 88.24%. Fairness: 76.41%\n"
     ]
    },
    {
     "name": "stderr",
     "output_type": "stream",
     "text": [
      "Found 28 subgroups. Evaluation may be slow\n"
     ]
    },
    {
     "name": "stdout",
     "output_type": "stream",
     "text": [
      "Split 45: ROC-AUC: 87.20%. Fairness: 71.32%\n"
     ]
    },
    {
     "name": "stderr",
     "output_type": "stream",
     "text": [
      "Found 28 subgroups. Evaluation may be slow\n"
     ]
    },
    {
     "name": "stdout",
     "output_type": "stream",
     "text": [
      "Split 46: ROC-AUC: 85.74%. Fairness: 71.33%\n"
     ]
    },
    {
     "name": "stderr",
     "output_type": "stream",
     "text": [
      "Found 29 subgroups. Evaluation may be slow\n"
     ]
    },
    {
     "name": "stdout",
     "output_type": "stream",
     "text": [
      "Split 47: ROC-AUC: 84.62%. Fairness: 75.39%\n"
     ]
    },
    {
     "name": "stderr",
     "output_type": "stream",
     "text": [
      "Found 29 subgroups. Evaluation may be slow\n"
     ]
    },
    {
     "name": "stdout",
     "output_type": "stream",
     "text": [
      "Split 48: ROC-AUC: 86.80%. Fairness: 73.02%\n"
     ]
    },
    {
     "name": "stderr",
     "output_type": "stream",
     "text": [
      "Found 27 subgroups. Evaluation may be slow\n"
     ]
    },
    {
     "name": "stdout",
     "output_type": "stream",
     "text": [
      "Split 49: ROC-AUC: 88.05%. Fairness: 73.45%\n"
     ]
    },
    {
     "name": "stderr",
     "output_type": "stream",
     "text": [
      "Found 28 subgroups. Evaluation may be slow\n"
     ]
    },
    {
     "name": "stdout",
     "output_type": "stream",
     "text": [
      "Split 50: ROC-AUC: 88.72%. Fairness: 69.33%\n"
     ]
    }
   ],
   "source": [
    "from catboost import Pool, CatBoostClassifier\n",
    "from sklearn.model_selection import RepeatedStratifiedKFold\n",
    "from sklearn.metrics import roc_auc_score, average_precision_score, accuracy_score\n",
    "import collections\n",
    "from fairlearn.metrics import MetricFrame\n",
    "\n",
    "TARGET_COL = 'target'\n",
    "\n",
    "N_SPLITS = 5\n",
    "N_REPEATS = 10\n",
    "\n",
    "# Stratify based on intersections of race, age_group, sex and target.\n",
    "strat_df = pd.DataFrame(df_train[TARGET_COL].astype('str') + df_train['race_sex_age'], columns=['name'])\n",
    "\n",
    "# If cross section is too small for stratification to work (N < N_SPLITS) we mark it as an outlier\n",
    "strat_df.loc[strat_df.groupby('name').name.transform('count').lt(N_SPLITS), 'name'] = 'Outliers'    \n",
    "\n",
    "kf = RepeatedStratifiedKFold(n_splits=N_SPLITS, n_repeats=N_REPEATS, random_state=42)\n",
    "\n",
    "roc_aucs = []\n",
    "fairnesses = []\n",
    "\n",
    "\n",
    "feature_importances = []\n",
    "for split_idx, (train, test) in enumerate(kf.split(df_train[cols], strat_df['name'])): # Stratified on race\n",
    "    df_train_cv = df.iloc[train].reset_index(drop=True)\n",
    "    df_eval_cv = df.iloc[test].reset_index(drop=True)\n",
    "    \n",
    "    train_dataset = Pool(data=df_train_cv[cols],\n",
    "                         label=df_train_cv[TARGET_COL],\n",
    "                         cat_features=cat_cols)\n",
    "\n",
    "    eval_dataset = Pool(data=df_eval_cv[cols],\n",
    "                        label=df_eval_cv[TARGET_COL],\n",
    "                        cat_features=cat_cols)\n",
    "    \n",
    "    y_eval = pd.get_dummies(df_eval_cv[TARGET_COL]).to_numpy()\n",
    "    # Initialize CatBoostClassifier\n",
    "    model = CatBoostClassifier(**hyperparams)\n",
    "    # Fit model\n",
    "    model.fit(train_dataset, verbose=False)\n",
    "#     # Get predicted probabilities for each class\n",
    "    preds_proba = model.predict_proba(eval_dataset)\n",
    "    \n",
    "    roc_auc = roc_auc_score(y_eval, preds_proba, multi_class=\"ovo\")\n",
    "    roc_aucs.append(roc_auc)\n",
    "    \n",
    "    group_roc_aucs = []\n",
    "    for s in powerset(['race', 'sex', 'age']):\n",
    "        group_roc_aucs.append(MetricFrame(roc_auc_score_calm, y_eval, preds_proba, sensitive_features=df_eval_cv['_'.join(s)]).by_group)\n",
    "    fairness = 1 - np.sqrt(pd.concat(group_roc_aucs).std())\n",
    "    fairnesses.append(fairness)\n",
    "        \n",
    "    feature_importances.append(model.get_feature_importance())\n",
    "    # avg_precs.append(avg_prec)\n",
    "    print(f'Split {split_idx+1:2}: ROC-AUC: {roc_auc*100:.2f}%. '\n",
    "          f'Fairness: {fairness*100:.2f}%')"
   ]
  },
  {
   "cell_type": "code",
   "execution_count": 25,
   "metadata": {},
   "outputs": [
    {
     "name": "stdout",
     "output_type": "stream",
     "text": [
      "ROC-AUC 86.99% (STD: 1.81%)\n",
      "Fairness: 72.69% (STD: 2.97%)\n",
      "Score: 79.84%\n"
     ]
    }
   ],
   "source": [
    "# Evaluation\n",
    "\n",
    "print(f'ROC-AUC {np.mean(roc_aucs)*100:.2f}% (STD: {np.std(roc_aucs)*100:.2f}%)') # 90.48\n",
    "print(f'Fairness: {np.mean(fairnesses)*100:.2f}% (STD: {np.std(fairnesses)*100:.2f}%)') # 83.92\n",
    "\n",
    "score = 0.5 * np.mean(roc_aucs) + \\\n",
    "        0.5 * (np.mean(fairnesses))\n",
    "print(f'Score: {score*100:.2f}%') # 90.48\n"
   ]
  },
  {
   "cell_type": "markdown",
   "metadata": {},
   "source": [
    "# Full model"
   ]
  },
  {
   "cell_type": "code",
   "execution_count": 26,
   "metadata": {},
   "outputs": [
    {
     "name": "stdout",
     "output_type": "stream",
     "text": [
      "0:\tlearn: 0.3761225\ttotal: 2.98ms\tremaining: 295ms\n",
      "1:\tlearn: 0.2985199\ttotal: 6.05ms\tremaining: 296ms\n",
      "2:\tlearn: 0.2774773\ttotal: 10.1ms\tremaining: 328ms\n",
      "3:\tlearn: 0.2701743\ttotal: 13.8ms\tremaining: 330ms\n",
      "4:\tlearn: 0.2633611\ttotal: 16.9ms\tremaining: 321ms\n",
      "5:\tlearn: 0.2567397\ttotal: 20.2ms\tremaining: 316ms\n",
      "6:\tlearn: 0.2513307\ttotal: 23ms\tremaining: 305ms\n",
      "7:\tlearn: 0.2490424\ttotal: 25.6ms\tremaining: 294ms\n",
      "8:\tlearn: 0.2475100\ttotal: 28.4ms\tremaining: 288ms\n",
      "9:\tlearn: 0.2456432\ttotal: 31.1ms\tremaining: 280ms\n",
      "10:\tlearn: 0.2443127\ttotal: 33.8ms\tremaining: 274ms\n",
      "11:\tlearn: 0.2426968\ttotal: 36.8ms\tremaining: 270ms\n",
      "12:\tlearn: 0.2399408\ttotal: 41.4ms\tremaining: 277ms\n",
      "13:\tlearn: 0.2336089\ttotal: 45.4ms\tremaining: 279ms\n",
      "14:\tlearn: 0.2307653\ttotal: 49.1ms\tremaining: 278ms\n",
      "15:\tlearn: 0.2273942\ttotal: 52ms\tremaining: 273ms\n",
      "16:\tlearn: 0.2240189\ttotal: 55.3ms\tremaining: 270ms\n",
      "17:\tlearn: 0.2228405\ttotal: 58.2ms\tremaining: 265ms\n",
      "18:\tlearn: 0.2212573\ttotal: 61.1ms\tremaining: 260ms\n",
      "19:\tlearn: 0.2193303\ttotal: 64ms\tremaining: 256ms\n",
      "20:\tlearn: 0.2180069\ttotal: 66.9ms\tremaining: 252ms\n",
      "21:\tlearn: 0.2166797\ttotal: 69.9ms\tremaining: 248ms\n",
      "22:\tlearn: 0.2152449\ttotal: 72.8ms\tremaining: 244ms\n",
      "23:\tlearn: 0.2128995\ttotal: 76.1ms\tremaining: 241ms\n",
      "24:\tlearn: 0.2114821\ttotal: 79.4ms\tremaining: 238ms\n",
      "25:\tlearn: 0.2110209\ttotal: 81.9ms\tremaining: 233ms\n",
      "26:\tlearn: 0.2083909\ttotal: 84.6ms\tremaining: 229ms\n",
      "27:\tlearn: 0.2064457\ttotal: 87.1ms\tremaining: 224ms\n",
      "28:\tlearn: 0.2052376\ttotal: 89.9ms\tremaining: 220ms\n",
      "29:\tlearn: 0.2046750\ttotal: 92.4ms\tremaining: 216ms\n",
      "30:\tlearn: 0.2026615\ttotal: 95.3ms\tremaining: 212ms\n",
      "31:\tlearn: 0.2019557\ttotal: 98.7ms\tremaining: 210ms\n",
      "32:\tlearn: 0.2011698\ttotal: 102ms\tremaining: 207ms\n",
      "33:\tlearn: 0.2000658\ttotal: 105ms\tremaining: 204ms\n",
      "34:\tlearn: 0.1985787\ttotal: 108ms\tremaining: 200ms\n",
      "35:\tlearn: 0.1981382\ttotal: 111ms\tremaining: 197ms\n",
      "36:\tlearn: 0.1971959\ttotal: 114ms\tremaining: 194ms\n",
      "37:\tlearn: 0.1959565\ttotal: 117ms\tremaining: 191ms\n",
      "38:\tlearn: 0.1955891\ttotal: 120ms\tremaining: 188ms\n",
      "39:\tlearn: 0.1940205\ttotal: 123ms\tremaining: 184ms\n",
      "40:\tlearn: 0.1931589\ttotal: 126ms\tremaining: 181ms\n",
      "41:\tlearn: 0.1912614\ttotal: 129ms\tremaining: 178ms\n",
      "42:\tlearn: 0.1899143\ttotal: 131ms\tremaining: 174ms\n",
      "43:\tlearn: 0.1872640\ttotal: 134ms\tremaining: 171ms\n",
      "44:\tlearn: 0.1848661\ttotal: 137ms\tremaining: 168ms\n",
      "45:\tlearn: 0.1840554\ttotal: 140ms\tremaining: 164ms\n",
      "46:\tlearn: 0.1831114\ttotal: 143ms\tremaining: 161ms\n",
      "47:\tlearn: 0.1825149\ttotal: 146ms\tremaining: 158ms\n",
      "48:\tlearn: 0.1820046\ttotal: 149ms\tremaining: 155ms\n",
      "49:\tlearn: 0.1812964\ttotal: 152ms\tremaining: 152ms\n",
      "50:\tlearn: 0.1804054\ttotal: 155ms\tremaining: 148ms\n",
      "51:\tlearn: 0.1799005\ttotal: 158ms\tremaining: 146ms\n",
      "52:\tlearn: 0.1795024\ttotal: 162ms\tremaining: 143ms\n",
      "53:\tlearn: 0.1789615\ttotal: 166ms\tremaining: 141ms\n",
      "54:\tlearn: 0.1771551\ttotal: 169ms\tremaining: 138ms\n",
      "55:\tlearn: 0.1766799\ttotal: 172ms\tremaining: 135ms\n",
      "56:\tlearn: 0.1748653\ttotal: 175ms\tremaining: 132ms\n",
      "57:\tlearn: 0.1737301\ttotal: 178ms\tremaining: 129ms\n",
      "58:\tlearn: 0.1727810\ttotal: 181ms\tremaining: 126ms\n",
      "59:\tlearn: 0.1724785\ttotal: 184ms\tremaining: 123ms\n",
      "60:\tlearn: 0.1714961\ttotal: 187ms\tremaining: 119ms\n",
      "61:\tlearn: 0.1708650\ttotal: 190ms\tremaining: 116ms\n",
      "62:\tlearn: 0.1704725\ttotal: 192ms\tremaining: 113ms\n",
      "63:\tlearn: 0.1700818\ttotal: 196ms\tremaining: 110ms\n",
      "64:\tlearn: 0.1697480\ttotal: 199ms\tremaining: 107ms\n",
      "65:\tlearn: 0.1695287\ttotal: 202ms\tremaining: 104ms\n",
      "66:\tlearn: 0.1686502\ttotal: 206ms\tremaining: 101ms\n",
      "67:\tlearn: 0.1681494\ttotal: 209ms\tremaining: 98.3ms\n",
      "68:\tlearn: 0.1678369\ttotal: 212ms\tremaining: 95.1ms\n",
      "69:\tlearn: 0.1673223\ttotal: 214ms\tremaining: 91.9ms\n",
      "70:\tlearn: 0.1660959\ttotal: 217ms\tremaining: 88.7ms\n",
      "71:\tlearn: 0.1659686\ttotal: 220ms\tremaining: 85.5ms\n",
      "72:\tlearn: 0.1652631\ttotal: 223ms\tremaining: 82.4ms\n",
      "73:\tlearn: 0.1645430\ttotal: 226ms\tremaining: 79.3ms\n",
      "74:\tlearn: 0.1638057\ttotal: 229ms\tremaining: 76.2ms\n",
      "75:\tlearn: 0.1623714\ttotal: 232ms\tremaining: 73.3ms\n",
      "76:\tlearn: 0.1619146\ttotal: 235ms\tremaining: 70.2ms\n",
      "77:\tlearn: 0.1613287\ttotal: 238ms\tremaining: 67.1ms\n",
      "78:\tlearn: 0.1609403\ttotal: 241ms\tremaining: 64.1ms\n",
      "79:\tlearn: 0.1604666\ttotal: 244ms\tremaining: 61.1ms\n",
      "80:\tlearn: 0.1593902\ttotal: 248ms\tremaining: 58.1ms\n",
      "81:\tlearn: 0.1590890\ttotal: 250ms\tremaining: 55ms\n",
      "82:\tlearn: 0.1586044\ttotal: 253ms\tremaining: 51.9ms\n",
      "83:\tlearn: 0.1580919\ttotal: 256ms\tremaining: 48.8ms\n",
      "84:\tlearn: 0.1578001\ttotal: 260ms\tremaining: 45.8ms\n",
      "85:\tlearn: 0.1575044\ttotal: 263ms\tremaining: 42.8ms\n",
      "86:\tlearn: 0.1571914\ttotal: 266ms\tremaining: 39.7ms\n",
      "87:\tlearn: 0.1568622\ttotal: 268ms\tremaining: 36.6ms\n",
      "88:\tlearn: 0.1563060\ttotal: 271ms\tremaining: 33.5ms\n",
      "89:\tlearn: 0.1555419\ttotal: 274ms\tremaining: 30.4ms\n",
      "90:\tlearn: 0.1550744\ttotal: 277ms\tremaining: 27.4ms\n",
      "91:\tlearn: 0.1544115\ttotal: 281ms\tremaining: 24.5ms\n",
      "92:\tlearn: 0.1541161\ttotal: 285ms\tremaining: 21.4ms\n",
      "93:\tlearn: 0.1539157\ttotal: 288ms\tremaining: 18.4ms\n",
      "94:\tlearn: 0.1531618\ttotal: 291ms\tremaining: 15.3ms\n",
      "95:\tlearn: 0.1526107\ttotal: 294ms\tremaining: 12.2ms\n",
      "96:\tlearn: 0.1521497\ttotal: 298ms\tremaining: 9.21ms\n",
      "97:\tlearn: 0.1518115\ttotal: 301ms\tremaining: 6.15ms\n",
      "98:\tlearn: 0.1516595\ttotal: 305ms\tremaining: 3.08ms\n",
      "99:\tlearn: 0.1513831\ttotal: 308ms\tremaining: 0us\n"
     ]
    }
   ],
   "source": [
    "from catboost import Pool, CatBoostClassifier\n",
    "from sklearn.model_selection import RepeatedStratifiedKFold\n",
    "from sklearn.metrics import roc_auc_score, average_precision_score, accuracy_score\n",
    "import collections\n",
    "from fairlearn.metrics import MetricFrame\n",
    "\n",
    "TARGET_COL = 'target'\n",
    "\n",
    "train_dataset = Pool(data=df_train[cols],\n",
    "                     label=df_train[TARGET_COL],\n",
    "                     cat_features=cat_cols)\n",
    "\n",
    "eval_dataset = Pool(data=df_test[cols],\n",
    "                    label=None,\n",
    "                    cat_features=cat_cols)\n",
    "\n",
    "# y_eval = pd.get_dummies(eval_df[TARGET_COL]).to_numpy()\n",
    "# Initialize CatBoostClassifier\n",
    "model = CatBoostClassifier(**hyperparams)\n",
    "# Fit model\n",
    "model.fit(train_dataset, verbose=True)\n",
    "# Get predicted classes\n",
    "preds_class = model.predict(eval_dataset)\n",
    "#     # Get predicted probabilities for each class\n",
    "preds_proba = model.predict_proba(eval_dataset)\n",
    "#     # Get predicted RawFormulaVal\n",
    "#     preds_raw = model.predict(eval_dataset, \n",
    "#                               prediction_type='RawFormulaVal')\n",
    "\n",
    "feature_importances.append(model.get_feature_importance())"
   ]
  },
  {
   "cell_type": "code",
   "execution_count": 27,
   "metadata": {},
   "outputs": [
    {
     "data": {
      "text/html": [
       "<div>\n",
       "<style scoped>\n",
       "    .dataframe tbody tr th:only-of-type {\n",
       "        vertical-align: middle;\n",
       "    }\n",
       "\n",
       "    .dataframe tbody tr th {\n",
       "        vertical-align: top;\n",
       "    }\n",
       "\n",
       "    .dataframe thead th {\n",
       "        text-align: right;\n",
       "    }\n",
       "</style>\n",
       "<table border=\"1\" class=\"dataframe\">\n",
       "  <thead>\n",
       "    <tr style=\"text-align: right;\">\n",
       "      <th></th>\n",
       "      <th>feature</th>\n",
       "      <th>importance</th>\n",
       "      <th>std</th>\n",
       "      <th>min</th>\n",
       "      <th>max</th>\n",
       "    </tr>\n",
       "  </thead>\n",
       "  <tbody>\n",
       "    <tr>\n",
       "      <th>4</th>\n",
       "      <td>days_until_recitivism</td>\n",
       "      <td>45.166270</td>\n",
       "      <td>5.135003</td>\n",
       "      <td>36.021707</td>\n",
       "      <td>54.348367</td>\n",
       "    </tr>\n",
       "    <tr>\n",
       "      <th>5</th>\n",
       "      <td>all_priors</td>\n",
       "      <td>15.388943</td>\n",
       "      <td>1.670714</td>\n",
       "      <td>10.935726</td>\n",
       "      <td>18.938471</td>\n",
       "    </tr>\n",
       "    <tr>\n",
       "      <th>3</th>\n",
       "      <td>in_custody_to_screening_days</td>\n",
       "      <td>13.090587</td>\n",
       "      <td>1.629694</td>\n",
       "      <td>9.947951</td>\n",
       "      <td>16.243051</td>\n",
       "    </tr>\n",
       "    <tr>\n",
       "      <th>2</th>\n",
       "      <td>custody_days</td>\n",
       "      <td>12.936212</td>\n",
       "      <td>1.482359</td>\n",
       "      <td>9.676692</td>\n",
       "      <td>15.956966</td>\n",
       "    </tr>\n",
       "    <tr>\n",
       "      <th>1</th>\n",
       "      <td>start</td>\n",
       "      <td>7.199344</td>\n",
       "      <td>1.193278</td>\n",
       "      <td>4.818457</td>\n",
       "      <td>10.795027</td>\n",
       "    </tr>\n",
       "    <tr>\n",
       "      <th>0</th>\n",
       "      <td>days_b_screening_arrest</td>\n",
       "      <td>6.218644</td>\n",
       "      <td>1.331033</td>\n",
       "      <td>4.248222</td>\n",
       "      <td>9.509262</td>\n",
       "    </tr>\n",
       "  </tbody>\n",
       "</table>\n",
       "</div>"
      ],
      "text/plain": [
       "                        feature  importance       std        min        max\n",
       "4         days_until_recitivism   45.166270  5.135003  36.021707  54.348367\n",
       "5                    all_priors   15.388943  1.670714  10.935726  18.938471\n",
       "3  in_custody_to_screening_days   13.090587  1.629694   9.947951  16.243051\n",
       "2                  custody_days   12.936212  1.482359   9.676692  15.956966\n",
       "1                         start    7.199344  1.193278   4.818457  10.795027\n",
       "0       days_b_screening_arrest    6.218644  1.331033   4.248222   9.509262"
      ]
     },
     "metadata": {},
     "output_type": "display_data"
    },
    {
     "data": {
      "text/plain": [
       "<AxesSubplot:ylabel='feature'>"
      ]
     },
     "metadata": {},
     "output_type": "display_data"
    },
    {
     "data": {
      "image/png": "[encoded data removed]",
      "text/plain": [
       "<Figure size 432x288 with 1 Axes>"
      ]
     },
     "metadata": {
      "needs_background": "light"
     },
     "output_type": "display_data"
    }
   ],
   "source": [
    "# Feature importances\n",
    "fi_df = pd.DataFrame({'feature': cols})\n",
    "fi_df['importance'] = np.mean(feature_importances, axis=0)\n",
    "fi_df['std'] = np.std(feature_importances, axis=0)\n",
    "fi_df['min'] = np.min(feature_importances, axis=0)\n",
    "fi_df['max'] = np.max(feature_importances, axis=0)\n",
    "fi_df = fi_df.sort_values('importance', ascending=False)\n",
    "display(fi_df)\n",
    "display(fi_df[['feature', 'importance']].sort_values('importance', ascending=True).plot.barh(x='feature'))"
   ]
  },
  {
   "cell_type": "code",
   "execution_count": 28,
   "metadata": {
    "scrolled": true
   },
   "outputs": [
    {
     "name": "stdout",
     "output_type": "stream",
     "text": [
      "Predictions were exported to \"y_test.csv\". Upload them at https://share.streamlit.io/mkleinbort/kaggle-compas/main/app.py\n"
     ]
    }
   ],
   "source": [
    "out_cols = ['No-Recidivism', 'Non-Violent', 'Violent']\n",
    "out_df = pd.DataFrame(preds_proba, columns=out_cols)\n",
    "\n",
    "# Make sure that classes are in the right order and the highest prediction corresponds to predicted class\n",
    "out_df['class'] = out_df.apply(lambda x: out_cols[np.argmax(x[out_cols])], axis=1)\n",
    "assert (out_df['class'] == preds_class.ravel()).all()\n",
    "out_df = out_df[out_cols]\n",
    "\n",
    "out_df.to_csv('y_test.csv', index=False)\n",
    "\n",
    "import urllib.parse\n",
    "upload_link = urllib.parse.quote('share.streamlit.io/mkleinbort/kaggle-compas/main/app.py')\n",
    "y_test_link = urllib.parse.quote('y_test.csv')\n",
    "print(f'Predictions were exported to \"y_test.csv\". Upload them at https://{upload_link}')"
   ]
  },
  {
   "cell_type": "code",
   "execution_count": 29,
   "metadata": {},
   "outputs": [
    {
     "data": {
      "text/html": [
       "<div>\n",
       "<style scoped>\n",
       "    .dataframe tbody tr th:only-of-type {\n",
       "        vertical-align: middle;\n",
       "    }\n",
       "\n",
       "    .dataframe tbody tr th {\n",
       "        vertical-align: top;\n",
       "    }\n",
       "\n",
       "    .dataframe thead th {\n",
       "        text-align: right;\n",
       "    }\n",
       "</style>\n",
       "<table border=\"1\" class=\"dataframe\">\n",
       "  <thead>\n",
       "    <tr style=\"text-align: right;\">\n",
       "      <th></th>\n",
       "      <th>No-Recidivism</th>\n",
       "      <th>Non-Violent</th>\n",
       "      <th>Violent</th>\n",
       "    </tr>\n",
       "  </thead>\n",
       "  <tbody>\n",
       "    <tr>\n",
       "      <th>0</th>\n",
       "      <td>0.984489</td>\n",
       "      <td>0.008702</td>\n",
       "      <td>0.006809</td>\n",
       "    </tr>\n",
       "    <tr>\n",
       "      <th>1</th>\n",
       "      <td>0.984823</td>\n",
       "      <td>0.013153</td>\n",
       "      <td>0.002024</td>\n",
       "    </tr>\n",
       "    <tr>\n",
       "      <th>2</th>\n",
       "      <td>0.000425</td>\n",
       "      <td>0.998981</td>\n",
       "      <td>0.000594</td>\n",
       "    </tr>\n",
       "    <tr>\n",
       "      <th>3</th>\n",
       "      <td>0.978306</td>\n",
       "      <td>0.009404</td>\n",
       "      <td>0.012290</td>\n",
       "    </tr>\n",
       "    <tr>\n",
       "      <th>4</th>\n",
       "      <td>0.956727</td>\n",
       "      <td>0.033483</td>\n",
       "      <td>0.009789</td>\n",
       "    </tr>\n",
       "    <tr>\n",
       "      <th>...</th>\n",
       "      <td>...</td>\n",
       "      <td>...</td>\n",
       "      <td>...</td>\n",
       "    </tr>\n",
       "    <tr>\n",
       "      <th>944</th>\n",
       "      <td>0.983143</td>\n",
       "      <td>0.005031</td>\n",
       "      <td>0.011826</td>\n",
       "    </tr>\n",
       "    <tr>\n",
       "      <th>945</th>\n",
       "      <td>0.872035</td>\n",
       "      <td>0.117047</td>\n",
       "      <td>0.010918</td>\n",
       "    </tr>\n",
       "    <tr>\n",
       "      <th>946</th>\n",
       "      <td>0.963638</td>\n",
       "      <td>0.018220</td>\n",
       "      <td>0.018142</td>\n",
       "    </tr>\n",
       "    <tr>\n",
       "      <th>947</th>\n",
       "      <td>0.000247</td>\n",
       "      <td>0.994361</td>\n",
       "      <td>0.005392</td>\n",
       "    </tr>\n",
       "    <tr>\n",
       "      <th>948</th>\n",
       "      <td>0.958383</td>\n",
       "      <td>0.009900</td>\n",
       "      <td>0.031716</td>\n",
       "    </tr>\n",
       "  </tbody>\n",
       "</table>\n",
       "<p>949 rows × 3 columns</p>\n",
       "</div>"
      ],
      "text/plain": [
       "     No-Recidivism  Non-Violent   Violent\n",
       "0         0.984489     0.008702  0.006809\n",
       "1         0.984823     0.013153  0.002024\n",
       "2         0.000425     0.998981  0.000594\n",
       "3         0.978306     0.009404  0.012290\n",
       "4         0.956727     0.033483  0.009789\n",
       "..             ...          ...       ...\n",
       "944       0.983143     0.005031  0.011826\n",
       "945       0.872035     0.117047  0.010918\n",
       "946       0.963638     0.018220  0.018142\n",
       "947       0.000247     0.994361  0.005392\n",
       "948       0.958383     0.009900  0.031716\n",
       "\n",
       "[949 rows x 3 columns]"
      ]
     },
     "execution_count": 29,
     "metadata": {},
     "output_type": "execute_result"
    }
   ],
   "source": [
    "out_df"
   ]
  },
  {
   "cell_type": "markdown",
   "metadata": {},
   "source": [
    "# Evaluations log\n",
    "## 30/03/2021 22:18 JK\n",
    "### Columns\n",
    "['days_b_screening_arrest',\n",
    " 'start',\n",
    " 'custody_days',\n",
    " 'in_custody_to_screening_days',\n",
    " 'days_until_recitivism',\n",
    " 'all_priors']\n",
    " \n",
    "### Hyperparams\n",
    "```\n",
    "iterations=100,\n",
    "learning_rate=1, (BEST)\n",
    "depth=3, (BEST)\n",
    "loss_function='MultiClass'\n",
    "```\n",
    "\n",
    "## Results\n",
    "### CV\n",
    "```\n",
    "ROC-AUC 88.65% (STD: 1.68%)\n",
    "Fairness: 73.54% (STD: 3.81%)\n",
    "Score: 81.10%\n",
    "```\n",
    "\n",
    "### Online\n",
    "```\n",
    "You scored: 87.20% in accuracy and 68.96% in fairness.\n",
    "\n",
    "Overall Score: 78.08%\n",
    "```"
   ]
  },
  {
   "cell_type": "markdown",
   "metadata": {},
   "source": [
    "# Baysian Optimisation"
   ]
  },
  {
   "cell_type": "markdown",
   "metadata": {},
   "source": [
    "### Optimising using Expected Improvement"
   ]
  },
  {
   "cell_type": "code",
   "execution_count": null,
   "metadata": {},
   "outputs": [],
   "source": [
    "from sklearn.gaussian_process import GaussianProcessRegressor\n",
    "from sklearn.gaussian_process.kernels import Matern\n",
    "from skopt import gp_minimize\n",
    "\n",
    "# defining the kernel for the Gaussian process\n",
    "kernel = Matern(length_scale=1.0)\n",
    "TARGET_COL = 'target_int'\n",
    "\n",
    "X = df_train[cols].fillna(0)\n",
    "y = df_train[TARGET_COL]\n",
    "\n",
    "# initialise number of queries\n",
    "N_QUERY = 5\n",
    "\n",
    "# initialise the regressor\n",
    "gpr = GaussianProcessRegressor(kernel=kernel).fit(X, y)\n",
    "gpr.score(X, y)\n",
    "    "
   ]
  },
  {
   "cell_type": "code",
   "execution_count": null,
   "metadata": {},
   "outputs": [],
   "source": [
    "from skopt.plots import plot_convergence\n",
    "\n",
    "res = gp_minimize()\n",
    "plot_convergence(res);"
   ]
  },
  {
   "cell_type": "code",
   "execution_count": null,
   "metadata": {},
   "outputs": [],
   "source": [
    "from bayes_opt import BayesianOptimization\n",
    "\n",
    "\n",
    "\n",
    "\n",
    "\n",
    "\n",
    "\n",
    "\n",
    "\n",
    "\n",
    "# import matplotlib.pyplot as plt\n",
    "\n",
    "# with plt.style.context('seaborn-white'):\n",
    "#     plt.figure(figsize=(10, 5))\n",
    "#     plt.scatter(optimizer.X_training, optimizer.y_training, c='k', s=50, label='Queried')\n",
    "#     plt.scatter(X_max, y_max, s=100, c='r', label='Current optimum')\n",
    "#     plt.plot(X.ravel(), y, c='k', linewidth=2, label='Function')\n",
    "#     plt.plot(X.ravel(), y_pred, label='GP regressor')\n",
    "#     plt.fill_between(X.ravel(), y_pred - y_std, y_pred + y_std, alpha=0.5)\n",
    "#     plt.title('First five queries of Bayesian optimization')\n",
    "#     plt.legend()\n",
    "#     plt.show()\n"
   ]
  }
 ],
 "metadata": {
  "kernelspec": {
   "display_name": "Python 3",
   "language": "python",
   "name": "python3"
  },
  "language_info": {
   "codemirror_mode": {
    "name": "ipython",
    "version": 3
   },
   "file_extension": ".py",
   "mimetype": "text/x-python",
   "name": "python",
   "nbconvert_exporter": "python",
   "pygments_lexer": "ipython3",
   "version": "3.9.1"
  }
 },
 "nbformat": 4,
 "nbformat_minor": 4
}
